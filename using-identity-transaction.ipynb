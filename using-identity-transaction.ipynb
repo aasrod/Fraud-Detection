{
 "cells": [
  {
   "cell_type": "code",
   "execution_count": 1,
   "metadata": {
    "_cell_guid": "b1076dfc-b9ad-4769-8c92-a6c4dae69d19",
    "_uuid": "8f2839f25d086af736a60e9eeb907d3b93b6e0e5",
    "execution": {
     "iopub.execute_input": "2021-01-15T08:57:49.437042Z",
     "iopub.status.busy": "2021-01-15T08:57:49.436155Z",
     "iopub.status.idle": "2021-01-15T08:57:49.441827Z",
     "shell.execute_reply": "2021-01-15T08:57:49.440964Z"
    },
    "papermill": {
     "duration": 0.077193,
     "end_time": "2021-01-15T08:57:49.441984",
     "exception": false,
     "start_time": "2021-01-15T08:57:49.364791",
     "status": "completed"
    },
    "tags": []
   },
   "outputs": [
    {
     "name": "stdout",
     "output_type": "stream",
     "text": [
      "/kaggle/input/ieee-fraud-detection/sample_submission.csv\n",
      "/kaggle/input/ieee-fraud-detection/test_identity.csv\n",
      "/kaggle/input/ieee-fraud-detection/train_identity.csv\n",
      "/kaggle/input/ieee-fraud-detection/test_transaction.csv\n",
      "/kaggle/input/ieee-fraud-detection/train_transaction.csv\n"
     ]
    }
   ],
   "source": [
    "# This Python 3 environment comes with many helpful analytics libraries installed\n",
    "# It is defined by the kaggle/python Docker image: https://github.com/kaggle/docker-python\n",
    "# For example, here's several helpful packages to load\n",
    "\n",
    "import numpy as np # linear algebra\n",
    "import pandas as pd # data processing, CSV file I/O (e.g. pd.read_csv)\n",
    "\n",
    "# Input data files are available in the read-only \"../input/\" directory\n",
    "# For example, running this (by clicking run or pressing Shift+Enter) will list all files under the input directory\n",
    "\n",
    "import os\n",
    "for dirname, _, filenames in os.walk('/kaggle/input'):\n",
    "    for filename in filenames:\n",
    "        print(os.path.join(dirname, filename))\n",
    "\n",
    "# You can write up to 20GB to the current directory (/kaggle/working/) that gets preserved as output when you create a version using \"Save & Run All\" \n",
    "# You can also write temporary files to /kaggle/temp/, but they won't be saved outside of the current session"
   ]
  },
  {
   "cell_type": "code",
   "execution_count": 2,
   "metadata": {
    "execution": {
     "iopub.execute_input": "2021-01-15T08:57:49.649900Z",
     "iopub.status.busy": "2021-01-15T08:57:49.648980Z",
     "iopub.status.idle": "2021-01-15T08:58:41.371526Z",
     "shell.execute_reply": "2021-01-15T08:58:41.370963Z"
    },
    "papermill": {
     "duration": 51.828759,
     "end_time": "2021-01-15T08:58:41.371650",
     "exception": false,
     "start_time": "2021-01-15T08:57:49.542891",
     "status": "completed"
    },
    "tags": []
   },
   "outputs": [],
   "source": [
    "train_identity=pd.read_csv('../input/ieee-fraud-detection/train_identity.csv')\n",
    "train_transaction=pd.read_csv('../input/ieee-fraud-detection/train_transaction.csv')\n",
    "test_identity=pd.read_csv('../input/ieee-fraud-detection/test_identity.csv')\n",
    "test_transaction=pd.read_csv('../input/ieee-fraud-detection/test_transaction.csv')"
   ]
  },
  {
   "cell_type": "code",
   "execution_count": 3,
   "metadata": {
    "execution": {
     "iopub.execute_input": "2021-01-15T08:58:41.511841Z",
     "iopub.status.busy": "2021-01-15T08:58:41.511043Z",
     "iopub.status.idle": "2021-01-15T08:58:41.517586Z",
     "shell.execute_reply": "2021-01-15T08:58:41.516332Z"
    },
    "papermill": {
     "duration": 0.080146,
     "end_time": "2021-01-15T08:58:41.517782",
     "exception": false,
     "start_time": "2021-01-15T08:58:41.437636",
     "status": "completed"
    },
    "tags": []
   },
   "outputs": [
    {
     "data": {
      "text/plain": [
       "Index(['TransactionID', 'isFraud', 'TransactionDT', 'TransactionAmt',\n",
       "       'ProductCD', 'card1', 'card2', 'card3', 'card4', 'card5',\n",
       "       ...\n",
       "       'V330', 'V331', 'V332', 'V333', 'V334', 'V335', 'V336', 'V337', 'V338',\n",
       "       'V339'],\n",
       "      dtype='object', length=394)"
      ]
     },
     "execution_count": 3,
     "metadata": {},
     "output_type": "execute_result"
    }
   ],
   "source": [
    "train_transaction.columns"
   ]
  },
  {
   "cell_type": "code",
   "execution_count": 4,
   "metadata": {
    "execution": {
     "iopub.execute_input": "2021-01-15T08:58:41.655173Z",
     "iopub.status.busy": "2021-01-15T08:58:41.654532Z",
     "iopub.status.idle": "2021-01-15T08:58:41.660847Z",
     "shell.execute_reply": "2021-01-15T08:58:41.661380Z"
    },
    "papermill": {
     "duration": 0.077677,
     "end_time": "2021-01-15T08:58:41.661532",
     "exception": false,
     "start_time": "2021-01-15T08:58:41.583855",
     "status": "completed"
    },
    "tags": []
   },
   "outputs": [
    {
     "data": {
      "text/plain": [
       "Index(['TransactionID', 'TransactionDT', 'TransactionAmt', 'ProductCD',\n",
       "       'card1', 'card2', 'card3', 'card4', 'card5', 'card6',\n",
       "       ...\n",
       "       'V330', 'V331', 'V332', 'V333', 'V334', 'V335', 'V336', 'V337', 'V338',\n",
       "       'V339'],\n",
       "      dtype='object', length=393)"
      ]
     },
     "execution_count": 4,
     "metadata": {},
     "output_type": "execute_result"
    }
   ],
   "source": [
    "test_transaction.columns"
   ]
  },
  {
   "cell_type": "code",
   "execution_count": 5,
   "metadata": {
    "execution": {
     "iopub.execute_input": "2021-01-15T08:58:41.800475Z",
     "iopub.status.busy": "2021-01-15T08:58:41.799670Z",
     "iopub.status.idle": "2021-01-15T08:58:41.804807Z",
     "shell.execute_reply": "2021-01-15T08:58:41.803812Z"
    },
    "papermill": {
     "duration": 0.077443,
     "end_time": "2021-01-15T08:58:41.804939",
     "exception": false,
     "start_time": "2021-01-15T08:58:41.727496",
     "status": "completed"
    },
    "tags": []
   },
   "outputs": [
    {
     "data": {
      "text/plain": [
       "Index(['TransactionID', 'id_01', 'id_02', 'id_03', 'id_04', 'id_05', 'id_06',\n",
       "       'id_07', 'id_08', 'id_09', 'id_10', 'id_11', 'id_12', 'id_13', 'id_14',\n",
       "       'id_15', 'id_16', 'id_17', 'id_18', 'id_19', 'id_20', 'id_21', 'id_22',\n",
       "       'id_23', 'id_24', 'id_25', 'id_26', 'id_27', 'id_28', 'id_29', 'id_30',\n",
       "       'id_31', 'id_32', 'id_33', 'id_34', 'id_35', 'id_36', 'id_37', 'id_38',\n",
       "       'DeviceType', 'DeviceInfo'],\n",
       "      dtype='object')"
      ]
     },
     "execution_count": 5,
     "metadata": {},
     "output_type": "execute_result"
    }
   ],
   "source": [
    "train_identity.columns"
   ]
  },
  {
   "cell_type": "code",
   "execution_count": 6,
   "metadata": {
    "execution": {
     "iopub.execute_input": "2021-01-15T08:58:42.011642Z",
     "iopub.status.busy": "2021-01-15T08:58:42.010768Z",
     "iopub.status.idle": "2021-01-15T08:58:42.014051Z",
     "shell.execute_reply": "2021-01-15T08:58:42.014740Z"
    },
    "papermill": {
     "duration": 0.109126,
     "end_time": "2021-01-15T08:58:42.014902",
     "exception": false,
     "start_time": "2021-01-15T08:58:41.905776",
     "status": "completed"
    },
    "tags": []
   },
   "outputs": [
    {
     "data": {
      "text/plain": [
       "Index(['TransactionID', 'id-01', 'id-02', 'id-03', 'id-04', 'id-05', 'id-06',\n",
       "       'id-07', 'id-08', 'id-09', 'id-10', 'id-11', 'id-12', 'id-13', 'id-14',\n",
       "       'id-15', 'id-16', 'id-17', 'id-18', 'id-19', 'id-20', 'id-21', 'id-22',\n",
       "       'id-23', 'id-24', 'id-25', 'id-26', 'id-27', 'id-28', 'id-29', 'id-30',\n",
       "       'id-31', 'id-32', 'id-33', 'id-34', 'id-35', 'id-36', 'id-37', 'id-38',\n",
       "       'DeviceType', 'DeviceInfo'],\n",
       "      dtype='object')"
      ]
     },
     "execution_count": 6,
     "metadata": {},
     "output_type": "execute_result"
    }
   ],
   "source": [
    "test_identity.columns"
   ]
  },
  {
   "cell_type": "code",
   "execution_count": 7,
   "metadata": {
    "execution": {
     "iopub.execute_input": "2021-01-15T08:58:42.227178Z",
     "iopub.status.busy": "2021-01-15T08:58:42.226330Z",
     "iopub.status.idle": "2021-01-15T08:58:42.233103Z",
     "shell.execute_reply": "2021-01-15T08:58:42.232480Z"
    },
    "papermill": {
     "duration": 0.115118,
     "end_time": "2021-01-15T08:58:42.233224",
     "exception": false,
     "start_time": "2021-01-15T08:58:42.118106",
     "status": "completed"
    },
    "tags": []
   },
   "outputs": [
    {
     "name": "stdout",
     "output_type": "stream",
     "text": [
      "train_transaction: (590540, 394) *** train_identity: (144233, 41)\n",
      "test_transaction: (506691, 393) *** test_identity: (141907, 41)\n"
     ]
    }
   ],
   "source": [
    "print(\"train_transaction: \"+str(train_transaction.shape)+\" *** train_identity: \"+str(train_identity.shape))\n",
    "print(\"test_transaction: \"+str(test_transaction.shape)+\" *** test_identity: \"+str(test_identity.shape))"
   ]
  },
  {
   "cell_type": "markdown",
   "metadata": {
    "papermill": {
     "duration": 0.066342,
     "end_time": "2021-01-15T08:58:42.366915",
     "exception": false,
     "start_time": "2021-01-15T08:58:42.300573",
     "status": "completed"
    },
    "tags": []
   },
   "source": [
    "# Conclusion: \n",
    "### since train/test_transaction and train/test_identity have different number of rows after merging these two datasets together we woulg have 41 null features for 590540-144233 of our data, therefore we omit those rows."
   ]
  },
  {
   "cell_type": "code",
   "execution_count": 8,
   "metadata": {
    "execution": {
     "iopub.execute_input": "2021-01-15T08:58:42.512155Z",
     "iopub.status.busy": "2021-01-15T08:58:42.510092Z",
     "iopub.status.idle": "2021-01-15T08:58:43.803650Z",
     "shell.execute_reply": "2021-01-15T08:58:43.803070Z"
    },
    "papermill": {
     "duration": 1.370578,
     "end_time": "2021-01-15T08:58:43.803768",
     "exception": false,
     "start_time": "2021-01-15T08:58:42.433190",
     "status": "completed"
    },
    "tags": []
   },
   "outputs": [],
   "source": [
    "#merging train_transacion and train_identity\n",
    "train_transaction = pd.merge(train_transaction, train_identity, how='left', \n",
    "                 on='TransactionID', left_index=True, \n",
    "                right_index=True)"
   ]
  },
  {
   "cell_type": "code",
   "execution_count": 9,
   "metadata": {
    "execution": {
     "iopub.execute_input": "2021-01-15T08:58:43.946239Z",
     "iopub.status.busy": "2021-01-15T08:58:43.945585Z",
     "iopub.status.idle": "2021-01-15T08:58:45.040383Z",
     "shell.execute_reply": "2021-01-15T08:58:45.039750Z"
    },
    "papermill": {
     "duration": 1.166948,
     "end_time": "2021-01-15T08:58:45.040532",
     "exception": false,
     "start_time": "2021-01-15T08:58:43.873584",
     "status": "completed"
    },
    "tags": []
   },
   "outputs": [],
   "source": [
    "#merging test_transacion and test_identity\n",
    "test_transaction = pd.merge(test_transaction, test_identity, how='left', \n",
    "                 on='TransactionID', left_index=True, \n",
    "                right_index=True)"
   ]
  },
  {
   "cell_type": "code",
   "execution_count": 10,
   "metadata": {
    "execution": {
     "iopub.execute_input": "2021-01-15T08:58:45.184590Z",
     "iopub.status.busy": "2021-01-15T08:58:45.183862Z",
     "iopub.status.idle": "2021-01-15T08:58:45.189181Z",
     "shell.execute_reply": "2021-01-15T08:58:45.188501Z"
    },
    "papermill": {
     "duration": 0.07948,
     "end_time": "2021-01-15T08:58:45.189289",
     "exception": false,
     "start_time": "2021-01-15T08:58:45.109809",
     "status": "completed"
    },
    "tags": []
   },
   "outputs": [
    {
     "data": {
      "text/plain": [
       "(590540, 434)"
      ]
     },
     "execution_count": 10,
     "metadata": {},
     "output_type": "execute_result"
    }
   ],
   "source": [
    "train_transaction.shape"
   ]
  },
  {
   "cell_type": "code",
   "execution_count": 11,
   "metadata": {
    "execution": {
     "iopub.execute_input": "2021-01-15T08:58:45.334779Z",
     "iopub.status.busy": "2021-01-15T08:58:45.334138Z",
     "iopub.status.idle": "2021-01-15T08:58:45.340151Z",
     "shell.execute_reply": "2021-01-15T08:58:45.339467Z"
    },
    "papermill": {
     "duration": 0.081812,
     "end_time": "2021-01-15T08:58:45.340265",
     "exception": false,
     "start_time": "2021-01-15T08:58:45.258453",
     "status": "completed"
    },
    "tags": []
   },
   "outputs": [
    {
     "data": {
      "text/plain": [
       "(506691, 433)"
      ]
     },
     "execution_count": 11,
     "metadata": {},
     "output_type": "execute_result"
    }
   ],
   "source": [
    "test_transaction.shape"
   ]
  },
  {
   "cell_type": "markdown",
   "metadata": {
    "papermill": {
     "duration": 0.06798,
     "end_time": "2021-01-15T08:58:45.476761",
     "exception": false,
     "start_time": "2021-01-15T08:58:45.408781",
     "status": "completed"
    },
    "tags": []
   },
   "source": [
    "# Train-data stuff"
   ]
  },
  {
   "cell_type": "code",
   "execution_count": 12,
   "metadata": {
    "execution": {
     "iopub.execute_input": "2021-01-15T08:58:45.621250Z",
     "iopub.status.busy": "2021-01-15T08:58:45.620418Z",
     "iopub.status.idle": "2021-01-15T08:58:45.626571Z",
     "shell.execute_reply": "2021-01-15T08:58:45.625676Z"
    },
    "papermill": {
     "duration": 0.080973,
     "end_time": "2021-01-15T08:58:45.626710",
     "exception": false,
     "start_time": "2021-01-15T08:58:45.545737",
     "status": "completed"
    },
    "tags": []
   },
   "outputs": [],
   "source": [
    "train_transaction=train_transaction.iloc[:144233,:]"
   ]
  },
  {
   "cell_type": "code",
   "execution_count": 13,
   "metadata": {
    "execution": {
     "iopub.execute_input": "2021-01-15T08:58:45.841851Z",
     "iopub.status.busy": "2021-01-15T08:58:45.840216Z",
     "iopub.status.idle": "2021-01-15T08:58:46.086102Z",
     "shell.execute_reply": "2021-01-15T08:58:46.086640Z"
    },
    "papermill": {
     "duration": 0.356326,
     "end_time": "2021-01-15T08:58:46.086775",
     "exception": false,
     "start_time": "2021-01-15T08:58:45.730449",
     "status": "completed"
    },
    "tags": []
   },
   "outputs": [
    {
     "data": {
      "text/html": [
       "<div>\n",
       "<style scoped>\n",
       "    .dataframe tbody tr th:only-of-type {\n",
       "        vertical-align: middle;\n",
       "    }\n",
       "\n",
       "    .dataframe tbody tr th {\n",
       "        vertical-align: top;\n",
       "    }\n",
       "\n",
       "    .dataframe thead th {\n",
       "        text-align: right;\n",
       "    }\n",
       "</style>\n",
       "<table border=\"1\" class=\"dataframe\">\n",
       "  <thead>\n",
       "    <tr style=\"text-align: right;\">\n",
       "      <th></th>\n",
       "      <th>TransactionID</th>\n",
       "      <th>isFraud</th>\n",
       "      <th>TransactionDT</th>\n",
       "      <th>TransactionAmt</th>\n",
       "      <th>ProductCD</th>\n",
       "      <th>card1</th>\n",
       "      <th>card2</th>\n",
       "      <th>card3</th>\n",
       "      <th>card4</th>\n",
       "      <th>card5</th>\n",
       "      <th>...</th>\n",
       "      <th>id_31</th>\n",
       "      <th>id_32</th>\n",
       "      <th>id_33</th>\n",
       "      <th>id_34</th>\n",
       "      <th>id_35</th>\n",
       "      <th>id_36</th>\n",
       "      <th>id_37</th>\n",
       "      <th>id_38</th>\n",
       "      <th>DeviceType</th>\n",
       "      <th>DeviceInfo</th>\n",
       "    </tr>\n",
       "  </thead>\n",
       "  <tbody>\n",
       "    <tr>\n",
       "      <th>0</th>\n",
       "      <td>2987000</td>\n",
       "      <td>0</td>\n",
       "      <td>86400</td>\n",
       "      <td>68.50</td>\n",
       "      <td>W</td>\n",
       "      <td>13926</td>\n",
       "      <td>NaN</td>\n",
       "      <td>150.0</td>\n",
       "      <td>discover</td>\n",
       "      <td>142.0</td>\n",
       "      <td>...</td>\n",
       "      <td>samsung browser 6.2</td>\n",
       "      <td>32.0</td>\n",
       "      <td>2220x1080</td>\n",
       "      <td>match_status:2</td>\n",
       "      <td>T</td>\n",
       "      <td>F</td>\n",
       "      <td>T</td>\n",
       "      <td>T</td>\n",
       "      <td>mobile</td>\n",
       "      <td>SAMSUNG SM-G892A Build/NRD90M</td>\n",
       "    </tr>\n",
       "    <tr>\n",
       "      <th>1</th>\n",
       "      <td>2987001</td>\n",
       "      <td>0</td>\n",
       "      <td>86401</td>\n",
       "      <td>29.00</td>\n",
       "      <td>W</td>\n",
       "      <td>2755</td>\n",
       "      <td>404.0</td>\n",
       "      <td>150.0</td>\n",
       "      <td>mastercard</td>\n",
       "      <td>102.0</td>\n",
       "      <td>...</td>\n",
       "      <td>mobile safari 11.0</td>\n",
       "      <td>32.0</td>\n",
       "      <td>1334x750</td>\n",
       "      <td>match_status:1</td>\n",
       "      <td>T</td>\n",
       "      <td>F</td>\n",
       "      <td>F</td>\n",
       "      <td>T</td>\n",
       "      <td>mobile</td>\n",
       "      <td>iOS Device</td>\n",
       "    </tr>\n",
       "    <tr>\n",
       "      <th>2</th>\n",
       "      <td>2987002</td>\n",
       "      <td>0</td>\n",
       "      <td>86469</td>\n",
       "      <td>59.00</td>\n",
       "      <td>W</td>\n",
       "      <td>4663</td>\n",
       "      <td>490.0</td>\n",
       "      <td>150.0</td>\n",
       "      <td>visa</td>\n",
       "      <td>166.0</td>\n",
       "      <td>...</td>\n",
       "      <td>chrome 62.0</td>\n",
       "      <td>NaN</td>\n",
       "      <td>NaN</td>\n",
       "      <td>NaN</td>\n",
       "      <td>F</td>\n",
       "      <td>F</td>\n",
       "      <td>T</td>\n",
       "      <td>T</td>\n",
       "      <td>desktop</td>\n",
       "      <td>Windows</td>\n",
       "    </tr>\n",
       "    <tr>\n",
       "      <th>3</th>\n",
       "      <td>2987003</td>\n",
       "      <td>0</td>\n",
       "      <td>86499</td>\n",
       "      <td>50.00</td>\n",
       "      <td>W</td>\n",
       "      <td>18132</td>\n",
       "      <td>567.0</td>\n",
       "      <td>150.0</td>\n",
       "      <td>mastercard</td>\n",
       "      <td>117.0</td>\n",
       "      <td>...</td>\n",
       "      <td>chrome 62.0</td>\n",
       "      <td>NaN</td>\n",
       "      <td>NaN</td>\n",
       "      <td>NaN</td>\n",
       "      <td>F</td>\n",
       "      <td>F</td>\n",
       "      <td>T</td>\n",
       "      <td>T</td>\n",
       "      <td>desktop</td>\n",
       "      <td>NaN</td>\n",
       "    </tr>\n",
       "    <tr>\n",
       "      <th>4</th>\n",
       "      <td>2987004</td>\n",
       "      <td>0</td>\n",
       "      <td>86506</td>\n",
       "      <td>50.00</td>\n",
       "      <td>H</td>\n",
       "      <td>4497</td>\n",
       "      <td>514.0</td>\n",
       "      <td>150.0</td>\n",
       "      <td>mastercard</td>\n",
       "      <td>102.0</td>\n",
       "      <td>...</td>\n",
       "      <td>chrome 62.0</td>\n",
       "      <td>24.0</td>\n",
       "      <td>1280x800</td>\n",
       "      <td>match_status:2</td>\n",
       "      <td>T</td>\n",
       "      <td>F</td>\n",
       "      <td>T</td>\n",
       "      <td>T</td>\n",
       "      <td>desktop</td>\n",
       "      <td>MacOS</td>\n",
       "    </tr>\n",
       "    <tr>\n",
       "      <th>...</th>\n",
       "      <td>...</td>\n",
       "      <td>...</td>\n",
       "      <td>...</td>\n",
       "      <td>...</td>\n",
       "      <td>...</td>\n",
       "      <td>...</td>\n",
       "      <td>...</td>\n",
       "      <td>...</td>\n",
       "      <td>...</td>\n",
       "      <td>...</td>\n",
       "      <td>...</td>\n",
       "      <td>...</td>\n",
       "      <td>...</td>\n",
       "      <td>...</td>\n",
       "      <td>...</td>\n",
       "      <td>...</td>\n",
       "      <td>...</td>\n",
       "      <td>...</td>\n",
       "      <td>...</td>\n",
       "      <td>...</td>\n",
       "      <td>...</td>\n",
       "    </tr>\n",
       "    <tr>\n",
       "      <th>144228</th>\n",
       "      <td>3131228</td>\n",
       "      <td>0</td>\n",
       "      <td>2970544</td>\n",
       "      <td>59.00</td>\n",
       "      <td>W</td>\n",
       "      <td>9500</td>\n",
       "      <td>321.0</td>\n",
       "      <td>150.0</td>\n",
       "      <td>visa</td>\n",
       "      <td>226.0</td>\n",
       "      <td>...</td>\n",
       "      <td>chrome 66.0 for android</td>\n",
       "      <td>NaN</td>\n",
       "      <td>NaN</td>\n",
       "      <td>NaN</td>\n",
       "      <td>F</td>\n",
       "      <td>F</td>\n",
       "      <td>T</td>\n",
       "      <td>F</td>\n",
       "      <td>mobile</td>\n",
       "      <td>F3111 Build/33.3.A.1.97</td>\n",
       "    </tr>\n",
       "    <tr>\n",
       "      <th>144229</th>\n",
       "      <td>3131229</td>\n",
       "      <td>0</td>\n",
       "      <td>2970732</td>\n",
       "      <td>67.95</td>\n",
       "      <td>W</td>\n",
       "      <td>7919</td>\n",
       "      <td>194.0</td>\n",
       "      <td>150.0</td>\n",
       "      <td>mastercard</td>\n",
       "      <td>202.0</td>\n",
       "      <td>...</td>\n",
       "      <td>chrome 55.0 for android</td>\n",
       "      <td>32.0</td>\n",
       "      <td>855x480</td>\n",
       "      <td>match_status:2</td>\n",
       "      <td>T</td>\n",
       "      <td>F</td>\n",
       "      <td>T</td>\n",
       "      <td>F</td>\n",
       "      <td>mobile</td>\n",
       "      <td>A574BL Build/NMF26F</td>\n",
       "    </tr>\n",
       "    <tr>\n",
       "      <th>144230</th>\n",
       "      <td>3131230</td>\n",
       "      <td>0</td>\n",
       "      <td>2970770</td>\n",
       "      <td>73.00</td>\n",
       "      <td>W</td>\n",
       "      <td>17131</td>\n",
       "      <td>111.0</td>\n",
       "      <td>150.0</td>\n",
       "      <td>mastercard</td>\n",
       "      <td>224.0</td>\n",
       "      <td>...</td>\n",
       "      <td>chrome 65.0 for android</td>\n",
       "      <td>NaN</td>\n",
       "      <td>NaN</td>\n",
       "      <td>NaN</td>\n",
       "      <td>F</td>\n",
       "      <td>F</td>\n",
       "      <td>T</td>\n",
       "      <td>F</td>\n",
       "      <td>mobile</td>\n",
       "      <td>Moto E (4) Plus Build/NMA26.42-152</td>\n",
       "    </tr>\n",
       "    <tr>\n",
       "      <th>144231</th>\n",
       "      <td>3131231</td>\n",
       "      <td>0</td>\n",
       "      <td>2970806</td>\n",
       "      <td>205.70</td>\n",
       "      <td>W</td>\n",
       "      <td>5986</td>\n",
       "      <td>533.0</td>\n",
       "      <td>150.0</td>\n",
       "      <td>mastercard</td>\n",
       "      <td>224.0</td>\n",
       "      <td>...</td>\n",
       "      <td>chrome 66.0</td>\n",
       "      <td>24.0</td>\n",
       "      <td>2560x1600</td>\n",
       "      <td>match_status:2</td>\n",
       "      <td>T</td>\n",
       "      <td>F</td>\n",
       "      <td>T</td>\n",
       "      <td>F</td>\n",
       "      <td>desktop</td>\n",
       "      <td>MacOS</td>\n",
       "    </tr>\n",
       "    <tr>\n",
       "      <th>144232</th>\n",
       "      <td>3131232</td>\n",
       "      <td>0</td>\n",
       "      <td>2970817</td>\n",
       "      <td>213.00</td>\n",
       "      <td>W</td>\n",
       "      <td>1906</td>\n",
       "      <td>199.0</td>\n",
       "      <td>150.0</td>\n",
       "      <td>mastercard</td>\n",
       "      <td>224.0</td>\n",
       "      <td>...</td>\n",
       "      <td>chrome 66.0 for android</td>\n",
       "      <td>NaN</td>\n",
       "      <td>NaN</td>\n",
       "      <td>NaN</td>\n",
       "      <td>F</td>\n",
       "      <td>F</td>\n",
       "      <td>T</td>\n",
       "      <td>F</td>\n",
       "      <td>mobile</td>\n",
       "      <td>RNE-L03 Build/HUAWEIRNE-L03</td>\n",
       "    </tr>\n",
       "  </tbody>\n",
       "</table>\n",
       "<p>144233 rows × 434 columns</p>\n",
       "</div>"
      ],
      "text/plain": [
       "        TransactionID  isFraud  TransactionDT  TransactionAmt ProductCD  \\\n",
       "0             2987000        0          86400           68.50         W   \n",
       "1             2987001        0          86401           29.00         W   \n",
       "2             2987002        0          86469           59.00         W   \n",
       "3             2987003        0          86499           50.00         W   \n",
       "4             2987004        0          86506           50.00         H   \n",
       "...               ...      ...            ...             ...       ...   \n",
       "144228        3131228        0        2970544           59.00         W   \n",
       "144229        3131229        0        2970732           67.95         W   \n",
       "144230        3131230        0        2970770           73.00         W   \n",
       "144231        3131231        0        2970806          205.70         W   \n",
       "144232        3131232        0        2970817          213.00         W   \n",
       "\n",
       "        card1  card2  card3       card4  card5  ...                    id_31  \\\n",
       "0       13926    NaN  150.0    discover  142.0  ...      samsung browser 6.2   \n",
       "1        2755  404.0  150.0  mastercard  102.0  ...       mobile safari 11.0   \n",
       "2        4663  490.0  150.0        visa  166.0  ...              chrome 62.0   \n",
       "3       18132  567.0  150.0  mastercard  117.0  ...              chrome 62.0   \n",
       "4        4497  514.0  150.0  mastercard  102.0  ...              chrome 62.0   \n",
       "...       ...    ...    ...         ...    ...  ...                      ...   \n",
       "144228   9500  321.0  150.0        visa  226.0  ...  chrome 66.0 for android   \n",
       "144229   7919  194.0  150.0  mastercard  202.0  ...  chrome 55.0 for android   \n",
       "144230  17131  111.0  150.0  mastercard  224.0  ...  chrome 65.0 for android   \n",
       "144231   5986  533.0  150.0  mastercard  224.0  ...              chrome 66.0   \n",
       "144232   1906  199.0  150.0  mastercard  224.0  ...  chrome 66.0 for android   \n",
       "\n",
       "        id_32      id_33           id_34  id_35 id_36 id_37  id_38  \\\n",
       "0        32.0  2220x1080  match_status:2      T     F     T      T   \n",
       "1        32.0   1334x750  match_status:1      T     F     F      T   \n",
       "2         NaN        NaN             NaN      F     F     T      T   \n",
       "3         NaN        NaN             NaN      F     F     T      T   \n",
       "4        24.0   1280x800  match_status:2      T     F     T      T   \n",
       "...       ...        ...             ...    ...   ...   ...    ...   \n",
       "144228    NaN        NaN             NaN      F     F     T      F   \n",
       "144229   32.0    855x480  match_status:2      T     F     T      F   \n",
       "144230    NaN        NaN             NaN      F     F     T      F   \n",
       "144231   24.0  2560x1600  match_status:2      T     F     T      F   \n",
       "144232    NaN        NaN             NaN      F     F     T      F   \n",
       "\n",
       "        DeviceType                          DeviceInfo  \n",
       "0           mobile       SAMSUNG SM-G892A Build/NRD90M  \n",
       "1           mobile                          iOS Device  \n",
       "2          desktop                             Windows  \n",
       "3          desktop                                 NaN  \n",
       "4          desktop                               MacOS  \n",
       "...            ...                                 ...  \n",
       "144228      mobile             F3111 Build/33.3.A.1.97  \n",
       "144229      mobile                 A574BL Build/NMF26F  \n",
       "144230      mobile  Moto E (4) Plus Build/NMA26.42-152  \n",
       "144231     desktop                               MacOS  \n",
       "144232      mobile         RNE-L03 Build/HUAWEIRNE-L03  \n",
       "\n",
       "[144233 rows x 434 columns]"
      ]
     },
     "execution_count": 13,
     "metadata": {},
     "output_type": "execute_result"
    }
   ],
   "source": [
    "train_transaction"
   ]
  },
  {
   "cell_type": "code",
   "execution_count": 14,
   "metadata": {
    "execution": {
     "iopub.execute_input": "2021-01-15T08:58:46.231939Z",
     "iopub.status.busy": "2021-01-15T08:58:46.231262Z",
     "iopub.status.idle": "2021-01-15T08:58:46.613766Z",
     "shell.execute_reply": "2021-01-15T08:58:46.613183Z"
    },
    "papermill": {
     "duration": 0.457498,
     "end_time": "2021-01-15T08:58:46.613874",
     "exception": false,
     "start_time": "2021-01-15T08:58:46.156376",
     "status": "completed"
    },
    "tags": []
   },
   "outputs": [],
   "source": [
    "train_transaction.drop(['TransactionID','ProductCD','id_12'],axis=1,inplace=True)"
   ]
  },
  {
   "cell_type": "code",
   "execution_count": 15,
   "metadata": {
    "execution": {
     "iopub.execute_input": "2021-01-15T08:58:46.831224Z",
     "iopub.status.busy": "2021-01-15T08:58:46.830607Z",
     "iopub.status.idle": "2021-01-15T08:58:46.886524Z",
     "shell.execute_reply": "2021-01-15T08:58:46.885959Z"
    },
    "papermill": {
     "duration": 0.202868,
     "end_time": "2021-01-15T08:58:46.886639",
     "exception": false,
     "start_time": "2021-01-15T08:58:46.683771",
     "status": "completed"
    },
    "tags": []
   },
   "outputs": [
    {
     "data": {
      "text/plain": [
       "0         0\n",
       "1         0\n",
       "2         0\n",
       "3         0\n",
       "4         0\n",
       "         ..\n",
       "144228    0\n",
       "144229    0\n",
       "144230    0\n",
       "144231    0\n",
       "144232    0\n",
       "Name: isFraud, Length: 144233, dtype: int64"
      ]
     },
     "execution_count": 15,
     "metadata": {},
     "output_type": "execute_result"
    }
   ],
   "source": [
    "y=train_transaction.iloc[:,0]\n",
    "train_transaction.drop(columns='isFraud',inplace=True)\n",
    "y"
   ]
  },
  {
   "cell_type": "code",
   "execution_count": 16,
   "metadata": {
    "execution": {
     "iopub.execute_input": "2021-01-15T08:58:47.031641Z",
     "iopub.status.busy": "2021-01-15T08:58:47.030145Z",
     "iopub.status.idle": "2021-01-15T08:58:47.332139Z",
     "shell.execute_reply": "2021-01-15T08:58:47.332672Z"
    },
    "papermill": {
     "duration": 0.377152,
     "end_time": "2021-01-15T08:58:47.332839",
     "exception": false,
     "start_time": "2021-01-15T08:58:46.955687",
     "status": "completed"
    },
    "tags": []
   },
   "outputs": [
    {
     "data": {
      "text/plain": [
       "TransactionDT         0\n",
       "TransactionAmt        0\n",
       "card1                 0\n",
       "card2              1943\n",
       "card3                 3\n",
       "                  ...  \n",
       "id_36              3248\n",
       "id_37              3248\n",
       "id_38              3248\n",
       "DeviceType         3423\n",
       "DeviceInfo        25567\n",
       "Length: 430, dtype: int64"
      ]
     },
     "execution_count": 16,
     "metadata": {},
     "output_type": "execute_result"
    }
   ],
   "source": [
    "train_transaction.isnull().sum()"
   ]
  },
  {
   "cell_type": "markdown",
   "metadata": {
    "papermill": {
     "duration": 0.071244,
     "end_time": "2021-01-15T08:58:47.475763",
     "exception": false,
     "start_time": "2021-01-15T08:58:47.404519",
     "status": "completed"
    },
    "tags": []
   },
   "source": [
    "* **Columns which have more than 50% null values**"
   ]
  },
  {
   "cell_type": "code",
   "execution_count": 17,
   "metadata": {
    "execution": {
     "iopub.execute_input": "2021-01-15T08:58:47.623917Z",
     "iopub.status.busy": "2021-01-15T08:58:47.623037Z",
     "iopub.status.idle": "2021-01-15T08:58:47.959222Z",
     "shell.execute_reply": "2021-01-15T08:58:47.958402Z"
    },
    "papermill": {
     "duration": 0.411836,
     "end_time": "2021-01-15T08:58:47.959409",
     "exception": false,
     "start_time": "2021-01-15T08:58:47.547573",
     "status": "completed"
    },
    "tags": []
   },
   "outputs": [
    {
     "name": "stdout",
     "output_type": "stream",
     "text": [
      "10\n",
      "11\n",
      "13\n",
      "29\n",
      "30\n",
      "32\n",
      "33\n",
      "34\n",
      "35\n",
      "36\n",
      "38\n",
      "39\n",
      "40\n",
      "41\n",
      "43\n",
      "44\n",
      "45\n",
      "46\n",
      "47\n",
      "49\n",
      "50\n",
      "51\n",
      "52\n",
      "53\n",
      "54\n",
      "55\n",
      "56\n",
      "57\n",
      "58\n",
      "59\n",
      "60\n",
      "61\n",
      "62\n",
      "189\n",
      "190\n",
      "191\n",
      "192\n",
      "193\n",
      "194\n",
      "195\n",
      "196\n",
      "197\n",
      "198\n",
      "199\n",
      "200\n",
      "201\n",
      "202\n",
      "203\n",
      "204\n",
      "205\n",
      "206\n",
      "207\n",
      "208\n",
      "209\n",
      "210\n",
      "211\n",
      "212\n",
      "213\n",
      "214\n",
      "215\n",
      "216\n",
      "217\n",
      "218\n",
      "219\n",
      "220\n",
      "221\n",
      "222\n",
      "223\n",
      "224\n",
      "225\n",
      "226\n",
      "227\n",
      "228\n",
      "229\n",
      "230\n",
      "231\n",
      "232\n",
      "233\n",
      "234\n",
      "235\n",
      "236\n",
      "237\n",
      "238\n",
      "239\n",
      "240\n",
      "241\n",
      "242\n",
      "243\n",
      "244\n",
      "245\n",
      "246\n",
      "247\n",
      "248\n",
      "249\n",
      "250\n",
      "251\n",
      "252\n",
      "253\n",
      "254\n",
      "255\n",
      "256\n",
      "257\n",
      "258\n",
      "259\n",
      "260\n",
      "261\n",
      "262\n",
      "263\n",
      "264\n",
      "265\n",
      "266\n",
      "267\n",
      "268\n",
      "269\n",
      "270\n",
      "271\n",
      "272\n",
      "273\n",
      "274\n",
      "275\n",
      "276\n",
      "277\n",
      "278\n",
      "279\n",
      "280\n",
      "281\n",
      "282\n",
      "283\n",
      "284\n",
      "285\n",
      "286\n",
      "287\n",
      "288\n",
      "289\n",
      "290\n",
      "291\n",
      "292\n",
      "293\n",
      "294\n",
      "295\n",
      "296\n",
      "297\n",
      "298\n",
      "299\n",
      "300\n",
      "301\n",
      "302\n",
      "303\n",
      "304\n",
      "305\n",
      "306\n",
      "307\n",
      "308\n",
      "309\n",
      "310\n",
      "311\n",
      "312\n",
      "313\n",
      "314\n",
      "315\n",
      "316\n",
      "317\n",
      "318\n",
      "319\n",
      "320\n",
      "321\n",
      "322\n",
      "323\n",
      "324\n",
      "325\n",
      "326\n",
      "327\n",
      "328\n",
      "329\n",
      "373\n",
      "374\n",
      "375\n",
      "376\n",
      "377\n",
      "378\n",
      "379\n",
      "380\n",
      "381\n",
      "382\n",
      "383\n",
      "384\n",
      "385\n",
      "386\n",
      "387\n",
      "388\n",
      "389\n",
      "390\n",
      "393\n",
      "394\n",
      "397\n",
      "398\n",
      "407\n",
      "410\n",
      "411\n",
      "412\n",
      "413\n",
      "414\n",
      "415\n",
      "416\n"
     ]
    }
   ],
   "source": [
    "d=[]\n",
    "n=(train_transaction.isnull().sum()/144233)*100\n",
    "for i,j in enumerate(n):\n",
    "  if(j>50):\n",
    "    d.append(i)\n",
    "    print(i)"
   ]
  },
  {
   "cell_type": "code",
   "execution_count": 18,
   "metadata": {
    "_cell_guid": "79c7e3d0-c299-4dcb-8224-4455121ee9b0",
    "_uuid": "d629ff2d2480ee46fbb7e2d37f6b5fab8052498a",
    "execution": {
     "iopub.execute_input": "2021-01-15T08:58:48.225512Z",
     "iopub.status.busy": "2021-01-15T08:58:48.224072Z",
     "iopub.status.idle": "2021-01-15T08:58:48.264076Z",
     "shell.execute_reply": "2021-01-15T08:58:48.264778Z"
    },
    "papermill": {
     "duration": 0.196746,
     "end_time": "2021-01-15T08:58:48.264952",
     "exception": false,
     "start_time": "2021-01-15T08:58:48.068206",
     "status": "completed"
    },
    "tags": []
   },
   "outputs": [],
   "source": [
    "fields=train_transaction.columns[d]\n",
    "fields=np.array(fields)\n",
    "train_transaction.drop(columns=fields,inplace=True)"
   ]
  },
  {
   "cell_type": "code",
   "execution_count": 19,
   "metadata": {
    "execution": {
     "iopub.execute_input": "2021-01-15T08:58:48.505380Z",
     "iopub.status.busy": "2021-01-15T08:58:48.504720Z",
     "iopub.status.idle": "2021-01-15T08:58:48.509446Z",
     "shell.execute_reply": "2021-01-15T08:58:48.508867Z"
    },
    "papermill": {
     "duration": 0.120954,
     "end_time": "2021-01-15T08:58:48.509556",
     "exception": false,
     "start_time": "2021-01-15T08:58:48.388602",
     "status": "completed"
    },
    "tags": []
   },
   "outputs": [
    {
     "data": {
      "text/plain": [
       "(144233, 226)"
      ]
     },
     "execution_count": 19,
     "metadata": {},
     "output_type": "execute_result"
    }
   ],
   "source": [
    "train_transaction.shape"
   ]
  },
  {
   "cell_type": "code",
   "execution_count": 20,
   "metadata": {
    "execution": {
     "iopub.execute_input": "2021-01-15T08:58:48.661411Z",
     "iopub.status.busy": "2021-01-15T08:58:48.660612Z",
     "iopub.status.idle": "2021-01-15T08:58:52.261971Z",
     "shell.execute_reply": "2021-01-15T08:58:52.261401Z"
    },
    "papermill": {
     "duration": 3.679954,
     "end_time": "2021-01-15T08:58:52.262091",
     "exception": false,
     "start_time": "2021-01-15T08:58:48.582137",
     "status": "completed"
    },
    "tags": []
   },
   "outputs": [],
   "source": [
    "train_transaction.fillna(train_transaction.mean(),inplace=True)"
   ]
  },
  {
   "cell_type": "code",
   "execution_count": 21,
   "metadata": {
    "execution": {
     "iopub.execute_input": "2021-01-15T08:58:52.414976Z",
     "iopub.status.busy": "2021-01-15T08:58:52.414356Z",
     "iopub.status.idle": "2021-01-15T08:58:52.769113Z",
     "shell.execute_reply": "2021-01-15T08:58:52.768522Z"
    },
    "papermill": {
     "duration": 0.43284,
     "end_time": "2021-01-15T08:58:52.769227",
     "exception": false,
     "start_time": "2021-01-15T08:58:52.336387",
     "status": "completed"
    },
    "tags": []
   },
   "outputs": [
    {
     "data": {
      "text/plain": [
       "card4                8\n",
       "card6                7\n",
       "P_emaildomain    21581\n",
       "M6               66384\n",
       "id_15             3248\n",
       "id_16            14893\n",
       "id_28             3255\n",
       "id_29             3255\n",
       "id_30            66668\n",
       "id_31             3951\n",
       "id_33            70944\n",
       "id_34            66428\n",
       "id_35             3248\n",
       "id_36             3248\n",
       "id_37             3248\n",
       "id_38             3248\n",
       "DeviceType        3423\n",
       "DeviceInfo       25567\n",
       "dtype: int64"
      ]
     },
     "execution_count": 21,
     "metadata": {},
     "output_type": "execute_result"
    }
   ],
   "source": [
    "train_transaction.isnull().sum()[train_transaction.isnull().sum()>0]"
   ]
  },
  {
   "cell_type": "markdown",
   "metadata": {
    "papermill": {
     "duration": 0.073975,
     "end_time": "2021-01-15T08:58:52.916478",
     "exception": false,
     "start_time": "2021-01-15T08:58:52.842503",
     "status": "completed"
    },
    "tags": []
   },
   "source": [
    "* **Our  categorical data still have null values**"
   ]
  },
  {
   "cell_type": "markdown",
   "metadata": {
    "papermill": {
     "duration": 0.074399,
     "end_time": "2021-01-15T08:58:53.063944",
     "exception": false,
     "start_time": "2021-01-15T08:58:52.989545",
     "status": "completed"
    },
    "tags": []
   },
   "source": [
    "* **Filling the null values**"
   ]
  },
  {
   "cell_type": "code",
   "execution_count": 22,
   "metadata": {
    "execution": {
     "iopub.execute_input": "2021-01-15T08:58:53.227201Z",
     "iopub.status.busy": "2021-01-15T08:58:53.226548Z",
     "iopub.status.idle": "2021-01-15T08:58:53.267718Z",
     "shell.execute_reply": "2021-01-15T08:58:53.268451Z"
    },
    "papermill": {
     "duration": 0.13157,
     "end_time": "2021-01-15T08:58:53.268619",
     "exception": false,
     "start_time": "2021-01-15T08:58:53.137049",
     "status": "completed"
    },
    "tags": []
   },
   "outputs": [
    {
     "name": "stdout",
     "output_type": "stream",
     "text": [
      "Before filling: \n",
      "visa                65.790952\n",
      "mastercard          29.657133\n",
      "american express     3.153406\n",
      "discover             1.398509\n",
      "Name: card4, dtype: float64\n",
      "\n",
      "*** \n",
      "\n",
      "After filling: \n",
      "visa                65.792849\n",
      "mastercard          29.655488\n",
      "american express     3.153231\n",
      "discover             1.398432\n",
      "Name: card4, dtype: float64\n"
     ]
    }
   ],
   "source": [
    "print(\"Before filling: \\n\"+str(train_transaction.card4.value_counts(normalize=True)*100))\n",
    "train_transaction.card4.fillna('visa',inplace=True)\n",
    "print(\"\\n*** \\n\\nAfter filling: \\n\"+str(train_transaction.card4.value_counts(normalize=True)*100))"
   ]
  },
  {
   "cell_type": "code",
   "execution_count": 23,
   "metadata": {
    "execution": {
     "iopub.execute_input": "2021-01-15T08:58:53.523644Z",
     "iopub.status.busy": "2021-01-15T08:58:53.506924Z",
     "iopub.status.idle": "2021-01-15T08:58:53.558924Z",
     "shell.execute_reply": "2021-01-15T08:58:53.558154Z"
    },
    "papermill": {
     "duration": 0.179538,
     "end_time": "2021-01-15T08:58:53.559046",
     "exception": false,
     "start_time": "2021-01-15T08:58:53.379508",
     "status": "completed"
    },
    "tags": []
   },
   "outputs": [
    {
     "name": "stdout",
     "output_type": "stream",
     "text": [
      "Before filling: \n",
      "debit              65.981862\n",
      "credit             34.007738\n",
      "debit or credit     0.006934\n",
      "charge card         0.003467\n",
      "Name: card6, dtype: float64\n",
      "\n",
      "*** \n",
      "\n",
      "After filling: \n",
      "debit              65.981433\n",
      "credit             34.008167\n",
      "debit or credit     0.006933\n",
      "charge card         0.003467\n",
      "Name: card6, dtype: float64\n"
     ]
    }
   ],
   "source": [
    "print(\"Before filling: \\n\"+str(train_transaction.card6.value_counts(normalize=True)*100))\n",
    "train_transaction.card6.fillna(method='ffill',inplace=True)\n",
    "print(\"\\n*** \\n\\nAfter filling: \\n\"+str(train_transaction.card6.value_counts(normalize=True)*100))"
   ]
  },
  {
   "cell_type": "code",
   "execution_count": 24,
   "metadata": {
    "execution": {
     "iopub.execute_input": "2021-01-15T08:58:53.730724Z",
     "iopub.status.busy": "2021-01-15T08:58:53.722975Z",
     "iopub.status.idle": "2021-01-15T08:58:53.774113Z",
     "shell.execute_reply": "2021-01-15T08:58:53.773350Z"
    },
    "papermill": {
     "duration": 0.140869,
     "end_time": "2021-01-15T08:58:53.774246",
     "exception": false,
     "start_time": "2021-01-15T08:58:53.633377",
     "status": "completed"
    },
    "tags": []
   },
   "outputs": [
    {
     "name": "stdout",
     "output_type": "stream",
     "text": [
      "Before filling: \n",
      "gmail.com           43.777517\n",
      "yahoo.com           18.687017\n",
      "hotmail.com         10.087891\n",
      "anonymous.com        9.323126\n",
      "aol.com              5.677853\n",
      "comcast.net          2.033395\n",
      "icloud.com           1.084369\n",
      "msn.com              0.975932\n",
      "outlook.com          0.957995\n",
      "att.net              0.815315\n",
      "sbcglobal.net        0.758243\n",
      "verizon.net          0.690572\n",
      "live.com             0.601702\n",
      "bellsouth.net        0.498157\n",
      "me.com               0.441901\n",
      "ymail.com            0.428856\n",
      "cox.net              0.415811\n",
      "yahoo.com.mx         0.359554\n",
      "charter.net          0.261716\n",
      "optonline.net        0.235626\n",
      "live.com.mx          0.176108\n",
      "mac.com              0.158986\n",
      "rocketmail.com       0.126374\n",
      "earthlink.net        0.113329\n",
      "outlook.es           0.091315\n",
      "mail.com             0.084793\n",
      "roadrunner.com       0.080716\n",
      "juno.com             0.078270\n",
      "embarqmail.com       0.072563\n",
      "gmail                0.067671\n",
      "windstream.net       0.064410\n",
      "twc.com              0.057072\n",
      "frontier.com         0.053811\n",
      "hotmail.es           0.052995\n",
      "aim.com              0.043212\n",
      "q.com                0.042396\n",
      "cfl.rr.com           0.042396\n",
      "netzero.com          0.041581\n",
      "prodigy.net.mx       0.040766\n",
      "frontiernet.net      0.040766\n",
      "web.de               0.040766\n",
      "hotmail.fr           0.037504\n",
      "centurylink.net      0.029351\n",
      "suddenlink.net       0.028536\n",
      "netzero.net          0.026090\n",
      "yahoo.fr             0.026090\n",
      "cableone.net         0.023644\n",
      "gmx.de               0.022014\n",
      "yahoo.es             0.022014\n",
      "ptd.net              0.018752\n",
      "sc.rr.com            0.017937\n",
      "yahoo.de             0.016306\n",
      "yahoo.co.uk          0.015491\n",
      "protonmail.com       0.010599\n",
      "hotmail.co.uk        0.010599\n",
      "servicios-ta.com     0.005707\n",
      "hotmail.de           0.002446\n",
      "yahoo.co.jp          0.002446\n",
      "live.fr              0.001631\n",
      "Name: P_emaildomain, dtype: float64\n",
      "\n",
      "*** \n",
      "\n",
      "After filling: \n",
      "gmail.com           52.189859\n",
      "yahoo.com           15.890954\n",
      "hotmail.com          8.578481\n",
      "anonymous.com        7.928144\n",
      "aol.com              4.828299\n",
      "comcast.net          1.729147\n",
      "icloud.com           0.922119\n",
      "msn.com              0.829907\n",
      "outlook.com          0.814654\n",
      "att.net              0.693323\n",
      "sbcglobal.net        0.644790\n",
      "verizon.net          0.587244\n",
      "live.com             0.511672\n",
      "bellsouth.net        0.423620\n",
      "me.com               0.375781\n",
      "ymail.com            0.364688\n",
      "cox.net              0.353595\n",
      "yahoo.com.mx         0.305755\n",
      "charter.net          0.222557\n",
      "optonline.net        0.200370\n",
      "live.com.mx          0.149758\n",
      "mac.com              0.135198\n",
      "rocketmail.com       0.107465\n",
      "earthlink.net        0.096372\n",
      "outlook.es           0.077652\n",
      "mail.com             0.072106\n",
      "roadrunner.com       0.068639\n",
      "juno.com             0.066559\n",
      "embarqmail.com       0.061706\n",
      "gmail                0.057546\n",
      "windstream.net       0.054772\n",
      "twc.com              0.048533\n",
      "frontier.com         0.045759\n",
      "hotmail.es           0.045066\n",
      "aim.com              0.036746\n",
      "q.com                0.036053\n",
      "cfl.rr.com           0.036053\n",
      "netzero.com          0.035359\n",
      "prodigy.net.mx       0.034666\n",
      "frontiernet.net      0.034666\n",
      "web.de               0.034666\n",
      "hotmail.fr           0.031893\n",
      "centurylink.net      0.024960\n",
      "suddenlink.net       0.024266\n",
      "netzero.net          0.022186\n",
      "yahoo.fr             0.022186\n",
      "cableone.net         0.020106\n",
      "gmx.de               0.018720\n",
      "yahoo.es             0.018720\n",
      "ptd.net              0.015946\n",
      "sc.rr.com            0.015253\n",
      "yahoo.de             0.013866\n",
      "yahoo.co.uk          0.013173\n",
      "protonmail.com       0.009013\n",
      "hotmail.co.uk        0.009013\n",
      "servicios-ta.com     0.004853\n",
      "hotmail.de           0.002080\n",
      "yahoo.co.jp          0.002080\n",
      "live.fr              0.001387\n",
      "Name: P_emaildomain, dtype: float64\n"
     ]
    }
   ],
   "source": [
    "print(\"Before filling: \\n\"+str(train_transaction.P_emaildomain.value_counts(normalize=True)*100))\n",
    "train_transaction.P_emaildomain.fillna('gmail.com',inplace=True)\n",
    "print(\"\\n*** \\n\\nAfter filling: \\n\"+str(train_transaction.P_emaildomain.value_counts(normalize=True)*100))"
   ]
  },
  {
   "cell_type": "code",
   "execution_count": 25,
   "metadata": {
    "execution": {
     "iopub.execute_input": "2021-01-15T08:58:54.023806Z",
     "iopub.status.busy": "2021-01-15T08:58:54.022606Z",
     "iopub.status.idle": "2021-01-15T08:58:54.057620Z",
     "shell.execute_reply": "2021-01-15T08:58:54.056746Z"
    },
    "papermill": {
     "duration": 0.168776,
     "end_time": "2021-01-15T08:58:54.057787",
     "exception": false,
     "start_time": "2021-01-15T08:58:53.889011",
     "status": "completed"
    },
    "tags": []
   },
   "outputs": [
    {
     "name": "stdout",
     "output_type": "stream",
     "text": [
      "Before filling: \n",
      "F    53.547252\n",
      "T    46.452748\n",
      "Name: M6, dtype: float64\n",
      "\n",
      "*** \n",
      "\n",
      "After filling: \n",
      "F    53.537679\n",
      "T    46.462321\n",
      "Name: M6, dtype: float64\n"
     ]
    }
   ],
   "source": [
    "print(\"Before filling: \\n\"+str(train_transaction.M6.value_counts(normalize=True)*100))\n",
    "train_transaction.M6.fillna(method='ffill',inplace=True)\n",
    "print(\"\\n*** \\n\\nAfter filling: \\n\"+str(train_transaction.M6.value_counts(normalize=True)*100))"
   ]
  },
  {
   "cell_type": "code",
   "execution_count": 26,
   "metadata": {
    "execution": {
     "iopub.execute_input": "2021-01-15T08:58:54.346824Z",
     "iopub.status.busy": "2021-01-15T08:58:54.339542Z",
     "iopub.status.idle": "2021-01-15T08:58:54.383447Z",
     "shell.execute_reply": "2021-01-15T08:58:54.382692Z"
    },
    "papermill": {
     "duration": 0.213097,
     "end_time": "2021-01-15T08:58:54.383597",
     "exception": false,
     "start_time": "2021-01-15T08:58:54.170500",
     "status": "completed"
    },
    "tags": []
   },
   "outputs": [
    {
     "name": "stdout",
     "output_type": "stream",
     "text": [
      "Before filling: \n",
      "desktop    60.48221\n",
      "mobile     39.51779\n",
      "Name: DeviceType, dtype: float64\n",
      "\n",
      "*** \n",
      "\n",
      "After filling: \n",
      "desktop    60.513197\n",
      "mobile     39.486803\n",
      "Name: DeviceType, dtype: float64\n"
     ]
    }
   ],
   "source": [
    "print(\"Before filling: \\n\"+str(train_transaction.DeviceType.value_counts(normalize=True)*100))\n",
    "train_transaction.DeviceType.fillna(method='ffill',inplace=True)\n",
    "print(\"\\n*** \\n\\nAfter filling: \\n\"+str(train_transaction.DeviceType.value_counts(normalize=True)*100))"
   ]
  },
  {
   "cell_type": "code",
   "execution_count": 27,
   "metadata": {
    "execution": {
     "iopub.execute_input": "2021-01-15T08:58:54.555640Z",
     "iopub.status.busy": "2021-01-15T08:58:54.554938Z",
     "iopub.status.idle": "2021-01-15T08:58:54.618963Z",
     "shell.execute_reply": "2021-01-15T08:58:54.620040Z"
    },
    "papermill": {
     "duration": 0.145795,
     "end_time": "2021-01-15T08:58:54.620199",
     "exception": false,
     "start_time": "2021-01-15T08:58:54.474404",
     "status": "completed"
    },
    "tags": []
   },
   "outputs": [
    {
     "name": "stdout",
     "output_type": "stream",
     "text": [
      "Before filling: \n",
      "Windows                     40.215394\n",
      "iOS Device                  16.670318\n",
      "MacOS                       10.595284\n",
      "Trident/7.0                  6.269698\n",
      "rv:11.0                      1.601975\n",
      "                              ...    \n",
      "SM-G386W                     0.000843\n",
      "SM-A520F Build/R16NW         0.000843\n",
      "Moto G Play Build/NJH47F     0.000843\n",
      "SM-G928F                     0.000843\n",
      "LGL33L/V100                  0.000843\n",
      "Name: DeviceInfo, Length: 1786, dtype: float64\n",
      "\n",
      "*** \n",
      "\n",
      "After filling: \n",
      "Windows        40.169725\n",
      "iOS Device     16.351320\n",
      "MacOS          10.324267\n",
      "Trident/7.0     6.129665\n",
      "rv:11.0         1.578002\n",
      "                 ...    \n",
      "A37f            0.000693\n",
      "SM-T705         0.000693\n",
      "VS880PP         0.000693\n",
      "VK815           0.000693\n",
      "CAM-L23         0.000693\n",
      "Name: DeviceInfo, Length: 1786, dtype: float64\n"
     ]
    }
   ],
   "source": [
    "print(\"Before filling: \\n\"+str(train_transaction.DeviceInfo.value_counts(normalize=True)*100))\n",
    "train_transaction.DeviceInfo.fillna(method='ffill',inplace=True)\n",
    "print(\"\\n*** \\n\\nAfter filling: \\n\"+str(train_transaction.DeviceInfo.value_counts(normalize=True)*100))"
   ]
  },
  {
   "cell_type": "code",
   "execution_count": 28,
   "metadata": {
    "execution": {
     "iopub.execute_input": "2021-01-15T08:58:54.797900Z",
     "iopub.status.busy": "2021-01-15T08:58:54.796927Z",
     "iopub.status.idle": "2021-01-15T08:58:54.830772Z",
     "shell.execute_reply": "2021-01-15T08:58:54.831593Z"
    },
    "papermill": {
     "duration": 0.134077,
     "end_time": "2021-01-15T08:58:54.831744",
     "exception": false,
     "start_time": "2021-01-15T08:58:54.697667",
     "status": "completed"
    },
    "tags": []
   },
   "outputs": [
    {
     "name": "stdout",
     "output_type": "stream",
     "text": [
      "Before filling: \n",
      "Found      48.039153\n",
      "New        43.701103\n",
      "Unknown     8.259744\n",
      "Name: id_15, dtype: float64\n",
      "\n",
      "*** \n",
      "\n",
      "After filling: \n",
      "Found      48.006351\n",
      "New        43.722310\n",
      "Unknown     8.271339\n",
      "Name: id_15, dtype: float64\n"
     ]
    }
   ],
   "source": [
    "print(\"Before filling: \\n\"+str(train_transaction.id_15.value_counts(normalize=True)*100))\n",
    "train_transaction.id_15.fillna(method='ffill',inplace=True)\n",
    "print(\"\\n*** \\n\\nAfter filling: \\n\"+str(train_transaction.id_15.value_counts(normalize=True)*100))"
   ]
  },
  {
   "cell_type": "code",
   "execution_count": 29,
   "metadata": {
    "execution": {
     "iopub.execute_input": "2021-01-15T08:58:54.987217Z",
     "iopub.status.busy": "2021-01-15T08:58:54.986334Z",
     "iopub.status.idle": "2021-01-15T08:58:55.045931Z",
     "shell.execute_reply": "2021-01-15T08:58:55.045031Z"
    },
    "papermill": {
     "duration": 0.138321,
     "end_time": "2021-01-15T08:58:55.046079",
     "exception": false,
     "start_time": "2021-01-15T08:58:54.907758",
     "status": "completed"
    },
    "tags": []
   },
   "outputs": [
    {
     "name": "stdout",
     "output_type": "stream",
     "text": [
      "Before filling: \n",
      "Found       51.2788\n",
      "NotFound    48.7212\n",
      "Name: id_16, dtype: float64\n",
      "\n",
      "*** \n",
      "\n",
      "After filling: \n",
      "Found       51.114516\n",
      "NotFound    48.885484\n",
      "Name: id_16, dtype: float64\n"
     ]
    }
   ],
   "source": [
    "print(\"Before filling: \\n\"+str(train_transaction.id_16.value_counts(normalize=True)*100))\n",
    "train_transaction.id_16.fillna(method='ffill',inplace=True)\n",
    "print(\"\\n*** \\n\\nAfter filling: \\n\"+str(train_transaction.id_16.value_counts(normalize=True)*100))"
   ]
  },
  {
   "cell_type": "code",
   "execution_count": 30,
   "metadata": {
    "execution": {
     "iopub.execute_input": "2021-01-15T08:58:55.224533Z",
     "iopub.status.busy": "2021-01-15T08:58:55.223231Z",
     "iopub.status.idle": "2021-01-15T08:58:55.264776Z",
     "shell.execute_reply": "2021-01-15T08:58:55.265250Z"
    },
    "papermill": {
     "duration": 0.141828,
     "end_time": "2021-01-15T08:58:55.265418",
     "exception": false,
     "start_time": "2021-01-15T08:58:55.123590",
     "status": "completed"
    },
    "tags": []
   },
   "outputs": [
    {
     "name": "stdout",
     "output_type": "stream",
     "text": [
      "Before filling: \n",
      "Found    54.073685\n",
      "New      45.926315\n",
      "Name: id_28, dtype: float64\n",
      "\n",
      "*** \n",
      "\n",
      "After filling: \n",
      "Found    54.047964\n",
      "New      45.952036\n",
      "Name: id_28, dtype: float64\n"
     ]
    }
   ],
   "source": [
    "print(\"Before filling: \\n\"+str(train_transaction.id_28.value_counts(normalize=True)*100))\n",
    "train_transaction.id_28.fillna(method='ffill',inplace=True)\n",
    "print(\"\\n*** \\n\\nAfter filling: \\n\"+str(train_transaction.id_28.value_counts(normalize=True)*100))"
   ]
  },
  {
   "cell_type": "code",
   "execution_count": 31,
   "metadata": {
    "execution": {
     "iopub.execute_input": "2021-01-15T08:58:55.424162Z",
     "iopub.status.busy": "2021-01-15T08:58:55.423193Z",
     "iopub.status.idle": "2021-01-15T08:58:55.483290Z",
     "shell.execute_reply": "2021-01-15T08:58:55.482744Z"
    },
    "papermill": {
     "duration": 0.140879,
     "end_time": "2021-01-15T08:58:55.483444",
     "exception": false,
     "start_time": "2021-01-15T08:58:55.342565",
     "status": "completed"
    },
    "tags": []
   },
   "outputs": [
    {
     "name": "stdout",
     "output_type": "stream",
     "text": [
      "Before filling: \n",
      "Found       53.1473\n",
      "NotFound    46.8527\n",
      "Name: id_29, dtype: float64\n",
      "\n",
      "*** \n",
      "\n",
      "After filling: \n",
      "Found       53.120992\n",
      "NotFound    46.879008\n",
      "Name: id_29, dtype: float64\n"
     ]
    }
   ],
   "source": [
    "print(\"Before filling: \\n\"+str(train_transaction.id_29.value_counts(normalize=True)*100))\n",
    "train_transaction.id_29.fillna(method='ffill',inplace=True)\n",
    "print(\"\\n*** \\n\\nAfter filling: \\n\"+str(train_transaction.id_29.value_counts(normalize=True)*100))"
   ]
  },
  {
   "cell_type": "code",
   "execution_count": 32,
   "metadata": {
    "execution": {
     "iopub.execute_input": "2021-01-15T08:58:55.644853Z",
     "iopub.status.busy": "2021-01-15T08:58:55.644222Z",
     "iopub.status.idle": "2021-01-15T08:58:55.699828Z",
     "shell.execute_reply": "2021-01-15T08:58:55.700342Z"
    },
    "papermill": {
     "duration": 0.137029,
     "end_time": "2021-01-15T08:58:55.700500",
     "exception": false,
     "start_time": "2021-01-15T08:58:55.563471",
     "status": "completed"
    },
    "tags": []
   },
   "outputs": [
    {
     "name": "stdout",
     "output_type": "stream",
     "text": [
      "Before filling: \n",
      "Windows 10          27.273899\n",
      "Windows 7           16.901953\n",
      "iOS 11.2.1           4.798556\n",
      "iOS 11.1.2           4.768904\n",
      "Android 7.0          3.701412\n",
      "                      ...    \n",
      "func                 0.012892\n",
      "iOS 11.4.0           0.006446\n",
      "Mac OS X 10_13_5     0.005157\n",
      "Windows              0.003868\n",
      "iOS 11.4.1           0.001289\n",
      "Name: id_30, Length: 75, dtype: float64\n",
      "\n",
      "*** \n",
      "\n",
      "After filling: \n",
      "Windows 10          26.441244\n",
      "Windows 7           15.964446\n",
      "iOS 11.2.1           4.546116\n",
      "iOS 11.1.2           3.945699\n",
      "Android 7.0          3.587251\n",
      "                      ...    \n",
      "other                0.017333\n",
      "Mac OS X 10_13_5     0.012480\n",
      "func                 0.007627\n",
      "iOS 11.4.0           0.006240\n",
      "iOS 11.4.1           0.000693\n",
      "Name: id_30, Length: 75, dtype: float64\n"
     ]
    }
   ],
   "source": [
    "print(\"Before filling: \\n\"+str(train_transaction.id_30.value_counts(normalize=True)*100))\n",
    "train_transaction.id_30.fillna(method='ffill',inplace=True)\n",
    "print(\"\\n*** \\n\\nAfter filling: \\n\"+str(train_transaction.id_30.value_counts(normalize=True)*100))"
   ]
  },
  {
   "cell_type": "code",
   "execution_count": 33,
   "metadata": {
    "execution": {
     "iopub.execute_input": "2021-01-15T08:58:55.863960Z",
     "iopub.status.busy": "2021-01-15T08:58:55.863040Z",
     "iopub.status.idle": "2021-01-15T08:58:55.920488Z",
     "shell.execute_reply": "2021-01-15T08:58:55.921068Z"
    },
    "papermill": {
     "duration": 0.141239,
     "end_time": "2021-01-15T08:58:55.921212",
     "exception": false,
     "start_time": "2021-01-15T08:58:55.779973",
     "status": "completed"
    },
    "tags": []
   },
   "outputs": [
    {
     "name": "stdout",
     "output_type": "stream",
     "text": [
      "Before filling: \n",
      "chrome 63.0                15.682696\n",
      "mobile safari 11.0          9.568583\n",
      "mobile safari generic       8.179239\n",
      "ie 11.0 for desktop         6.437034\n",
      "safari generic              5.841804\n",
      "                             ...    \n",
      "chromium                    0.000713\n",
      "seamonkey                   0.000713\n",
      "cyberfox                    0.000713\n",
      "chrome 67.0 for android     0.000713\n",
      "M4Tel/M4                    0.000713\n",
      "Name: id_31, Length: 130, dtype: float64\n",
      "\n",
      "*** \n",
      "\n",
      "After filling: \n",
      "chrome 63.0                15.639971\n",
      "mobile safari 11.0          9.573399\n",
      "mobile safari generic       8.152087\n",
      "ie 11.0 for desktop         6.426407\n",
      "safari generic              5.818363\n",
      "                             ...    \n",
      "chromium                    0.000693\n",
      "seamonkey                   0.000693\n",
      "cyberfox                    0.000693\n",
      "chrome 67.0 for android     0.000693\n",
      "M4Tel/M4                    0.000693\n",
      "Name: id_31, Length: 130, dtype: float64\n"
     ]
    }
   ],
   "source": [
    "print(\"Before filling: \\n\"+str(train_transaction.id_31.value_counts(normalize=True)*100))\n",
    "train_transaction.id_31.fillna(method='ffill',inplace=True)\n",
    "print(\"\\n*** \\n\\nAfter filling: \\n\"+str(train_transaction.id_31.value_counts(normalize=True)*100))"
   ]
  },
  {
   "cell_type": "code",
   "execution_count": 34,
   "metadata": {
    "execution": {
     "iopub.execute_input": "2021-01-15T08:58:56.102706Z",
     "iopub.status.busy": "2021-01-15T08:58:56.094800Z",
     "iopub.status.idle": "2021-01-15T08:58:56.142163Z",
     "shell.execute_reply": "2021-01-15T08:58:56.141560Z"
    },
    "papermill": {
     "duration": 0.141158,
     "end_time": "2021-01-15T08:58:56.142288",
     "exception": false,
     "start_time": "2021-01-15T08:58:56.001130",
     "status": "completed"
    },
    "tags": []
   },
   "outputs": [
    {
     "name": "stdout",
     "output_type": "stream",
     "text": [
      "Before filling: \n",
      "1920x1080    23.023919\n",
      "1366x768     11.741189\n",
      "1334x750      8.796682\n",
      "2208x1242     6.685860\n",
      "1440x900      5.981798\n",
      "               ...    \n",
      "2159x1440     0.001364\n",
      "4499x2999     0.001364\n",
      "768x576       0.001364\n",
      "1281x800      0.001364\n",
      "7500x5000     0.001364\n",
      "Name: id_33, Length: 260, dtype: float64\n",
      "\n",
      "*** \n",
      "\n",
      "After filling: \n",
      "1920x1080    22.740288\n",
      "1366x768     11.356624\n",
      "1334x750      9.081140\n",
      "2208x1242     6.823681\n",
      "1440x900      5.857883\n",
      "               ...    \n",
      "2160x1350     0.000693\n",
      "480x320       0.000693\n",
      "2559x1439     0.000693\n",
      "1496x844      0.000693\n",
      "1280x620      0.000693\n",
      "Name: id_33, Length: 260, dtype: float64\n"
     ]
    }
   ],
   "source": [
    "print(\"Before filling: \\n\"+str(train_transaction.id_33.value_counts(normalize=True)*100))\n",
    "train_transaction.id_33.fillna(method='ffill',inplace=True)\n",
    "print(\"\\n*** \\n\\nAfter filling: \\n\"+str(train_transaction.id_33.value_counts(normalize=True)*100))"
   ]
  },
  {
   "cell_type": "code",
   "execution_count": 35,
   "metadata": {
    "execution": {
     "iopub.execute_input": "2021-01-15T08:58:56.334010Z",
     "iopub.status.busy": "2021-01-15T08:58:56.324599Z",
     "iopub.status.idle": "2021-01-15T08:58:56.365960Z",
     "shell.execute_reply": "2021-01-15T08:58:56.365148Z"
    },
    "papermill": {
     "duration": 0.142304,
     "end_time": "2021-01-15T08:58:56.366101",
     "exception": false,
     "start_time": "2021-01-15T08:58:56.223797",
     "status": "completed"
    },
    "tags": []
   },
   "outputs": [
    {
     "name": "stdout",
     "output_type": "stream",
     "text": [
      "Before filling: \n",
      "match_status:2     77.130004\n",
      "match_status:1     22.332755\n",
      "match_status:0      0.533385\n",
      "match_status:-1     0.003856\n",
      "Name: id_34, dtype: float64\n",
      "\n",
      "*** \n",
      "\n",
      "After filling: \n",
      "match_status:2     76.775773\n",
      "match_status:1     22.745142\n",
      "match_status:0      0.474926\n",
      "match_status:-1     0.004160\n",
      "Name: id_34, dtype: float64\n"
     ]
    }
   ],
   "source": [
    "print(\"Before filling: \\n\"+str(train_transaction.id_34.value_counts(normalize=True)*100))\n",
    "train_transaction.id_34.fillna(method='ffill',inplace=True)\n",
    "print(\"\\n*** \\n\\nAfter filling: \\n\"+str(train_transaction.id_34.value_counts(normalize=True)*100))"
   ]
  },
  {
   "cell_type": "code",
   "execution_count": 36,
   "metadata": {
    "execution": {
     "iopub.execute_input": "2021-01-15T08:58:56.635053Z",
     "iopub.status.busy": "2021-01-15T08:58:56.627286Z",
     "iopub.status.idle": "2021-01-15T08:58:56.668265Z",
     "shell.execute_reply": "2021-01-15T08:58:56.669157Z"
    },
    "papermill": {
     "duration": 0.180127,
     "end_time": "2021-01-15T08:58:56.669380",
     "exception": false,
     "start_time": "2021-01-15T08:58:56.489253",
     "status": "completed"
    },
    "tags": []
   },
   "outputs": [
    {
     "name": "stdout",
     "output_type": "stream",
     "text": [
      "Before filling: \n",
      "T    55.193106\n",
      "F    44.806894\n",
      "Name: id_35, dtype: float64\n",
      "\n",
      "*** \n",
      "\n",
      "After filling: \n",
      "T    55.20096\n",
      "F    44.79904\n",
      "Name: id_35, dtype: float64\n"
     ]
    }
   ],
   "source": [
    "print(\"Before filling: \\n\"+str(train_transaction.id_35.value_counts(normalize=True)*100))\n",
    "train_transaction.id_35.fillna(method='ffill',inplace=True)\n",
    "print(\"\\n*** \\n\\nAfter filling: \\n\"+str(train_transaction.id_35.value_counts(normalize=True)*100))"
   ]
  },
  {
   "cell_type": "code",
   "execution_count": 37,
   "metadata": {
    "execution": {
     "iopub.execute_input": "2021-01-15T08:58:56.853144Z",
     "iopub.status.busy": "2021-01-15T08:58:56.845362Z",
     "iopub.status.idle": "2021-01-15T08:58:56.888519Z",
     "shell.execute_reply": "2021-01-15T08:58:56.887528Z"
    },
    "papermill": {
     "duration": 0.136526,
     "end_time": "2021-01-15T08:58:56.888680",
     "exception": false,
     "start_time": "2021-01-15T08:58:56.752154",
     "status": "completed"
    },
    "tags": []
   },
   "outputs": [
    {
     "name": "stdout",
     "output_type": "stream",
     "text": [
      "Before filling: \n",
      "F    95.092386\n",
      "T     4.907614\n",
      "Name: id_36, dtype: float64\n",
      "\n",
      "*** \n",
      "\n",
      "After filling: \n",
      "F    95.098902\n",
      "T     4.901098\n",
      "Name: id_36, dtype: float64\n"
     ]
    }
   ],
   "source": [
    "print(\"Before filling: \\n\"+str(train_transaction.id_36.value_counts(normalize=True)*100))\n",
    "train_transaction.id_36.fillna(method='ffill',inplace=True)\n",
    "print(\"\\n*** \\n\\nAfter filling: \\n\"+str(train_transaction.id_36.value_counts(normalize=True)*100))"
   ]
  },
  {
   "cell_type": "code",
   "execution_count": 38,
   "metadata": {
    "execution": {
     "iopub.execute_input": "2021-01-15T08:58:57.071021Z",
     "iopub.status.busy": "2021-01-15T08:58:57.063463Z",
     "iopub.status.idle": "2021-01-15T08:58:57.107172Z",
     "shell.execute_reply": "2021-01-15T08:58:57.107758Z"
    },
    "papermill": {
     "duration": 0.138139,
     "end_time": "2021-01-15T08:58:57.107895",
     "exception": false,
     "start_time": "2021-01-15T08:58:56.969756",
     "status": "completed"
    },
    "tags": []
   },
   "outputs": [
    {
     "name": "stdout",
     "output_type": "stream",
     "text": [
      "Before filling: \n",
      "T    78.343086\n",
      "F    21.656914\n",
      "Name: id_37, dtype: float64\n",
      "\n",
      "*** \n",
      "\n",
      "After filling: \n",
      "T    78.365561\n",
      "F    21.634439\n",
      "Name: id_37, dtype: float64\n"
     ]
    }
   ],
   "source": [
    "print(\"Before filling: \\n\"+str(train_transaction.id_37.value_counts(normalize=True)*100))\n",
    "train_transaction.id_37.fillna(method='ffill',inplace=True)\n",
    "print(\"\\n*** \\n\\nAfter filling: \\n\"+str(train_transaction.id_37.value_counts(normalize=True)*100))"
   ]
  },
  {
   "cell_type": "code",
   "execution_count": 39,
   "metadata": {
    "execution": {
     "iopub.execute_input": "2021-01-15T08:58:57.323129Z",
     "iopub.status.busy": "2021-01-15T08:58:57.295279Z",
     "iopub.status.idle": "2021-01-15T08:58:57.341179Z",
     "shell.execute_reply": "2021-01-15T08:58:57.340466Z"
    },
    "papermill": {
     "duration": 0.151869,
     "end_time": "2021-01-15T08:58:57.341323",
     "exception": false,
     "start_time": "2021-01-15T08:58:57.189454",
     "status": "completed"
    },
    "tags": []
   },
   "outputs": [
    {
     "name": "stdout",
     "output_type": "stream",
     "text": [
      "Before filling: \n",
      "F    52.432528\n",
      "T    47.567472\n",
      "Name: id_38, dtype: float64\n",
      "\n",
      "*** \n",
      "\n",
      "After filling: \n",
      "F    52.458175\n",
      "T    47.541825\n",
      "Name: id_38, dtype: float64\n"
     ]
    }
   ],
   "source": [
    "print(\"Before filling: \\n\"+str(train_transaction.id_38.value_counts(normalize=True)*100))\n",
    "train_transaction.id_38.fillna(method='ffill',inplace=True)\n",
    "print(\"\\n*** \\n\\nAfter filling: \\n\"+str(train_transaction.id_38.value_counts(normalize=True)*100))"
   ]
  },
  {
   "cell_type": "code",
   "execution_count": 40,
   "metadata": {
    "execution": {
     "iopub.execute_input": "2021-01-15T08:58:57.518086Z",
     "iopub.status.busy": "2021-01-15T08:58:57.517433Z",
     "iopub.status.idle": "2021-01-15T08:58:57.867363Z",
     "shell.execute_reply": "2021-01-15T08:58:57.866630Z"
    },
    "papermill": {
     "duration": 0.439556,
     "end_time": "2021-01-15T08:58:57.867477",
     "exception": false,
     "start_time": "2021-01-15T08:58:57.427921",
     "status": "completed"
    },
    "tags": []
   },
   "outputs": [
    {
     "data": {
      "text/plain": [
       "Series([], dtype: int64)"
      ]
     },
     "execution_count": 40,
     "metadata": {},
     "output_type": "execute_result"
    }
   ],
   "source": [
    "train_transaction.isnull().sum()[train_transaction.isnull().sum()>0]"
   ]
  },
  {
   "cell_type": "code",
   "execution_count": 41,
   "metadata": {
    "execution": {
     "iopub.execute_input": "2021-01-15T08:58:58.060458Z",
     "iopub.status.busy": "2021-01-15T08:58:58.059546Z",
     "iopub.status.idle": "2021-01-15T08:58:59.755186Z",
     "shell.execute_reply": "2021-01-15T08:58:59.754598Z"
    },
    "papermill": {
     "duration": 1.803549,
     "end_time": "2021-01-15T08:58:59.755326",
     "exception": false,
     "start_time": "2021-01-15T08:58:57.951777",
     "status": "completed"
    },
    "tags": []
   },
   "outputs": [],
   "source": [
    "from sklearn import preprocessing\n",
    "\n",
    "label_encoder=preprocessing.LabelEncoder()\n",
    "\n",
    "card4=pd.Series(label_encoder.fit_transform(train_transaction.card4))\n",
    "card6=pd.Series(label_encoder.fit_transform(train_transaction.card6))\n",
    "P_emaildomain=pd.Series(label_encoder.fit_transform(train_transaction.P_emaildomain))\n",
    "M6=pd.Series(label_encoder.fit_transform(train_transaction.M6))\n",
    "DeviceType=pd.Series(label_encoder.fit_transform(train_transaction.DeviceType))\n",
    "DeviceInfo=pd.Series(label_encoder.fit_transform(train_transaction.DeviceInfo))\n",
    "id_15=pd.Series(label_encoder.fit_transform(train_transaction.id_15))\n",
    "id_16=pd.Series(label_encoder.fit_transform(train_transaction.id_16))\n",
    "id_28=pd.Series(label_encoder.fit_transform(train_transaction.id_28))\n",
    "id_29=pd.Series(label_encoder.fit_transform(train_transaction.id_29))\n",
    "id_30=pd.Series(label_encoder.fit_transform(train_transaction.id_30))\n",
    "id_31=pd.Series(label_encoder.fit_transform(train_transaction.id_31))\n",
    "id_33=pd.Series(label_encoder.fit_transform(train_transaction.id_33))\n",
    "id_34=pd.Series(label_encoder.fit_transform(train_transaction.id_34))\n",
    "id_35=pd.Series(label_encoder.fit_transform(train_transaction.id_35))\n",
    "id_36=pd.Series(label_encoder.fit_transform(train_transaction.id_36))\n",
    "id_37=pd.Series(label_encoder.fit_transform(train_transaction.id_37))\n",
    "id_38=pd.Series(label_encoder.fit_transform(train_transaction.id_38))\n",
    "\n",
    "train_transaction.drop(['card4','card6','M6','P_emaildomain','DeviceType','DeviceInfo','id_15','id_16','id_28','id_29','id_30','id_31','id_33','id_34','id_35','id_36','id_37','id_38'], axis=1,inplace=True)"
   ]
  },
  {
   "cell_type": "code",
   "execution_count": 42,
   "metadata": {
    "execution": {
     "iopub.execute_input": "2021-01-15T08:58:59.944419Z",
     "iopub.status.busy": "2021-01-15T08:58:59.933633Z",
     "iopub.status.idle": "2021-01-15T08:58:59.993166Z",
     "shell.execute_reply": "2021-01-15T08:58:59.992575Z"
    },
    "papermill": {
     "duration": 0.15295,
     "end_time": "2021-01-15T08:58:59.993320",
     "exception": false,
     "start_time": "2021-01-15T08:58:59.840370",
     "status": "completed"
    },
    "tags": []
   },
   "outputs": [],
   "source": [
    "card4=pd.DataFrame(card4,columns=['card4'])\n",
    "card6=pd.DataFrame(card6,columns=['card6'])\n",
    "P_emaildomain=pd.DataFrame(P_emaildomain,columns=['P_emaildomain'])\n",
    "M6=pd.DataFrame(M6,columns=['M6'])\n",
    "DeviceType=pd.DataFrame(DeviceType,columns=['DeviceType'])\n",
    "DeviceInfo=pd.DataFrame(DeviceInfo,columns=['DeviceInfo'])\n",
    "id_15=pd.DataFrame(id_15,columns=['id_15'])\n",
    "id_16=pd.DataFrame(id_16,columns=['id_16'])\n",
    "id_28=pd.DataFrame(id_28,columns=['id_28'])\n",
    "id_29=pd.DataFrame(id_29,columns=['id_29'])\n",
    "id_30=pd.DataFrame(id_30,columns=['id_30'])\n",
    "id_31=pd.DataFrame(id_31,columns=['id_31'])\n",
    "id_33=pd.DataFrame(id_33,columns=['id_33'])\n",
    "id_34=pd.DataFrame(id_34,columns=['id_34'])\n",
    "id_35=pd.DataFrame(id_35,columns=['id_35'])\n",
    "id_36=pd.DataFrame(id_36,columns=['id_36'])\n",
    "id_37=pd.DataFrame(id_37,columns=['id_37'])\n",
    "id_38=pd.DataFrame(id_38,columns=['id_38'])\n",
    "\n",
    "train_transaction=pd.concat([train_transaction,card4,card6,M6,P_emaildomain,DeviceType,DeviceInfo,id_15,id_16,id_28,id_29,id_30,id_31,id_33,id_34,id_35,id_36,id_37,id_38],axis=1)"
   ]
  },
  {
   "cell_type": "code",
   "execution_count": 43,
   "metadata": {
    "execution": {
     "iopub.execute_input": "2021-01-15T08:59:00.168186Z",
     "iopub.status.busy": "2021-01-15T08:59:00.167576Z",
     "iopub.status.idle": "2021-01-15T08:59:00.272371Z",
     "shell.execute_reply": "2021-01-15T08:59:00.272922Z"
    },
    "papermill": {
     "duration": 0.195525,
     "end_time": "2021-01-15T08:59:00.273065",
     "exception": false,
     "start_time": "2021-01-15T08:59:00.077540",
     "status": "completed"
    },
    "tags": []
   },
   "outputs": [
    {
     "data": {
      "text/html": [
       "<div>\n",
       "<style scoped>\n",
       "    .dataframe tbody tr th:only-of-type {\n",
       "        vertical-align: middle;\n",
       "    }\n",
       "\n",
       "    .dataframe tbody tr th {\n",
       "        vertical-align: top;\n",
       "    }\n",
       "\n",
       "    .dataframe thead th {\n",
       "        text-align: right;\n",
       "    }\n",
       "</style>\n",
       "<table border=\"1\" class=\"dataframe\">\n",
       "  <thead>\n",
       "    <tr style=\"text-align: right;\">\n",
       "      <th></th>\n",
       "    </tr>\n",
       "  </thead>\n",
       "  <tbody>\n",
       "    <tr>\n",
       "      <th>0</th>\n",
       "    </tr>\n",
       "    <tr>\n",
       "      <th>1</th>\n",
       "    </tr>\n",
       "    <tr>\n",
       "      <th>2</th>\n",
       "    </tr>\n",
       "    <tr>\n",
       "      <th>3</th>\n",
       "    </tr>\n",
       "    <tr>\n",
       "      <th>4</th>\n",
       "    </tr>\n",
       "    <tr>\n",
       "      <th>...</th>\n",
       "    </tr>\n",
       "    <tr>\n",
       "      <th>144228</th>\n",
       "    </tr>\n",
       "    <tr>\n",
       "      <th>144229</th>\n",
       "    </tr>\n",
       "    <tr>\n",
       "      <th>144230</th>\n",
       "    </tr>\n",
       "    <tr>\n",
       "      <th>144231</th>\n",
       "    </tr>\n",
       "    <tr>\n",
       "      <th>144232</th>\n",
       "    </tr>\n",
       "  </tbody>\n",
       "</table>\n",
       "<p>144233 rows × 0 columns</p>\n",
       "</div>"
      ],
      "text/plain": [
       "Empty DataFrame\n",
       "Columns: []\n",
       "Index: [0, 1, 2, 3, 4, 5, 6, 7, 8, 9, 10, 11, 12, 13, 14, 15, 16, 17, 18, 19, 20, 21, 22, 23, 24, 25, 26, 27, 28, 29, 30, 31, 32, 33, 34, 35, 36, 37, 38, 39, 40, 41, 42, 43, 44, 45, 46, 47, 48, 49, 50, 51, 52, 53, 54, 55, 56, 57, 58, 59, 60, 61, 62, 63, 64, 65, 66, 67, 68, 69, 70, 71, 72, 73, 74, 75, 76, 77, 78, 79, 80, 81, 82, 83, 84, 85, 86, 87, 88, 89, 90, 91, 92, 93, 94, 95, 96, 97, 98, 99, ...]\n",
       "\n",
       "[144233 rows x 0 columns]"
      ]
     },
     "execution_count": 43,
     "metadata": {},
     "output_type": "execute_result"
    }
   ],
   "source": [
    "train_transaction.select_dtypes(include=['object'])"
   ]
  },
  {
   "cell_type": "code",
   "execution_count": 44,
   "metadata": {
    "execution": {
     "iopub.execute_input": "2021-01-15T08:59:00.554730Z",
     "iopub.status.busy": "2021-01-15T08:59:00.554081Z",
     "iopub.status.idle": "2021-01-15T08:59:00.605333Z",
     "shell.execute_reply": "2021-01-15T08:59:00.604793Z"
    },
    "papermill": {
     "duration": 0.181781,
     "end_time": "2021-01-15T08:59:00.605450",
     "exception": false,
     "start_time": "2021-01-15T08:59:00.423669",
     "status": "completed"
    },
    "tags": []
   },
   "outputs": [
    {
     "data": {
      "text/html": [
       "<div>\n",
       "<style scoped>\n",
       "    .dataframe tbody tr th:only-of-type {\n",
       "        vertical-align: middle;\n",
       "    }\n",
       "\n",
       "    .dataframe tbody tr th {\n",
       "        vertical-align: top;\n",
       "    }\n",
       "\n",
       "    .dataframe thead th {\n",
       "        text-align: right;\n",
       "    }\n",
       "</style>\n",
       "<table border=\"1\" class=\"dataframe\">\n",
       "  <thead>\n",
       "    <tr style=\"text-align: right;\">\n",
       "      <th></th>\n",
       "      <th>TransactionDT</th>\n",
       "      <th>TransactionAmt</th>\n",
       "      <th>card1</th>\n",
       "      <th>card2</th>\n",
       "      <th>card3</th>\n",
       "      <th>card5</th>\n",
       "      <th>addr1</th>\n",
       "      <th>addr2</th>\n",
       "      <th>C1</th>\n",
       "      <th>C2</th>\n",
       "      <th>...</th>\n",
       "      <th>id_28</th>\n",
       "      <th>id_29</th>\n",
       "      <th>id_30</th>\n",
       "      <th>id_31</th>\n",
       "      <th>id_33</th>\n",
       "      <th>id_34</th>\n",
       "      <th>id_35</th>\n",
       "      <th>id_36</th>\n",
       "      <th>id_37</th>\n",
       "      <th>id_38</th>\n",
       "    </tr>\n",
       "  </thead>\n",
       "  <tbody>\n",
       "    <tr>\n",
       "      <th>0</th>\n",
       "      <td>86400</td>\n",
       "      <td>68.50</td>\n",
       "      <td>13926</td>\n",
       "      <td>370.624808</td>\n",
       "      <td>150.0</td>\n",
       "      <td>142.0</td>\n",
       "      <td>315.0</td>\n",
       "      <td>87.0</td>\n",
       "      <td>1.0</td>\n",
       "      <td>1.0</td>\n",
       "      <td>...</td>\n",
       "      <td>1</td>\n",
       "      <td>1</td>\n",
       "      <td>7</td>\n",
       "      <td>123</td>\n",
       "      <td>164</td>\n",
       "      <td>3</td>\n",
       "      <td>1</td>\n",
       "      <td>0</td>\n",
       "      <td>1</td>\n",
       "      <td>1</td>\n",
       "    </tr>\n",
       "    <tr>\n",
       "      <th>1</th>\n",
       "      <td>86401</td>\n",
       "      <td>29.00</td>\n",
       "      <td>2755</td>\n",
       "      <td>404.000000</td>\n",
       "      <td>150.0</td>\n",
       "      <td>102.0</td>\n",
       "      <td>325.0</td>\n",
       "      <td>87.0</td>\n",
       "      <td>1.0</td>\n",
       "      <td>1.0</td>\n",
       "      <td>...</td>\n",
       "      <td>1</td>\n",
       "      <td>1</td>\n",
       "      <td>63</td>\n",
       "      <td>98</td>\n",
       "      <td>48</td>\n",
       "      <td>2</td>\n",
       "      <td>1</td>\n",
       "      <td>0</td>\n",
       "      <td>0</td>\n",
       "      <td>1</td>\n",
       "    </tr>\n",
       "    <tr>\n",
       "      <th>2</th>\n",
       "      <td>86469</td>\n",
       "      <td>59.00</td>\n",
       "      <td>4663</td>\n",
       "      <td>490.000000</td>\n",
       "      <td>150.0</td>\n",
       "      <td>166.0</td>\n",
       "      <td>330.0</td>\n",
       "      <td>87.0</td>\n",
       "      <td>1.0</td>\n",
       "      <td>1.0</td>\n",
       "      <td>...</td>\n",
       "      <td>0</td>\n",
       "      <td>0</td>\n",
       "      <td>63</td>\n",
       "      <td>44</td>\n",
       "      <td>48</td>\n",
       "      <td>2</td>\n",
       "      <td>0</td>\n",
       "      <td>0</td>\n",
       "      <td>1</td>\n",
       "      <td>1</td>\n",
       "    </tr>\n",
       "    <tr>\n",
       "      <th>3</th>\n",
       "      <td>86499</td>\n",
       "      <td>50.00</td>\n",
       "      <td>18132</td>\n",
       "      <td>567.000000</td>\n",
       "      <td>150.0</td>\n",
       "      <td>117.0</td>\n",
       "      <td>476.0</td>\n",
       "      <td>87.0</td>\n",
       "      <td>2.0</td>\n",
       "      <td>5.0</td>\n",
       "      <td>...</td>\n",
       "      <td>1</td>\n",
       "      <td>1</td>\n",
       "      <td>63</td>\n",
       "      <td>44</td>\n",
       "      <td>48</td>\n",
       "      <td>2</td>\n",
       "      <td>0</td>\n",
       "      <td>0</td>\n",
       "      <td>1</td>\n",
       "      <td>1</td>\n",
       "    </tr>\n",
       "    <tr>\n",
       "      <th>4</th>\n",
       "      <td>86506</td>\n",
       "      <td>50.00</td>\n",
       "      <td>4497</td>\n",
       "      <td>514.000000</td>\n",
       "      <td>150.0</td>\n",
       "      <td>102.0</td>\n",
       "      <td>420.0</td>\n",
       "      <td>87.0</td>\n",
       "      <td>1.0</td>\n",
       "      <td>1.0</td>\n",
       "      <td>...</td>\n",
       "      <td>0</td>\n",
       "      <td>0</td>\n",
       "      <td>24</td>\n",
       "      <td>44</td>\n",
       "      <td>40</td>\n",
       "      <td>3</td>\n",
       "      <td>1</td>\n",
       "      <td>0</td>\n",
       "      <td>1</td>\n",
       "      <td>1</td>\n",
       "    </tr>\n",
       "    <tr>\n",
       "      <th>...</th>\n",
       "      <td>...</td>\n",
       "      <td>...</td>\n",
       "      <td>...</td>\n",
       "      <td>...</td>\n",
       "      <td>...</td>\n",
       "      <td>...</td>\n",
       "      <td>...</td>\n",
       "      <td>...</td>\n",
       "      <td>...</td>\n",
       "      <td>...</td>\n",
       "      <td>...</td>\n",
       "      <td>...</td>\n",
       "      <td>...</td>\n",
       "      <td>...</td>\n",
       "      <td>...</td>\n",
       "      <td>...</td>\n",
       "      <td>...</td>\n",
       "      <td>...</td>\n",
       "      <td>...</td>\n",
       "      <td>...</td>\n",
       "      <td>...</td>\n",
       "    </tr>\n",
       "    <tr>\n",
       "      <th>144228</th>\n",
       "      <td>2970544</td>\n",
       "      <td>59.00</td>\n",
       "      <td>9500</td>\n",
       "      <td>321.000000</td>\n",
       "      <td>150.0</td>\n",
       "      <td>226.0</td>\n",
       "      <td>126.0</td>\n",
       "      <td>87.0</td>\n",
       "      <td>3.0</td>\n",
       "      <td>2.0</td>\n",
       "      <td>...</td>\n",
       "      <td>0</td>\n",
       "      <td>0</td>\n",
       "      <td>43</td>\n",
       "      <td>57</td>\n",
       "      <td>98</td>\n",
       "      <td>3</td>\n",
       "      <td>0</td>\n",
       "      <td>0</td>\n",
       "      <td>1</td>\n",
       "      <td>0</td>\n",
       "    </tr>\n",
       "    <tr>\n",
       "      <th>144229</th>\n",
       "      <td>2970732</td>\n",
       "      <td>67.95</td>\n",
       "      <td>7919</td>\n",
       "      <td>194.000000</td>\n",
       "      <td>150.0</td>\n",
       "      <td>202.0</td>\n",
       "      <td>181.0</td>\n",
       "      <td>87.0</td>\n",
       "      <td>102.0</td>\n",
       "      <td>100.0</td>\n",
       "      <td>...</td>\n",
       "      <td>1</td>\n",
       "      <td>1</td>\n",
       "      <td>8</td>\n",
       "      <td>31</td>\n",
       "      <td>255</td>\n",
       "      <td>3</td>\n",
       "      <td>1</td>\n",
       "      <td>0</td>\n",
       "      <td>1</td>\n",
       "      <td>0</td>\n",
       "    </tr>\n",
       "    <tr>\n",
       "      <th>144230</th>\n",
       "      <td>2970770</td>\n",
       "      <td>73.00</td>\n",
       "      <td>17131</td>\n",
       "      <td>111.000000</td>\n",
       "      <td>150.0</td>\n",
       "      <td>224.0</td>\n",
       "      <td>264.0</td>\n",
       "      <td>87.0</td>\n",
       "      <td>24.0</td>\n",
       "      <td>20.0</td>\n",
       "      <td>...</td>\n",
       "      <td>1</td>\n",
       "      <td>1</td>\n",
       "      <td>8</td>\n",
       "      <td>54</td>\n",
       "      <td>255</td>\n",
       "      <td>3</td>\n",
       "      <td>0</td>\n",
       "      <td>0</td>\n",
       "      <td>1</td>\n",
       "      <td>0</td>\n",
       "    </tr>\n",
       "    <tr>\n",
       "      <th>144231</th>\n",
       "      <td>2970806</td>\n",
       "      <td>205.70</td>\n",
       "      <td>5986</td>\n",
       "      <td>533.000000</td>\n",
       "      <td>150.0</td>\n",
       "      <td>224.0</td>\n",
       "      <td>343.0</td>\n",
       "      <td>87.0</td>\n",
       "      <td>4.0</td>\n",
       "      <td>6.0</td>\n",
       "      <td>...</td>\n",
       "      <td>0</td>\n",
       "      <td>0</td>\n",
       "      <td>40</td>\n",
       "      <td>56</td>\n",
       "      <td>183</td>\n",
       "      <td>3</td>\n",
       "      <td>1</td>\n",
       "      <td>0</td>\n",
       "      <td>1</td>\n",
       "      <td>0</td>\n",
       "    </tr>\n",
       "    <tr>\n",
       "      <th>144232</th>\n",
       "      <td>2970817</td>\n",
       "      <td>213.00</td>\n",
       "      <td>1906</td>\n",
       "      <td>199.000000</td>\n",
       "      <td>150.0</td>\n",
       "      <td>224.0</td>\n",
       "      <td>225.0</td>\n",
       "      <td>87.0</td>\n",
       "      <td>1.0</td>\n",
       "      <td>1.0</td>\n",
       "      <td>...</td>\n",
       "      <td>1</td>\n",
       "      <td>1</td>\n",
       "      <td>40</td>\n",
       "      <td>57</td>\n",
       "      <td>183</td>\n",
       "      <td>3</td>\n",
       "      <td>0</td>\n",
       "      <td>0</td>\n",
       "      <td>1</td>\n",
       "      <td>0</td>\n",
       "    </tr>\n",
       "  </tbody>\n",
       "</table>\n",
       "<p>144233 rows × 226 columns</p>\n",
       "</div>"
      ],
      "text/plain": [
       "        TransactionDT  TransactionAmt  card1       card2  card3  card5  addr1  \\\n",
       "0               86400           68.50  13926  370.624808  150.0  142.0  315.0   \n",
       "1               86401           29.00   2755  404.000000  150.0  102.0  325.0   \n",
       "2               86469           59.00   4663  490.000000  150.0  166.0  330.0   \n",
       "3               86499           50.00  18132  567.000000  150.0  117.0  476.0   \n",
       "4               86506           50.00   4497  514.000000  150.0  102.0  420.0   \n",
       "...               ...             ...    ...         ...    ...    ...    ...   \n",
       "144228        2970544           59.00   9500  321.000000  150.0  226.0  126.0   \n",
       "144229        2970732           67.95   7919  194.000000  150.0  202.0  181.0   \n",
       "144230        2970770           73.00  17131  111.000000  150.0  224.0  264.0   \n",
       "144231        2970806          205.70   5986  533.000000  150.0  224.0  343.0   \n",
       "144232        2970817          213.00   1906  199.000000  150.0  224.0  225.0   \n",
       "\n",
       "        addr2     C1     C2  ...  id_28  id_29  id_30  id_31  id_33  id_34  \\\n",
       "0        87.0    1.0    1.0  ...      1      1      7    123    164      3   \n",
       "1        87.0    1.0    1.0  ...      1      1     63     98     48      2   \n",
       "2        87.0    1.0    1.0  ...      0      0     63     44     48      2   \n",
       "3        87.0    2.0    5.0  ...      1      1     63     44     48      2   \n",
       "4        87.0    1.0    1.0  ...      0      0     24     44     40      3   \n",
       "...       ...    ...    ...  ...    ...    ...    ...    ...    ...    ...   \n",
       "144228   87.0    3.0    2.0  ...      0      0     43     57     98      3   \n",
       "144229   87.0  102.0  100.0  ...      1      1      8     31    255      3   \n",
       "144230   87.0   24.0   20.0  ...      1      1      8     54    255      3   \n",
       "144231   87.0    4.0    6.0  ...      0      0     40     56    183      3   \n",
       "144232   87.0    1.0    1.0  ...      1      1     40     57    183      3   \n",
       "\n",
       "        id_35  id_36  id_37  id_38  \n",
       "0           1      0      1      1  \n",
       "1           1      0      0      1  \n",
       "2           0      0      1      1  \n",
       "3           0      0      1      1  \n",
       "4           1      0      1      1  \n",
       "...       ...    ...    ...    ...  \n",
       "144228      0      0      1      0  \n",
       "144229      1      0      1      0  \n",
       "144230      0      0      1      0  \n",
       "144231      1      0      1      0  \n",
       "144232      0      0      1      0  \n",
       "\n",
       "[144233 rows x 226 columns]"
      ]
     },
     "execution_count": 44,
     "metadata": {},
     "output_type": "execute_result"
    }
   ],
   "source": [
    "train_transaction"
   ]
  },
  {
   "cell_type": "code",
   "execution_count": 45,
   "metadata": {
    "execution": {
     "iopub.execute_input": "2021-01-15T08:59:00.784189Z",
     "iopub.status.busy": "2021-01-15T08:59:00.783574Z",
     "iopub.status.idle": "2021-01-15T08:59:00.949473Z",
     "shell.execute_reply": "2021-01-15T08:59:00.948887Z"
    },
    "papermill": {
     "duration": 0.259783,
     "end_time": "2021-01-15T08:59:00.949591",
     "exception": false,
     "start_time": "2021-01-15T08:59:00.689808",
     "status": "completed"
    },
    "tags": []
   },
   "outputs": [],
   "source": [
    "normalized = preprocessing.normalize(train_transaction)"
   ]
  },
  {
   "cell_type": "code",
   "execution_count": 46,
   "metadata": {
    "execution": {
     "iopub.execute_input": "2021-01-15T08:59:01.135075Z",
     "iopub.status.busy": "2021-01-15T08:59:01.134448Z",
     "iopub.status.idle": "2021-01-15T08:59:01.178523Z",
     "shell.execute_reply": "2021-01-15T08:59:01.179154Z"
    },
    "papermill": {
     "duration": 0.143273,
     "end_time": "2021-01-15T08:59:01.179363",
     "exception": false,
     "start_time": "2021-01-15T08:59:01.036090",
     "status": "completed"
    },
    "tags": []
   },
   "outputs": [
    {
     "data": {
      "text/html": [
       "<div>\n",
       "<style scoped>\n",
       "    .dataframe tbody tr th:only-of-type {\n",
       "        vertical-align: middle;\n",
       "    }\n",
       "\n",
       "    .dataframe tbody tr th {\n",
       "        vertical-align: top;\n",
       "    }\n",
       "\n",
       "    .dataframe thead th {\n",
       "        text-align: right;\n",
       "    }\n",
       "</style>\n",
       "<table border=\"1\" class=\"dataframe\">\n",
       "  <thead>\n",
       "    <tr style=\"text-align: right;\">\n",
       "      <th></th>\n",
       "      <th>TransactionDT</th>\n",
       "      <th>TransactionAmt</th>\n",
       "      <th>card1</th>\n",
       "      <th>card2</th>\n",
       "      <th>card3</th>\n",
       "      <th>card5</th>\n",
       "      <th>addr1</th>\n",
       "      <th>addr2</th>\n",
       "      <th>C1</th>\n",
       "      <th>C2</th>\n",
       "      <th>...</th>\n",
       "      <th>id_28</th>\n",
       "      <th>id_29</th>\n",
       "      <th>id_30</th>\n",
       "      <th>id_31</th>\n",
       "      <th>id_33</th>\n",
       "      <th>id_34</th>\n",
       "      <th>id_35</th>\n",
       "      <th>id_36</th>\n",
       "      <th>id_37</th>\n",
       "      <th>id_38</th>\n",
       "    </tr>\n",
       "  </thead>\n",
       "  <tbody>\n",
       "    <tr>\n",
       "      <th>0</th>\n",
       "      <td>86400</td>\n",
       "      <td>68.50</td>\n",
       "      <td>13926</td>\n",
       "      <td>370.624808</td>\n",
       "      <td>150.0</td>\n",
       "      <td>142.0</td>\n",
       "      <td>315.0</td>\n",
       "      <td>87.0</td>\n",
       "      <td>1.0</td>\n",
       "      <td>1.0</td>\n",
       "      <td>...</td>\n",
       "      <td>1</td>\n",
       "      <td>1</td>\n",
       "      <td>7</td>\n",
       "      <td>123</td>\n",
       "      <td>164</td>\n",
       "      <td>3</td>\n",
       "      <td>1</td>\n",
       "      <td>0</td>\n",
       "      <td>1</td>\n",
       "      <td>1</td>\n",
       "    </tr>\n",
       "    <tr>\n",
       "      <th>1</th>\n",
       "      <td>86401</td>\n",
       "      <td>29.00</td>\n",
       "      <td>2755</td>\n",
       "      <td>404.000000</td>\n",
       "      <td>150.0</td>\n",
       "      <td>102.0</td>\n",
       "      <td>325.0</td>\n",
       "      <td>87.0</td>\n",
       "      <td>1.0</td>\n",
       "      <td>1.0</td>\n",
       "      <td>...</td>\n",
       "      <td>1</td>\n",
       "      <td>1</td>\n",
       "      <td>63</td>\n",
       "      <td>98</td>\n",
       "      <td>48</td>\n",
       "      <td>2</td>\n",
       "      <td>1</td>\n",
       "      <td>0</td>\n",
       "      <td>0</td>\n",
       "      <td>1</td>\n",
       "    </tr>\n",
       "    <tr>\n",
       "      <th>2</th>\n",
       "      <td>86469</td>\n",
       "      <td>59.00</td>\n",
       "      <td>4663</td>\n",
       "      <td>490.000000</td>\n",
       "      <td>150.0</td>\n",
       "      <td>166.0</td>\n",
       "      <td>330.0</td>\n",
       "      <td>87.0</td>\n",
       "      <td>1.0</td>\n",
       "      <td>1.0</td>\n",
       "      <td>...</td>\n",
       "      <td>0</td>\n",
       "      <td>0</td>\n",
       "      <td>63</td>\n",
       "      <td>44</td>\n",
       "      <td>48</td>\n",
       "      <td>2</td>\n",
       "      <td>0</td>\n",
       "      <td>0</td>\n",
       "      <td>1</td>\n",
       "      <td>1</td>\n",
       "    </tr>\n",
       "    <tr>\n",
       "      <th>3</th>\n",
       "      <td>86499</td>\n",
       "      <td>50.00</td>\n",
       "      <td>18132</td>\n",
       "      <td>567.000000</td>\n",
       "      <td>150.0</td>\n",
       "      <td>117.0</td>\n",
       "      <td>476.0</td>\n",
       "      <td>87.0</td>\n",
       "      <td>2.0</td>\n",
       "      <td>5.0</td>\n",
       "      <td>...</td>\n",
       "      <td>1</td>\n",
       "      <td>1</td>\n",
       "      <td>63</td>\n",
       "      <td>44</td>\n",
       "      <td>48</td>\n",
       "      <td>2</td>\n",
       "      <td>0</td>\n",
       "      <td>0</td>\n",
       "      <td>1</td>\n",
       "      <td>1</td>\n",
       "    </tr>\n",
       "    <tr>\n",
       "      <th>4</th>\n",
       "      <td>86506</td>\n",
       "      <td>50.00</td>\n",
       "      <td>4497</td>\n",
       "      <td>514.000000</td>\n",
       "      <td>150.0</td>\n",
       "      <td>102.0</td>\n",
       "      <td>420.0</td>\n",
       "      <td>87.0</td>\n",
       "      <td>1.0</td>\n",
       "      <td>1.0</td>\n",
       "      <td>...</td>\n",
       "      <td>0</td>\n",
       "      <td>0</td>\n",
       "      <td>24</td>\n",
       "      <td>44</td>\n",
       "      <td>40</td>\n",
       "      <td>3</td>\n",
       "      <td>1</td>\n",
       "      <td>0</td>\n",
       "      <td>1</td>\n",
       "      <td>1</td>\n",
       "    </tr>\n",
       "    <tr>\n",
       "      <th>...</th>\n",
       "      <td>...</td>\n",
       "      <td>...</td>\n",
       "      <td>...</td>\n",
       "      <td>...</td>\n",
       "      <td>...</td>\n",
       "      <td>...</td>\n",
       "      <td>...</td>\n",
       "      <td>...</td>\n",
       "      <td>...</td>\n",
       "      <td>...</td>\n",
       "      <td>...</td>\n",
       "      <td>...</td>\n",
       "      <td>...</td>\n",
       "      <td>...</td>\n",
       "      <td>...</td>\n",
       "      <td>...</td>\n",
       "      <td>...</td>\n",
       "      <td>...</td>\n",
       "      <td>...</td>\n",
       "      <td>...</td>\n",
       "      <td>...</td>\n",
       "    </tr>\n",
       "    <tr>\n",
       "      <th>144228</th>\n",
       "      <td>2970544</td>\n",
       "      <td>59.00</td>\n",
       "      <td>9500</td>\n",
       "      <td>321.000000</td>\n",
       "      <td>150.0</td>\n",
       "      <td>226.0</td>\n",
       "      <td>126.0</td>\n",
       "      <td>87.0</td>\n",
       "      <td>3.0</td>\n",
       "      <td>2.0</td>\n",
       "      <td>...</td>\n",
       "      <td>0</td>\n",
       "      <td>0</td>\n",
       "      <td>43</td>\n",
       "      <td>57</td>\n",
       "      <td>98</td>\n",
       "      <td>3</td>\n",
       "      <td>0</td>\n",
       "      <td>0</td>\n",
       "      <td>1</td>\n",
       "      <td>0</td>\n",
       "    </tr>\n",
       "    <tr>\n",
       "      <th>144229</th>\n",
       "      <td>2970732</td>\n",
       "      <td>67.95</td>\n",
       "      <td>7919</td>\n",
       "      <td>194.000000</td>\n",
       "      <td>150.0</td>\n",
       "      <td>202.0</td>\n",
       "      <td>181.0</td>\n",
       "      <td>87.0</td>\n",
       "      <td>102.0</td>\n",
       "      <td>100.0</td>\n",
       "      <td>...</td>\n",
       "      <td>1</td>\n",
       "      <td>1</td>\n",
       "      <td>8</td>\n",
       "      <td>31</td>\n",
       "      <td>255</td>\n",
       "      <td>3</td>\n",
       "      <td>1</td>\n",
       "      <td>0</td>\n",
       "      <td>1</td>\n",
       "      <td>0</td>\n",
       "    </tr>\n",
       "    <tr>\n",
       "      <th>144230</th>\n",
       "      <td>2970770</td>\n",
       "      <td>73.00</td>\n",
       "      <td>17131</td>\n",
       "      <td>111.000000</td>\n",
       "      <td>150.0</td>\n",
       "      <td>224.0</td>\n",
       "      <td>264.0</td>\n",
       "      <td>87.0</td>\n",
       "      <td>24.0</td>\n",
       "      <td>20.0</td>\n",
       "      <td>...</td>\n",
       "      <td>1</td>\n",
       "      <td>1</td>\n",
       "      <td>8</td>\n",
       "      <td>54</td>\n",
       "      <td>255</td>\n",
       "      <td>3</td>\n",
       "      <td>0</td>\n",
       "      <td>0</td>\n",
       "      <td>1</td>\n",
       "      <td>0</td>\n",
       "    </tr>\n",
       "    <tr>\n",
       "      <th>144231</th>\n",
       "      <td>2970806</td>\n",
       "      <td>205.70</td>\n",
       "      <td>5986</td>\n",
       "      <td>533.000000</td>\n",
       "      <td>150.0</td>\n",
       "      <td>224.0</td>\n",
       "      <td>343.0</td>\n",
       "      <td>87.0</td>\n",
       "      <td>4.0</td>\n",
       "      <td>6.0</td>\n",
       "      <td>...</td>\n",
       "      <td>0</td>\n",
       "      <td>0</td>\n",
       "      <td>40</td>\n",
       "      <td>56</td>\n",
       "      <td>183</td>\n",
       "      <td>3</td>\n",
       "      <td>1</td>\n",
       "      <td>0</td>\n",
       "      <td>1</td>\n",
       "      <td>0</td>\n",
       "    </tr>\n",
       "    <tr>\n",
       "      <th>144232</th>\n",
       "      <td>2970817</td>\n",
       "      <td>213.00</td>\n",
       "      <td>1906</td>\n",
       "      <td>199.000000</td>\n",
       "      <td>150.0</td>\n",
       "      <td>224.0</td>\n",
       "      <td>225.0</td>\n",
       "      <td>87.0</td>\n",
       "      <td>1.0</td>\n",
       "      <td>1.0</td>\n",
       "      <td>...</td>\n",
       "      <td>1</td>\n",
       "      <td>1</td>\n",
       "      <td>40</td>\n",
       "      <td>57</td>\n",
       "      <td>183</td>\n",
       "      <td>3</td>\n",
       "      <td>0</td>\n",
       "      <td>0</td>\n",
       "      <td>1</td>\n",
       "      <td>0</td>\n",
       "    </tr>\n",
       "  </tbody>\n",
       "</table>\n",
       "<p>144233 rows × 226 columns</p>\n",
       "</div>"
      ],
      "text/plain": [
       "        TransactionDT  TransactionAmt  card1       card2  card3  card5  addr1  \\\n",
       "0               86400           68.50  13926  370.624808  150.0  142.0  315.0   \n",
       "1               86401           29.00   2755  404.000000  150.0  102.0  325.0   \n",
       "2               86469           59.00   4663  490.000000  150.0  166.0  330.0   \n",
       "3               86499           50.00  18132  567.000000  150.0  117.0  476.0   \n",
       "4               86506           50.00   4497  514.000000  150.0  102.0  420.0   \n",
       "...               ...             ...    ...         ...    ...    ...    ...   \n",
       "144228        2970544           59.00   9500  321.000000  150.0  226.0  126.0   \n",
       "144229        2970732           67.95   7919  194.000000  150.0  202.0  181.0   \n",
       "144230        2970770           73.00  17131  111.000000  150.0  224.0  264.0   \n",
       "144231        2970806          205.70   5986  533.000000  150.0  224.0  343.0   \n",
       "144232        2970817          213.00   1906  199.000000  150.0  224.0  225.0   \n",
       "\n",
       "        addr2     C1     C2  ...  id_28  id_29  id_30  id_31  id_33  id_34  \\\n",
       "0        87.0    1.0    1.0  ...      1      1      7    123    164      3   \n",
       "1        87.0    1.0    1.0  ...      1      1     63     98     48      2   \n",
       "2        87.0    1.0    1.0  ...      0      0     63     44     48      2   \n",
       "3        87.0    2.0    5.0  ...      1      1     63     44     48      2   \n",
       "4        87.0    1.0    1.0  ...      0      0     24     44     40      3   \n",
       "...       ...    ...    ...  ...    ...    ...    ...    ...    ...    ...   \n",
       "144228   87.0    3.0    2.0  ...      0      0     43     57     98      3   \n",
       "144229   87.0  102.0  100.0  ...      1      1      8     31    255      3   \n",
       "144230   87.0   24.0   20.0  ...      1      1      8     54    255      3   \n",
       "144231   87.0    4.0    6.0  ...      0      0     40     56    183      3   \n",
       "144232   87.0    1.0    1.0  ...      1      1     40     57    183      3   \n",
       "\n",
       "        id_35  id_36  id_37  id_38  \n",
       "0           1      0      1      1  \n",
       "1           1      0      0      1  \n",
       "2           0      0      1      1  \n",
       "3           0      0      1      1  \n",
       "4           1      0      1      1  \n",
       "...       ...    ...    ...    ...  \n",
       "144228      0      0      1      0  \n",
       "144229      1      0      1      0  \n",
       "144230      0      0      1      0  \n",
       "144231      1      0      1      0  \n",
       "144232      0      0      1      0  \n",
       "\n",
       "[144233 rows x 226 columns]"
      ]
     },
     "execution_count": 46,
     "metadata": {},
     "output_type": "execute_result"
    }
   ],
   "source": [
    "train_transaction"
   ]
  },
  {
   "cell_type": "markdown",
   "metadata": {
    "papermill": {
     "duration": 0.128672,
     "end_time": "2021-01-15T08:59:01.444395",
     "exception": false,
     "start_time": "2021-01-15T08:59:01.315723",
     "status": "completed"
    },
    "tags": []
   },
   "source": [
    "# Test-data stuff"
   ]
  },
  {
   "cell_type": "code",
   "execution_count": 47,
   "metadata": {
    "execution": {
     "iopub.execute_input": "2021-01-15T08:59:01.625093Z",
     "iopub.status.busy": "2021-01-15T08:59:01.624446Z",
     "iopub.status.idle": "2021-01-15T08:59:01.626956Z",
     "shell.execute_reply": "2021-01-15T08:59:01.626332Z"
    },
    "papermill": {
     "duration": 0.095863,
     "end_time": "2021-01-15T08:59:01.627064",
     "exception": false,
     "start_time": "2021-01-15T08:59:01.531201",
     "status": "completed"
    },
    "tags": []
   },
   "outputs": [],
   "source": [
    "test_transaction=test_transaction.iloc[:144233,:]"
   ]
  },
  {
   "cell_type": "code",
   "execution_count": 48,
   "metadata": {
    "execution": {
     "iopub.execute_input": "2021-01-15T08:59:01.807878Z",
     "iopub.status.busy": "2021-01-15T08:59:01.807161Z",
     "iopub.status.idle": "2021-01-15T08:59:01.812368Z",
     "shell.execute_reply": "2021-01-15T08:59:01.811639Z"
    },
    "papermill": {
     "duration": 0.097984,
     "end_time": "2021-01-15T08:59:01.812485",
     "exception": false,
     "start_time": "2021-01-15T08:59:01.714501",
     "status": "completed"
    },
    "tags": []
   },
   "outputs": [
    {
     "data": {
      "text/plain": [
       "(144233, 433)"
      ]
     },
     "execution_count": 48,
     "metadata": {},
     "output_type": "execute_result"
    }
   ],
   "source": [
    "test_transaction.shape"
   ]
  },
  {
   "cell_type": "code",
   "execution_count": 49,
   "metadata": {
    "execution": {
     "iopub.execute_input": "2021-01-15T08:59:01.995889Z",
     "iopub.status.busy": "2021-01-15T08:59:01.995214Z",
     "iopub.status.idle": "2021-01-15T08:59:02.199218Z",
     "shell.execute_reply": "2021-01-15T08:59:02.199740Z"
    },
    "papermill": {
     "duration": 0.298036,
     "end_time": "2021-01-15T08:59:02.199905",
     "exception": false,
     "start_time": "2021-01-15T08:59:01.901869",
     "status": "completed"
    },
    "tags": []
   },
   "outputs": [
    {
     "data": {
      "text/html": [
       "<div>\n",
       "<style scoped>\n",
       "    .dataframe tbody tr th:only-of-type {\n",
       "        vertical-align: middle;\n",
       "    }\n",
       "\n",
       "    .dataframe tbody tr th {\n",
       "        vertical-align: top;\n",
       "    }\n",
       "\n",
       "    .dataframe thead th {\n",
       "        text-align: right;\n",
       "    }\n",
       "</style>\n",
       "<table border=\"1\" class=\"dataframe\">\n",
       "  <thead>\n",
       "    <tr style=\"text-align: right;\">\n",
       "      <th></th>\n",
       "      <th>TransactionID</th>\n",
       "      <th>TransactionDT</th>\n",
       "      <th>TransactionAmt</th>\n",
       "      <th>ProductCD</th>\n",
       "      <th>card1</th>\n",
       "      <th>card2</th>\n",
       "      <th>card3</th>\n",
       "      <th>card4</th>\n",
       "      <th>card5</th>\n",
       "      <th>card6</th>\n",
       "      <th>...</th>\n",
       "      <th>id-31</th>\n",
       "      <th>id-32</th>\n",
       "      <th>id-33</th>\n",
       "      <th>id-34</th>\n",
       "      <th>id-35</th>\n",
       "      <th>id-36</th>\n",
       "      <th>id-37</th>\n",
       "      <th>id-38</th>\n",
       "      <th>DeviceType</th>\n",
       "      <th>DeviceInfo</th>\n",
       "    </tr>\n",
       "  </thead>\n",
       "  <tbody>\n",
       "    <tr>\n",
       "      <th>0</th>\n",
       "      <td>3663549</td>\n",
       "      <td>18403224</td>\n",
       "      <td>31.95</td>\n",
       "      <td>W</td>\n",
       "      <td>10409</td>\n",
       "      <td>111.0</td>\n",
       "      <td>150.0</td>\n",
       "      <td>visa</td>\n",
       "      <td>226.0</td>\n",
       "      <td>debit</td>\n",
       "      <td>...</td>\n",
       "      <td>chrome 67.0 for android</td>\n",
       "      <td>NaN</td>\n",
       "      <td>NaN</td>\n",
       "      <td>NaN</td>\n",
       "      <td>F</td>\n",
       "      <td>F</td>\n",
       "      <td>T</td>\n",
       "      <td>F</td>\n",
       "      <td>mobile</td>\n",
       "      <td>MYA-L13 Build/HUAWEIMYA-L13</td>\n",
       "    </tr>\n",
       "    <tr>\n",
       "      <th>1</th>\n",
       "      <td>3663550</td>\n",
       "      <td>18403263</td>\n",
       "      <td>49.00</td>\n",
       "      <td>W</td>\n",
       "      <td>4272</td>\n",
       "      <td>111.0</td>\n",
       "      <td>150.0</td>\n",
       "      <td>visa</td>\n",
       "      <td>226.0</td>\n",
       "      <td>debit</td>\n",
       "      <td>...</td>\n",
       "      <td>chrome 67.0 for android</td>\n",
       "      <td>24.0</td>\n",
       "      <td>1280x720</td>\n",
       "      <td>match_status:2</td>\n",
       "      <td>T</td>\n",
       "      <td>F</td>\n",
       "      <td>T</td>\n",
       "      <td>T</td>\n",
       "      <td>mobile</td>\n",
       "      <td>LGLS676 Build/MXB48T</td>\n",
       "    </tr>\n",
       "    <tr>\n",
       "      <th>2</th>\n",
       "      <td>3663551</td>\n",
       "      <td>18403310</td>\n",
       "      <td>171.00</td>\n",
       "      <td>W</td>\n",
       "      <td>4476</td>\n",
       "      <td>574.0</td>\n",
       "      <td>150.0</td>\n",
       "      <td>visa</td>\n",
       "      <td>226.0</td>\n",
       "      <td>debit</td>\n",
       "      <td>...</td>\n",
       "      <td>ie 11.0 for tablet</td>\n",
       "      <td>NaN</td>\n",
       "      <td>NaN</td>\n",
       "      <td>NaN</td>\n",
       "      <td>F</td>\n",
       "      <td>T</td>\n",
       "      <td>T</td>\n",
       "      <td>F</td>\n",
       "      <td>desktop</td>\n",
       "      <td>Trident/7.0</td>\n",
       "    </tr>\n",
       "    <tr>\n",
       "      <th>3</th>\n",
       "      <td>3663552</td>\n",
       "      <td>18403310</td>\n",
       "      <td>284.95</td>\n",
       "      <td>W</td>\n",
       "      <td>10989</td>\n",
       "      <td>360.0</td>\n",
       "      <td>150.0</td>\n",
       "      <td>visa</td>\n",
       "      <td>166.0</td>\n",
       "      <td>debit</td>\n",
       "      <td>...</td>\n",
       "      <td>chrome 67.0 for android</td>\n",
       "      <td>NaN</td>\n",
       "      <td>NaN</td>\n",
       "      <td>NaN</td>\n",
       "      <td>F</td>\n",
       "      <td>F</td>\n",
       "      <td>T</td>\n",
       "      <td>F</td>\n",
       "      <td>mobile</td>\n",
       "      <td>MYA-L13 Build/HUAWEIMYA-L13</td>\n",
       "    </tr>\n",
       "    <tr>\n",
       "      <th>4</th>\n",
       "      <td>3663553</td>\n",
       "      <td>18403317</td>\n",
       "      <td>67.95</td>\n",
       "      <td>W</td>\n",
       "      <td>18018</td>\n",
       "      <td>452.0</td>\n",
       "      <td>150.0</td>\n",
       "      <td>mastercard</td>\n",
       "      <td>117.0</td>\n",
       "      <td>debit</td>\n",
       "      <td>...</td>\n",
       "      <td>chrome 67.0 for android</td>\n",
       "      <td>NaN</td>\n",
       "      <td>NaN</td>\n",
       "      <td>NaN</td>\n",
       "      <td>F</td>\n",
       "      <td>F</td>\n",
       "      <td>T</td>\n",
       "      <td>F</td>\n",
       "      <td>mobile</td>\n",
       "      <td>SM-G9650 Build/R16NW</td>\n",
       "    </tr>\n",
       "    <tr>\n",
       "      <th>...</th>\n",
       "      <td>...</td>\n",
       "      <td>...</td>\n",
       "      <td>...</td>\n",
       "      <td>...</td>\n",
       "      <td>...</td>\n",
       "      <td>...</td>\n",
       "      <td>...</td>\n",
       "      <td>...</td>\n",
       "      <td>...</td>\n",
       "      <td>...</td>\n",
       "      <td>...</td>\n",
       "      <td>...</td>\n",
       "      <td>...</td>\n",
       "      <td>...</td>\n",
       "      <td>...</td>\n",
       "      <td>...</td>\n",
       "      <td>...</td>\n",
       "      <td>...</td>\n",
       "      <td>...</td>\n",
       "      <td>...</td>\n",
       "      <td>...</td>\n",
       "    </tr>\n",
       "    <tr>\n",
       "      <th>144228</th>\n",
       "      <td>3807777</td>\n",
       "      <td>23405703</td>\n",
       "      <td>107.95</td>\n",
       "      <td>W</td>\n",
       "      <td>12544</td>\n",
       "      <td>321.0</td>\n",
       "      <td>150.0</td>\n",
       "      <td>visa</td>\n",
       "      <td>226.0</td>\n",
       "      <td>debit</td>\n",
       "      <td>...</td>\n",
       "      <td>NaN</td>\n",
       "      <td>NaN</td>\n",
       "      <td>NaN</td>\n",
       "      <td>NaN</td>\n",
       "      <td>NaN</td>\n",
       "      <td>NaN</td>\n",
       "      <td>NaN</td>\n",
       "      <td>NaN</td>\n",
       "      <td>NaN</td>\n",
       "      <td>NaN</td>\n",
       "    </tr>\n",
       "    <tr>\n",
       "      <th>144229</th>\n",
       "      <td>3807778</td>\n",
       "      <td>23405706</td>\n",
       "      <td>275.00</td>\n",
       "      <td>W</td>\n",
       "      <td>12577</td>\n",
       "      <td>268.0</td>\n",
       "      <td>150.0</td>\n",
       "      <td>visa</td>\n",
       "      <td>166.0</td>\n",
       "      <td>debit</td>\n",
       "      <td>...</td>\n",
       "      <td>NaN</td>\n",
       "      <td>NaN</td>\n",
       "      <td>NaN</td>\n",
       "      <td>NaN</td>\n",
       "      <td>NaN</td>\n",
       "      <td>NaN</td>\n",
       "      <td>NaN</td>\n",
       "      <td>NaN</td>\n",
       "      <td>NaN</td>\n",
       "      <td>NaN</td>\n",
       "    </tr>\n",
       "    <tr>\n",
       "      <th>144230</th>\n",
       "      <td>3807779</td>\n",
       "      <td>23405732</td>\n",
       "      <td>82.95</td>\n",
       "      <td>W</td>\n",
       "      <td>18006</td>\n",
       "      <td>543.0</td>\n",
       "      <td>150.0</td>\n",
       "      <td>mastercard</td>\n",
       "      <td>224.0</td>\n",
       "      <td>debit</td>\n",
       "      <td>...</td>\n",
       "      <td>NaN</td>\n",
       "      <td>NaN</td>\n",
       "      <td>NaN</td>\n",
       "      <td>NaN</td>\n",
       "      <td>NaN</td>\n",
       "      <td>NaN</td>\n",
       "      <td>NaN</td>\n",
       "      <td>NaN</td>\n",
       "      <td>NaN</td>\n",
       "      <td>NaN</td>\n",
       "    </tr>\n",
       "    <tr>\n",
       "      <th>144231</th>\n",
       "      <td>3807780</td>\n",
       "      <td>23405743</td>\n",
       "      <td>34.00</td>\n",
       "      <td>W</td>\n",
       "      <td>13780</td>\n",
       "      <td>298.0</td>\n",
       "      <td>150.0</td>\n",
       "      <td>visa</td>\n",
       "      <td>226.0</td>\n",
       "      <td>debit</td>\n",
       "      <td>...</td>\n",
       "      <td>NaN</td>\n",
       "      <td>NaN</td>\n",
       "      <td>NaN</td>\n",
       "      <td>NaN</td>\n",
       "      <td>NaN</td>\n",
       "      <td>NaN</td>\n",
       "      <td>NaN</td>\n",
       "      <td>NaN</td>\n",
       "      <td>NaN</td>\n",
       "      <td>NaN</td>\n",
       "    </tr>\n",
       "    <tr>\n",
       "      <th>144232</th>\n",
       "      <td>3807781</td>\n",
       "      <td>23405787</td>\n",
       "      <td>335.00</td>\n",
       "      <td>W</td>\n",
       "      <td>12839</td>\n",
       "      <td>321.0</td>\n",
       "      <td>150.0</td>\n",
       "      <td>visa</td>\n",
       "      <td>226.0</td>\n",
       "      <td>debit</td>\n",
       "      <td>...</td>\n",
       "      <td>NaN</td>\n",
       "      <td>NaN</td>\n",
       "      <td>NaN</td>\n",
       "      <td>NaN</td>\n",
       "      <td>NaN</td>\n",
       "      <td>NaN</td>\n",
       "      <td>NaN</td>\n",
       "      <td>NaN</td>\n",
       "      <td>NaN</td>\n",
       "      <td>NaN</td>\n",
       "    </tr>\n",
       "  </tbody>\n",
       "</table>\n",
       "<p>144233 rows × 433 columns</p>\n",
       "</div>"
      ],
      "text/plain": [
       "        TransactionID  TransactionDT  TransactionAmt ProductCD  card1  card2  \\\n",
       "0             3663549       18403224           31.95         W  10409  111.0   \n",
       "1             3663550       18403263           49.00         W   4272  111.0   \n",
       "2             3663551       18403310          171.00         W   4476  574.0   \n",
       "3             3663552       18403310          284.95         W  10989  360.0   \n",
       "4             3663553       18403317           67.95         W  18018  452.0   \n",
       "...               ...            ...             ...       ...    ...    ...   \n",
       "144228        3807777       23405703          107.95         W  12544  321.0   \n",
       "144229        3807778       23405706          275.00         W  12577  268.0   \n",
       "144230        3807779       23405732           82.95         W  18006  543.0   \n",
       "144231        3807780       23405743           34.00         W  13780  298.0   \n",
       "144232        3807781       23405787          335.00         W  12839  321.0   \n",
       "\n",
       "        card3       card4  card5  card6  ...                    id-31  id-32  \\\n",
       "0       150.0        visa  226.0  debit  ...  chrome 67.0 for android    NaN   \n",
       "1       150.0        visa  226.0  debit  ...  chrome 67.0 for android   24.0   \n",
       "2       150.0        visa  226.0  debit  ...       ie 11.0 for tablet    NaN   \n",
       "3       150.0        visa  166.0  debit  ...  chrome 67.0 for android    NaN   \n",
       "4       150.0  mastercard  117.0  debit  ...  chrome 67.0 for android    NaN   \n",
       "...       ...         ...    ...    ...  ...                      ...    ...   \n",
       "144228  150.0        visa  226.0  debit  ...                      NaN    NaN   \n",
       "144229  150.0        visa  166.0  debit  ...                      NaN    NaN   \n",
       "144230  150.0  mastercard  224.0  debit  ...                      NaN    NaN   \n",
       "144231  150.0        visa  226.0  debit  ...                      NaN    NaN   \n",
       "144232  150.0        visa  226.0  debit  ...                      NaN    NaN   \n",
       "\n",
       "           id-33           id-34 id-35 id-36  id-37  id-38  DeviceType  \\\n",
       "0            NaN             NaN     F     F      T      F      mobile   \n",
       "1       1280x720  match_status:2     T     F      T      T      mobile   \n",
       "2            NaN             NaN     F     T      T      F     desktop   \n",
       "3            NaN             NaN     F     F      T      F      mobile   \n",
       "4            NaN             NaN     F     F      T      F      mobile   \n",
       "...          ...             ...   ...   ...    ...    ...         ...   \n",
       "144228       NaN             NaN   NaN   NaN    NaN    NaN         NaN   \n",
       "144229       NaN             NaN   NaN   NaN    NaN    NaN         NaN   \n",
       "144230       NaN             NaN   NaN   NaN    NaN    NaN         NaN   \n",
       "144231       NaN             NaN   NaN   NaN    NaN    NaN         NaN   \n",
       "144232       NaN             NaN   NaN   NaN    NaN    NaN         NaN   \n",
       "\n",
       "                         DeviceInfo  \n",
       "0       MYA-L13 Build/HUAWEIMYA-L13  \n",
       "1              LGLS676 Build/MXB48T  \n",
       "2                       Trident/7.0  \n",
       "3       MYA-L13 Build/HUAWEIMYA-L13  \n",
       "4              SM-G9650 Build/R16NW  \n",
       "...                             ...  \n",
       "144228                          NaN  \n",
       "144229                          NaN  \n",
       "144230                          NaN  \n",
       "144231                          NaN  \n",
       "144232                          NaN  \n",
       "\n",
       "[144233 rows x 433 columns]"
      ]
     },
     "execution_count": 49,
     "metadata": {},
     "output_type": "execute_result"
    }
   ],
   "source": [
    "test_transaction"
   ]
  },
  {
   "cell_type": "code",
   "execution_count": 50,
   "metadata": {
    "execution": {
     "iopub.execute_input": "2021-01-15T08:59:02.385338Z",
     "iopub.status.busy": "2021-01-15T08:59:02.384683Z",
     "iopub.status.idle": "2021-01-15T08:59:02.761282Z",
     "shell.execute_reply": "2021-01-15T08:59:02.760615Z"
    },
    "papermill": {
     "duration": 0.470876,
     "end_time": "2021-01-15T08:59:02.761431",
     "exception": false,
     "start_time": "2021-01-15T08:59:02.290555",
     "status": "completed"
    },
    "tags": []
   },
   "outputs": [],
   "source": [
    "test_transaction.drop(['TransactionID','ProductCD','id-12'],axis=1,inplace=True)"
   ]
  },
  {
   "cell_type": "markdown",
   "metadata": {
    "papermill": {
     "duration": 0.089919,
     "end_time": "2021-01-15T08:59:02.941518",
     "exception": false,
     "start_time": "2021-01-15T08:59:02.851599",
     "status": "completed"
    },
    "tags": []
   },
   "source": [
    "* We delete the same columns as we deleted in the test_transaction"
   ]
  },
  {
   "cell_type": "code",
   "execution_count": 51,
   "metadata": {
    "execution": {
     "iopub.execute_input": "2021-01-15T08:59:03.166225Z",
     "iopub.status.busy": "2021-01-15T08:59:03.165603Z",
     "iopub.status.idle": "2021-01-15T08:59:03.208550Z",
     "shell.execute_reply": "2021-01-15T08:59:03.207842Z"
    },
    "papermill": {
     "duration": 0.178506,
     "end_time": "2021-01-15T08:59:03.208674",
     "exception": false,
     "start_time": "2021-01-15T08:59:03.030168",
     "status": "completed"
    },
    "tags": []
   },
   "outputs": [],
   "source": [
    "fields=test_transaction.columns[d]\n",
    "fields=np.array(fields)\n",
    "test_transaction.drop(columns=fields,inplace=True)"
   ]
  },
  {
   "cell_type": "code",
   "execution_count": 52,
   "metadata": {
    "execution": {
     "iopub.execute_input": "2021-01-15T08:59:03.414324Z",
     "iopub.status.busy": "2021-01-15T08:59:03.411380Z",
     "iopub.status.idle": "2021-01-15T08:59:03.421463Z",
     "shell.execute_reply": "2021-01-15T08:59:03.420733Z"
    },
    "papermill": {
     "duration": 0.109618,
     "end_time": "2021-01-15T08:59:03.421579",
     "exception": false,
     "start_time": "2021-01-15T08:59:03.311961",
     "status": "completed"
    },
    "tags": []
   },
   "outputs": [
    {
     "data": {
      "text/plain": [
       "(144233, 226)"
      ]
     },
     "execution_count": 52,
     "metadata": {},
     "output_type": "execute_result"
    }
   ],
   "source": [
    "test_transaction.shape"
   ]
  },
  {
   "cell_type": "code",
   "execution_count": 53,
   "metadata": {
    "execution": {
     "iopub.execute_input": "2021-01-15T08:59:03.616141Z",
     "iopub.status.busy": "2021-01-15T08:59:03.615176Z",
     "iopub.status.idle": "2021-01-15T08:59:03.678608Z",
     "shell.execute_reply": "2021-01-15T08:59:03.679328Z"
    },
    "papermill": {
     "duration": 0.16013,
     "end_time": "2021-01-15T08:59:03.679492",
     "exception": false,
     "start_time": "2021-01-15T08:59:03.519362",
     "status": "completed"
    },
    "tags": []
   },
   "outputs": [
    {
     "name": "stdout",
     "output_type": "stream",
     "text": [
      "Nothing left.\n"
     ]
    }
   ],
   "source": [
    "n=(train_transaction.isnull().sum()/506691)*100\n",
    "for i,j in enumerate(n):\n",
    "  if(j>50):\n",
    "    print(i)\n",
    "  else:\n",
    "    print('Nothing left.')\n",
    "    break"
   ]
  },
  {
   "cell_type": "markdown",
   "metadata": {
    "papermill": {
     "duration": 0.136895,
     "end_time": "2021-01-15T08:59:03.954578",
     "exception": false,
     "start_time": "2021-01-15T08:59:03.817683",
     "status": "completed"
    },
    "tags": []
   },
   "source": [
    "### Conclusion: the same fields as train_transaction had more than 50% null values"
   ]
  },
  {
   "cell_type": "code",
   "execution_count": 54,
   "metadata": {
    "execution": {
     "iopub.execute_input": "2021-01-15T08:59:04.232125Z",
     "iopub.status.busy": "2021-01-15T08:59:04.231225Z",
     "iopub.status.idle": "2021-01-15T08:59:06.692025Z",
     "shell.execute_reply": "2021-01-15T08:59:06.692721Z"
    },
    "papermill": {
     "duration": 2.600892,
     "end_time": "2021-01-15T08:59:06.692908",
     "exception": false,
     "start_time": "2021-01-15T08:59:04.092016",
     "status": "completed"
    },
    "tags": []
   },
   "outputs": [],
   "source": [
    "test_transaction.fillna(test_transaction.mean(),inplace=True)"
   ]
  },
  {
   "cell_type": "code",
   "execution_count": 55,
   "metadata": {
    "execution": {
     "iopub.execute_input": "2021-01-15T08:59:06.967208Z",
     "iopub.status.busy": "2021-01-15T08:59:06.966407Z",
     "iopub.status.idle": "2021-01-15T08:59:07.315204Z",
     "shell.execute_reply": "2021-01-15T08:59:07.314457Z"
    },
    "papermill": {
     "duration": 0.487242,
     "end_time": "2021-01-15T08:59:07.315370",
     "exception": false,
     "start_time": "2021-01-15T08:59:06.828128",
     "status": "completed"
    },
    "tags": []
   },
   "outputs": [
    {
     "data": {
      "text/plain": [
       "card4             1346\n",
       "card6             1308\n",
       "P_emaildomain    21654\n",
       "M6               31362\n",
       "id-15             7256\n",
       "id-16            18486\n",
       "id-28             7455\n",
       "id-29             7455\n",
       "id-30            73574\n",
       "id-31             7608\n",
       "id-33            73562\n",
       "id-34            72058\n",
       "id-35             7256\n",
       "id-36             7256\n",
       "id-37             7256\n",
       "id-38             7256\n",
       "DeviceType        7302\n",
       "DeviceInfo       29176\n",
       "dtype: int64"
      ]
     },
     "execution_count": 55,
     "metadata": {},
     "output_type": "execute_result"
    }
   ],
   "source": [
    "test_transaction.isnull().sum()[test_transaction.isnull().sum()>0]"
   ]
  },
  {
   "cell_type": "code",
   "execution_count": 56,
   "metadata": {
    "execution": {
     "iopub.execute_input": "2021-01-15T08:59:07.614406Z",
     "iopub.status.busy": "2021-01-15T08:59:07.613518Z",
     "iopub.status.idle": "2021-01-15T08:59:07.651593Z",
     "shell.execute_reply": "2021-01-15T08:59:07.650523Z"
    },
    "papermill": {
     "duration": 0.2,
     "end_time": "2021-01-15T08:59:07.651776",
     "exception": false,
     "start_time": "2021-01-15T08:59:07.451776",
     "status": "completed"
    },
    "tags": []
   },
   "outputs": [
    {
     "name": "stdout",
     "output_type": "stream",
     "text": [
      "Before filling: \n",
      "visa                66.572886\n",
      "mastercard          31.944124\n",
      "american express     1.053280\n",
      "discover             0.429710\n",
      "Name: card4, dtype: float64\n",
      "\n",
      "*** \n",
      "\n",
      "After filling: \n",
      "visa                66.884832\n",
      "mastercard          31.646017\n",
      "american express     1.043451\n",
      "discover             0.425700\n",
      "Name: card4, dtype: float64\n"
     ]
    }
   ],
   "source": [
    "print(\"Before filling: \\n\"+str(test_transaction.card4.value_counts(normalize=True)*100))\n",
    "test_transaction.card4.fillna('visa',inplace=True)\n",
    "print(\"\\n*** \\n\\nAfter filling: \\n\"+str(test_transaction.card4.value_counts(normalize=True)*100))"
   ]
  },
  {
   "cell_type": "code",
   "execution_count": 57,
   "metadata": {
    "execution": {
     "iopub.execute_input": "2021-01-15T08:59:07.971018Z",
     "iopub.status.busy": "2021-01-15T08:59:07.964085Z",
     "iopub.status.idle": "2021-01-15T08:59:08.010600Z",
     "shell.execute_reply": "2021-01-15T08:59:08.010023Z"
    },
    "papermill": {
     "duration": 0.220591,
     "end_time": "2021-01-15T08:59:08.010721",
     "exception": false,
     "start_time": "2021-01-15T08:59:07.790130",
     "status": "completed"
    },
    "tags": []
   },
   "outputs": [
    {
     "name": "stdout",
     "output_type": "stream",
     "text": [
      "Before filling: \n",
      "debit          78.286514\n",
      "credit         21.712786\n",
      "charge card     0.000700\n",
      "Name: card6, dtype: float64\n",
      "\n",
      "*** \n",
      "\n",
      "After filling: \n",
      "debit          77.964127\n",
      "credit         22.035179\n",
      "charge card     0.000693\n",
      "Name: card6, dtype: float64\n"
     ]
    }
   ],
   "source": [
    "print(\"Before filling: \\n\"+str(test_transaction.card6.value_counts(normalize=True)*100))\n",
    "test_transaction.card6.fillna(method='ffill',inplace=True)\n",
    "print(\"\\n*** \\n\\nAfter filling: \\n\"+str(test_transaction.card6.value_counts(normalize=True)*100))"
   ]
  },
  {
   "cell_type": "code",
   "execution_count": 58,
   "metadata": {
    "execution": {
     "iopub.execute_input": "2021-01-15T08:59:08.220955Z",
     "iopub.status.busy": "2021-01-15T08:59:08.210472Z",
     "iopub.status.idle": "2021-01-15T08:59:08.266921Z",
     "shell.execute_reply": "2021-01-15T08:59:08.266020Z"
    },
    "papermill": {
     "duration": 0.164991,
     "end_time": "2021-01-15T08:59:08.267089",
     "exception": false,
     "start_time": "2021-01-15T08:59:08.102098",
     "status": "completed"
    },
    "tags": []
   },
   "outputs": [
    {
     "name": "stdout",
     "output_type": "stream",
     "text": [
      "Before filling: \n",
      "gmail.com           47.736562\n",
      "yahoo.com           20.652803\n",
      "hotmail.com          7.452337\n",
      "anonymous.com        6.981620\n",
      "aol.com              5.966764\n",
      "comcast.net          1.505968\n",
      "icloud.com           1.408887\n",
      "outlook.com          0.987934\n",
      "att.net              0.873722\n",
      "msn.com              0.786432\n",
      "sbcglobal.net        0.603692\n",
      "live.com             0.586561\n",
      "verizon.net          0.546586\n",
      "ymail.com            0.432374\n",
      "bellsouth.net        0.360584\n",
      "cox.net              0.274925\n",
      "me.com               0.248819\n",
      "mail.com             0.220266\n",
      "optonline.net        0.206398\n",
      "charter.net          0.155002\n",
      "yahoo.com.mx         0.147660\n",
      "gmail                0.119107\n",
      "earthlink.net        0.107686\n",
      "live.com.mx          0.092185\n",
      "hotmail.fr           0.092185\n",
      "mac.com              0.085659\n",
      "rocketmail.com       0.082396\n",
      "web.de               0.080764\n",
      "windstream.net       0.076685\n",
      "frontier.com         0.070975\n",
      "juno.com             0.069343\n",
      "hotmail.co.uk        0.068527\n",
      "roadrunner.com       0.066896\n",
      "yahoo.fr             0.065264\n",
      "outlook.es           0.060369\n",
      "twc.com              0.057922\n",
      "embarqmail.com       0.056290\n",
      "frontiernet.net      0.051395\n",
      "q.com                0.045685\n",
      "suddenlink.net       0.044053\n",
      "yahoo.es             0.040790\n",
      "centurylink.net      0.039974\n",
      "sc.rr.com            0.039158\n",
      "hotmail.es           0.037527\n",
      "netzero.net          0.036711\n",
      "cfl.rr.com           0.034264\n",
      "cableone.net         0.034264\n",
      "netzero.com          0.030185\n",
      "aim.com              0.030185\n",
      "hotmail.de           0.029369\n",
      "prodigy.net.mx       0.021211\n",
      "protonmail.com       0.016316\n",
      "gmx.de               0.015500\n",
      "live.fr              0.013869\n",
      "yahoo.de             0.012237\n",
      "yahoo.co.jp          0.010605\n",
      "servicios-ta.com     0.010605\n",
      "ptd.net              0.009790\n",
      "yahoo.co.uk          0.008158\n",
      "Name: P_emaildomain, dtype: float64\n",
      "\n",
      "*** \n",
      "\n",
      "After filling: \n",
      "gmail.com           47.734568\n",
      "yahoo.com           20.674187\n",
      "hotmail.com          7.456685\n",
      "anonymous.com        6.952639\n",
      "aol.com              5.979214\n",
      "comcast.net          1.504510\n",
      "icloud.com           1.404672\n",
      "outlook.com          0.992838\n",
      "att.net              0.881906\n",
      "msn.com              0.791081\n",
      "sbcglobal.net        0.607351\n",
      "live.com             0.601804\n",
      "verizon.net          0.539405\n",
      "ymail.com            0.438180\n",
      "bellsouth.net        0.358448\n",
      "cox.net              0.263463\n",
      "me.com               0.245436\n",
      "mail.com             0.214930\n",
      "optonline.net        0.204530\n",
      "charter.net          0.154611\n",
      "yahoo.com.mx         0.147678\n",
      "gmail                0.117172\n",
      "earthlink.net        0.099145\n",
      "live.com.mx          0.089439\n",
      "hotmail.fr           0.089439\n",
      "mac.com              0.084585\n",
      "rocketmail.com       0.084585\n",
      "frontier.com         0.078345\n",
      "web.de               0.078345\n",
      "windstream.net       0.074879\n",
      "juno.com             0.074186\n",
      "roadrunner.com       0.071412\n",
      "yahoo.fr             0.071412\n",
      "hotmail.co.uk        0.069332\n",
      "outlook.es           0.058239\n",
      "twc.com              0.056852\n",
      "frontiernet.net      0.054079\n",
      "embarqmail.com       0.053386\n",
      "q.com                0.044373\n",
      "suddenlink.net       0.044373\n",
      "centurylink.net      0.039519\n",
      "sc.rr.com            0.038826\n",
      "yahoo.es             0.038133\n",
      "netzero.net          0.037439\n",
      "hotmail.es           0.034666\n",
      "cableone.net         0.033973\n",
      "cfl.rr.com           0.032586\n",
      "hotmail.de           0.029813\n",
      "aim.com              0.029120\n",
      "netzero.com          0.027733\n",
      "prodigy.net.mx       0.021493\n",
      "live.fr              0.015253\n",
      "protonmail.com       0.015253\n",
      "gmx.de               0.013866\n",
      "yahoo.de             0.011786\n",
      "yahoo.co.jp          0.010400\n",
      "servicios-ta.com     0.009707\n",
      "ptd.net              0.009707\n",
      "yahoo.co.uk          0.009013\n",
      "Name: P_emaildomain, dtype: float64\n"
     ]
    }
   ],
   "source": [
    "print(\"Before filling: \\n\"+str(test_transaction.P_emaildomain.value_counts(normalize=True)*100))\n",
    "test_transaction.P_emaildomain.fillna(method='ffill',inplace=True)\n",
    "print(\"\\n*** \\n\\nAfter filling: \\n\"+str(test_transaction.P_emaildomain.value_counts(normalize=True)*100))"
   ]
  },
  {
   "cell_type": "code",
   "execution_count": 59,
   "metadata": {
    "execution": {
     "iopub.execute_input": "2021-01-15T08:59:08.477992Z",
     "iopub.status.busy": "2021-01-15T08:59:08.477012Z",
     "iopub.status.idle": "2021-01-15T08:59:08.507355Z",
     "shell.execute_reply": "2021-01-15T08:59:08.507852Z"
    },
    "papermill": {
     "duration": 0.141565,
     "end_time": "2021-01-15T08:59:08.507990",
     "exception": false,
     "start_time": "2021-01-15T08:59:08.366425",
     "status": "completed"
    },
    "tags": []
   },
   "outputs": [
    {
     "name": "stdout",
     "output_type": "stream",
     "text": [
      "Before filling: \n",
      "F    54.250427\n",
      "T    45.749573\n",
      "Name: M6, dtype: float64\n",
      "\n",
      "*** \n",
      "\n",
      "After filling: \n",
      "F    54.208815\n",
      "T    45.791185\n",
      "Name: M6, dtype: float64\n"
     ]
    }
   ],
   "source": [
    "print(\"Before filling: \\n\"+str(test_transaction.M6.value_counts(normalize=True)*100))\n",
    "test_transaction.M6.fillna(method='ffill',inplace=True)\n",
    "print(\"\\n*** \\n\\nAfter filling: \\n\"+str(test_transaction.M6.value_counts(normalize=True)*100))"
   ]
  },
  {
   "cell_type": "code",
   "execution_count": 60,
   "metadata": {
    "execution": {
     "iopub.execute_input": "2021-01-15T08:59:08.709251Z",
     "iopub.status.busy": "2021-01-15T08:59:08.696281Z",
     "iopub.status.idle": "2021-01-15T08:59:08.757025Z",
     "shell.execute_reply": "2021-01-15T08:59:08.755449Z"
    },
    "papermill": {
     "duration": 0.157535,
     "end_time": "2021-01-15T08:59:08.757989",
     "exception": false,
     "start_time": "2021-01-15T08:59:08.600454",
     "status": "completed"
    },
    "tags": []
   },
   "outputs": [
    {
     "name": "stdout",
     "output_type": "stream",
     "text": [
      "Before filling: \n",
      "desktop    54.336125\n",
      "mobile     45.663875\n",
      "Name: DeviceType, dtype: float64\n",
      "\n",
      "*** \n",
      "\n",
      "After filling: \n",
      "desktop    54.330653\n",
      "mobile     45.669347\n",
      "Name: DeviceType, dtype: float64\n"
     ]
    }
   ],
   "source": [
    "print(\"Before filling: \\n\"+str(test_transaction.DeviceType.value_counts(normalize=True)*100))\n",
    "test_transaction.DeviceType.fillna(method='bfill',inplace=True)\n",
    "print(\"\\n*** \\n\\nAfter filling: \\n\"+str(test_transaction.DeviceType.value_counts(normalize=True)*100))"
   ]
  },
  {
   "cell_type": "code",
   "execution_count": 61,
   "metadata": {
    "execution": {
     "iopub.execute_input": "2021-01-15T08:59:08.978731Z",
     "iopub.status.busy": "2021-01-15T08:59:08.977773Z",
     "iopub.status.idle": "2021-01-15T08:59:09.059406Z",
     "shell.execute_reply": "2021-01-15T08:59:09.060215Z"
    },
    "papermill": {
     "duration": 0.209379,
     "end_time": "2021-01-15T08:59:09.060632",
     "exception": false,
     "start_time": "2021-01-15T08:59:08.851253",
     "status": "completed"
    },
    "tags": []
   },
   "outputs": [
    {
     "name": "stdout",
     "output_type": "stream",
     "text": [
      "Before filling: \n",
      "Windows                  39.100620\n",
      "iOS Device               16.270197\n",
      "MacOS                     9.689980\n",
      "Trident/7.0               4.250067\n",
      "rv:11.0                   0.650982\n",
      "                           ...    \n",
      "SM-G930VL                 0.000869\n",
      "SM-N900                   0.000869\n",
      "LGL164VL Build/NRD90U     0.000869\n",
      "LG-V410/V41020e           0.000869\n",
      "LG-K373                   0.000869\n",
      "Name: DeviceInfo, Length: 2226, dtype: float64\n",
      "\n",
      "*** \n",
      "\n",
      "After filling: \n",
      "Windows               39.072068\n",
      "iOS Device            16.022465\n",
      "MacOS                  9.449851\n",
      "Trident/7.0            4.129465\n",
      "rv:11.0                0.631399\n",
      "                        ...    \n",
      "PSPCL20A0              0.000705\n",
      "VS986 Build/MRA58K     0.000705\n",
      "SAMSUNG-SM-G920AZ      0.000705\n",
      "SM-J510H               0.000705\n",
      "LG-K373                0.000705\n",
      "Name: DeviceInfo, Length: 2226, dtype: float64\n"
     ]
    }
   ],
   "source": [
    "print(\"Before filling: \\n\"+str(test_transaction.DeviceInfo.value_counts(normalize=True)*100))\n",
    "test_transaction.DeviceInfo.fillna(method='bfill',inplace=True)\n",
    "print(\"\\n*** \\n\\nAfter filling: \\n\"+str(test_transaction.DeviceInfo.value_counts(normalize=True)*100))"
   ]
  },
  {
   "cell_type": "code",
   "execution_count": 62,
   "metadata": {
    "execution": {
     "iopub.execute_input": "2021-01-15T08:59:09.256636Z",
     "iopub.status.busy": "2021-01-15T08:59:09.255918Z",
     "iopub.status.idle": "2021-01-15T08:59:09.304335Z",
     "shell.execute_reply": "2021-01-15T08:59:09.303739Z"
    },
    "papermill": {
     "duration": 0.14878,
     "end_time": "2021-01-15T08:59:09.304445",
     "exception": false,
     "start_time": "2021-01-15T08:59:09.155665",
     "status": "completed"
    },
    "tags": []
   },
   "outputs": [
    {
     "data": {
      "text/html": [
       "<div>\n",
       "<style scoped>\n",
       "    .dataframe tbody tr th:only-of-type {\n",
       "        vertical-align: middle;\n",
       "    }\n",
       "\n",
       "    .dataframe tbody tr th {\n",
       "        vertical-align: top;\n",
       "    }\n",
       "\n",
       "    .dataframe thead th {\n",
       "        text-align: right;\n",
       "    }\n",
       "</style>\n",
       "<table border=\"1\" class=\"dataframe\">\n",
       "  <thead>\n",
       "    <tr style=\"text-align: right;\">\n",
       "      <th></th>\n",
       "      <th>id-02</th>\n",
       "      <th>id-05</th>\n",
       "      <th>id-06</th>\n",
       "      <th>id-09</th>\n",
       "      <th>id-10</th>\n",
       "      <th>id-11</th>\n",
       "      <th>id-13</th>\n",
       "      <th>id-14</th>\n",
       "      <th>id-15</th>\n",
       "      <th>id-16</th>\n",
       "      <th>id-17</th>\n",
       "      <th>id-19</th>\n",
       "      <th>id-20</th>\n",
       "      <th>id-28</th>\n",
       "      <th>id-29</th>\n",
       "      <th>id-30</th>\n",
       "      <th>id-31</th>\n",
       "      <th>id-32</th>\n",
       "      <th>id-33</th>\n",
       "      <th>id-34</th>\n",
       "    </tr>\n",
       "  </thead>\n",
       "  <tbody>\n",
       "    <tr>\n",
       "      <th>0</th>\n",
       "      <td>280290.000000</td>\n",
       "      <td>0.000000</td>\n",
       "      <td>0.000000</td>\n",
       "      <td>0.076219</td>\n",
       "      <td>-0.245877</td>\n",
       "      <td>100.000000</td>\n",
       "      <td>27.000000</td>\n",
       "      <td>-344.482672</td>\n",
       "      <td>New</td>\n",
       "      <td>NotFound</td>\n",
       "      <td>225.000000</td>\n",
       "      <td>427.000000</td>\n",
       "      <td>563.00000</td>\n",
       "      <td>New</td>\n",
       "      <td>NotFound</td>\n",
       "      <td>NaN</td>\n",
       "      <td>chrome 67.0 for android</td>\n",
       "      <td>26.217939</td>\n",
       "      <td>NaN</td>\n",
       "      <td>NaN</td>\n",
       "    </tr>\n",
       "    <tr>\n",
       "      <th>1</th>\n",
       "      <td>3579.000000</td>\n",
       "      <td>0.000000</td>\n",
       "      <td>0.000000</td>\n",
       "      <td>0.000000</td>\n",
       "      <td>0.000000</td>\n",
       "      <td>100.000000</td>\n",
       "      <td>36.905715</td>\n",
       "      <td>-300.000000</td>\n",
       "      <td>Found</td>\n",
       "      <td>Found</td>\n",
       "      <td>166.000000</td>\n",
       "      <td>542.000000</td>\n",
       "      <td>368.00000</td>\n",
       "      <td>Found</td>\n",
       "      <td>Found</td>\n",
       "      <td>Android 6.0.1</td>\n",
       "      <td>chrome 67.0 for android</td>\n",
       "      <td>24.000000</td>\n",
       "      <td>1280x720</td>\n",
       "      <td>match_status:2</td>\n",
       "    </tr>\n",
       "    <tr>\n",
       "      <th>2</th>\n",
       "      <td>185210.000000</td>\n",
       "      <td>1.000000</td>\n",
       "      <td>0.000000</td>\n",
       "      <td>0.076219</td>\n",
       "      <td>-0.245877</td>\n",
       "      <td>100.000000</td>\n",
       "      <td>52.000000</td>\n",
       "      <td>-360.000000</td>\n",
       "      <td>New</td>\n",
       "      <td>NotFound</td>\n",
       "      <td>225.000000</td>\n",
       "      <td>271.000000</td>\n",
       "      <td>507.00000</td>\n",
       "      <td>New</td>\n",
       "      <td>NotFound</td>\n",
       "      <td>NaN</td>\n",
       "      <td>ie 11.0 for tablet</td>\n",
       "      <td>26.217939</td>\n",
       "      <td>NaN</td>\n",
       "      <td>NaN</td>\n",
       "    </tr>\n",
       "    <tr>\n",
       "      <th>3</th>\n",
       "      <td>252944.000000</td>\n",
       "      <td>0.000000</td>\n",
       "      <td>0.000000</td>\n",
       "      <td>0.000000</td>\n",
       "      <td>0.000000</td>\n",
       "      <td>100.000000</td>\n",
       "      <td>27.000000</td>\n",
       "      <td>-344.482672</td>\n",
       "      <td>Found</td>\n",
       "      <td>Found</td>\n",
       "      <td>225.000000</td>\n",
       "      <td>427.000000</td>\n",
       "      <td>563.00000</td>\n",
       "      <td>Found</td>\n",
       "      <td>Found</td>\n",
       "      <td>NaN</td>\n",
       "      <td>chrome 67.0 for android</td>\n",
       "      <td>26.217939</td>\n",
       "      <td>NaN</td>\n",
       "      <td>NaN</td>\n",
       "    </tr>\n",
       "    <tr>\n",
       "      <th>4</th>\n",
       "      <td>328680.000000</td>\n",
       "      <td>7.000000</td>\n",
       "      <td>-33.000000</td>\n",
       "      <td>0.076219</td>\n",
       "      <td>-0.245877</td>\n",
       "      <td>100.000000</td>\n",
       "      <td>27.000000</td>\n",
       "      <td>-344.482672</td>\n",
       "      <td>New</td>\n",
       "      <td>NotFound</td>\n",
       "      <td>225.000000</td>\n",
       "      <td>567.000000</td>\n",
       "      <td>507.00000</td>\n",
       "      <td>New</td>\n",
       "      <td>NotFound</td>\n",
       "      <td>NaN</td>\n",
       "      <td>chrome 67.0 for android</td>\n",
       "      <td>26.217939</td>\n",
       "      <td>NaN</td>\n",
       "      <td>NaN</td>\n",
       "    </tr>\n",
       "    <tr>\n",
       "      <th>...</th>\n",
       "      <td>...</td>\n",
       "      <td>...</td>\n",
       "      <td>...</td>\n",
       "      <td>...</td>\n",
       "      <td>...</td>\n",
       "      <td>...</td>\n",
       "      <td>...</td>\n",
       "      <td>...</td>\n",
       "      <td>...</td>\n",
       "      <td>...</td>\n",
       "      <td>...</td>\n",
       "      <td>...</td>\n",
       "      <td>...</td>\n",
       "      <td>...</td>\n",
       "      <td>...</td>\n",
       "      <td>...</td>\n",
       "      <td>...</td>\n",
       "      <td>...</td>\n",
       "      <td>...</td>\n",
       "      <td>...</td>\n",
       "    </tr>\n",
       "    <tr>\n",
       "      <th>144228</th>\n",
       "      <td>192658.729909</td>\n",
       "      <td>1.246033</td>\n",
       "      <td>-6.803829</td>\n",
       "      <td>0.076219</td>\n",
       "      <td>-0.245877</td>\n",
       "      <td>99.750876</td>\n",
       "      <td>36.905715</td>\n",
       "      <td>-344.482672</td>\n",
       "      <td>NaN</td>\n",
       "      <td>NaN</td>\n",
       "      <td>191.070341</td>\n",
       "      <td>350.122982</td>\n",
       "      <td>408.88623</td>\n",
       "      <td>NaN</td>\n",
       "      <td>NaN</td>\n",
       "      <td>NaN</td>\n",
       "      <td>NaN</td>\n",
       "      <td>26.217939</td>\n",
       "      <td>NaN</td>\n",
       "      <td>NaN</td>\n",
       "    </tr>\n",
       "    <tr>\n",
       "      <th>144229</th>\n",
       "      <td>192658.729909</td>\n",
       "      <td>1.246033</td>\n",
       "      <td>-6.803829</td>\n",
       "      <td>0.076219</td>\n",
       "      <td>-0.245877</td>\n",
       "      <td>99.750876</td>\n",
       "      <td>36.905715</td>\n",
       "      <td>-344.482672</td>\n",
       "      <td>NaN</td>\n",
       "      <td>NaN</td>\n",
       "      <td>191.070341</td>\n",
       "      <td>350.122982</td>\n",
       "      <td>408.88623</td>\n",
       "      <td>NaN</td>\n",
       "      <td>NaN</td>\n",
       "      <td>NaN</td>\n",
       "      <td>NaN</td>\n",
       "      <td>26.217939</td>\n",
       "      <td>NaN</td>\n",
       "      <td>NaN</td>\n",
       "    </tr>\n",
       "    <tr>\n",
       "      <th>144230</th>\n",
       "      <td>192658.729909</td>\n",
       "      <td>1.246033</td>\n",
       "      <td>-6.803829</td>\n",
       "      <td>0.076219</td>\n",
       "      <td>-0.245877</td>\n",
       "      <td>99.750876</td>\n",
       "      <td>36.905715</td>\n",
       "      <td>-344.482672</td>\n",
       "      <td>NaN</td>\n",
       "      <td>NaN</td>\n",
       "      <td>191.070341</td>\n",
       "      <td>350.122982</td>\n",
       "      <td>408.88623</td>\n",
       "      <td>NaN</td>\n",
       "      <td>NaN</td>\n",
       "      <td>NaN</td>\n",
       "      <td>NaN</td>\n",
       "      <td>26.217939</td>\n",
       "      <td>NaN</td>\n",
       "      <td>NaN</td>\n",
       "    </tr>\n",
       "    <tr>\n",
       "      <th>144231</th>\n",
       "      <td>192658.729909</td>\n",
       "      <td>1.246033</td>\n",
       "      <td>-6.803829</td>\n",
       "      <td>0.076219</td>\n",
       "      <td>-0.245877</td>\n",
       "      <td>99.750876</td>\n",
       "      <td>36.905715</td>\n",
       "      <td>-344.482672</td>\n",
       "      <td>NaN</td>\n",
       "      <td>NaN</td>\n",
       "      <td>191.070341</td>\n",
       "      <td>350.122982</td>\n",
       "      <td>408.88623</td>\n",
       "      <td>NaN</td>\n",
       "      <td>NaN</td>\n",
       "      <td>NaN</td>\n",
       "      <td>NaN</td>\n",
       "      <td>26.217939</td>\n",
       "      <td>NaN</td>\n",
       "      <td>NaN</td>\n",
       "    </tr>\n",
       "    <tr>\n",
       "      <th>144232</th>\n",
       "      <td>192658.729909</td>\n",
       "      <td>1.246033</td>\n",
       "      <td>-6.803829</td>\n",
       "      <td>0.076219</td>\n",
       "      <td>-0.245877</td>\n",
       "      <td>99.750876</td>\n",
       "      <td>36.905715</td>\n",
       "      <td>-344.482672</td>\n",
       "      <td>NaN</td>\n",
       "      <td>NaN</td>\n",
       "      <td>191.070341</td>\n",
       "      <td>350.122982</td>\n",
       "      <td>408.88623</td>\n",
       "      <td>NaN</td>\n",
       "      <td>NaN</td>\n",
       "      <td>NaN</td>\n",
       "      <td>NaN</td>\n",
       "      <td>26.217939</td>\n",
       "      <td>NaN</td>\n",
       "      <td>NaN</td>\n",
       "    </tr>\n",
       "  </tbody>\n",
       "</table>\n",
       "<p>144233 rows × 20 columns</p>\n",
       "</div>"
      ],
      "text/plain": [
       "                id-02     id-05      id-06     id-09     id-10       id-11  \\\n",
       "0       280290.000000  0.000000   0.000000  0.076219 -0.245877  100.000000   \n",
       "1         3579.000000  0.000000   0.000000  0.000000  0.000000  100.000000   \n",
       "2       185210.000000  1.000000   0.000000  0.076219 -0.245877  100.000000   \n",
       "3       252944.000000  0.000000   0.000000  0.000000  0.000000  100.000000   \n",
       "4       328680.000000  7.000000 -33.000000  0.076219 -0.245877  100.000000   \n",
       "...               ...       ...        ...       ...       ...         ...   \n",
       "144228  192658.729909  1.246033  -6.803829  0.076219 -0.245877   99.750876   \n",
       "144229  192658.729909  1.246033  -6.803829  0.076219 -0.245877   99.750876   \n",
       "144230  192658.729909  1.246033  -6.803829  0.076219 -0.245877   99.750876   \n",
       "144231  192658.729909  1.246033  -6.803829  0.076219 -0.245877   99.750876   \n",
       "144232  192658.729909  1.246033  -6.803829  0.076219 -0.245877   99.750876   \n",
       "\n",
       "            id-13       id-14  id-15     id-16       id-17       id-19  \\\n",
       "0       27.000000 -344.482672    New  NotFound  225.000000  427.000000   \n",
       "1       36.905715 -300.000000  Found     Found  166.000000  542.000000   \n",
       "2       52.000000 -360.000000    New  NotFound  225.000000  271.000000   \n",
       "3       27.000000 -344.482672  Found     Found  225.000000  427.000000   \n",
       "4       27.000000 -344.482672    New  NotFound  225.000000  567.000000   \n",
       "...           ...         ...    ...       ...         ...         ...   \n",
       "144228  36.905715 -344.482672    NaN       NaN  191.070341  350.122982   \n",
       "144229  36.905715 -344.482672    NaN       NaN  191.070341  350.122982   \n",
       "144230  36.905715 -344.482672    NaN       NaN  191.070341  350.122982   \n",
       "144231  36.905715 -344.482672    NaN       NaN  191.070341  350.122982   \n",
       "144232  36.905715 -344.482672    NaN       NaN  191.070341  350.122982   \n",
       "\n",
       "            id-20  id-28     id-29          id-30                    id-31  \\\n",
       "0       563.00000    New  NotFound            NaN  chrome 67.0 for android   \n",
       "1       368.00000  Found     Found  Android 6.0.1  chrome 67.0 for android   \n",
       "2       507.00000    New  NotFound            NaN       ie 11.0 for tablet   \n",
       "3       563.00000  Found     Found            NaN  chrome 67.0 for android   \n",
       "4       507.00000    New  NotFound            NaN  chrome 67.0 for android   \n",
       "...           ...    ...       ...            ...                      ...   \n",
       "144228  408.88623    NaN       NaN            NaN                      NaN   \n",
       "144229  408.88623    NaN       NaN            NaN                      NaN   \n",
       "144230  408.88623    NaN       NaN            NaN                      NaN   \n",
       "144231  408.88623    NaN       NaN            NaN                      NaN   \n",
       "144232  408.88623    NaN       NaN            NaN                      NaN   \n",
       "\n",
       "            id-32     id-33           id-34  \n",
       "0       26.217939       NaN             NaN  \n",
       "1       24.000000  1280x720  match_status:2  \n",
       "2       26.217939       NaN             NaN  \n",
       "3       26.217939       NaN             NaN  \n",
       "4       26.217939       NaN             NaN  \n",
       "...           ...       ...             ...  \n",
       "144228  26.217939       NaN             NaN  \n",
       "144229  26.217939       NaN             NaN  \n",
       "144230  26.217939       NaN             NaN  \n",
       "144231  26.217939       NaN             NaN  \n",
       "144232  26.217939       NaN             NaN  \n",
       "\n",
       "[144233 rows x 20 columns]"
      ]
     },
     "execution_count": 62,
     "metadata": {},
     "output_type": "execute_result"
    }
   ],
   "source": [
    "test_transaction.iloc[:,200:220]"
   ]
  },
  {
   "cell_type": "code",
   "execution_count": 63,
   "metadata": {
    "execution": {
     "iopub.execute_input": "2021-01-15T08:59:09.504396Z",
     "iopub.status.busy": "2021-01-15T08:59:09.503700Z",
     "iopub.status.idle": "2021-01-15T08:59:09.563602Z",
     "shell.execute_reply": "2021-01-15T08:59:09.563041Z"
    },
    "papermill": {
     "duration": 0.164281,
     "end_time": "2021-01-15T08:59:09.563718",
     "exception": false,
     "start_time": "2021-01-15T08:59:09.399437",
     "status": "completed"
    },
    "tags": []
   },
   "outputs": [
    {
     "data": {
      "text/html": [
       "<div>\n",
       "<style scoped>\n",
       "    .dataframe tbody tr th:only-of-type {\n",
       "        vertical-align: middle;\n",
       "    }\n",
       "\n",
       "    .dataframe tbody tr th {\n",
       "        vertical-align: top;\n",
       "    }\n",
       "\n",
       "    .dataframe thead th {\n",
       "        text-align: right;\n",
       "    }\n",
       "</style>\n",
       "<table border=\"1\" class=\"dataframe\">\n",
       "  <thead>\n",
       "    <tr style=\"text-align: right;\">\n",
       "      <th></th>\n",
       "      <th>id_02</th>\n",
       "      <th>id_05</th>\n",
       "      <th>id_06</th>\n",
       "      <th>id_09</th>\n",
       "      <th>id_10</th>\n",
       "      <th>id_11</th>\n",
       "      <th>id_13</th>\n",
       "      <th>id_14</th>\n",
       "      <th>id_15</th>\n",
       "      <th>id_16</th>\n",
       "      <th>id_17</th>\n",
       "      <th>id_19</th>\n",
       "      <th>id_20</th>\n",
       "      <th>id_28</th>\n",
       "      <th>id_29</th>\n",
       "      <th>id_30</th>\n",
       "      <th>id_31</th>\n",
       "      <th>id_32</th>\n",
       "      <th>id_33</th>\n",
       "      <th>id_34</th>\n",
       "    </tr>\n",
       "  </thead>\n",
       "  <tbody>\n",
       "    <tr>\n",
       "      <th>0</th>\n",
       "      <td>280290.000000</td>\n",
       "      <td>0.000000</td>\n",
       "      <td>0.000000</td>\n",
       "      <td>0.076219</td>\n",
       "      <td>-0.245877</td>\n",
       "      <td>100.000000</td>\n",
       "      <td>27.000000</td>\n",
       "      <td>-344.482672</td>\n",
       "      <td>New</td>\n",
       "      <td>NotFound</td>\n",
       "      <td>225.000000</td>\n",
       "      <td>427.000000</td>\n",
       "      <td>563.00000</td>\n",
       "      <td>New</td>\n",
       "      <td>NotFound</td>\n",
       "      <td>NaN</td>\n",
       "      <td>chrome 67.0 for android</td>\n",
       "      <td>26.217939</td>\n",
       "      <td>NaN</td>\n",
       "      <td>NaN</td>\n",
       "    </tr>\n",
       "    <tr>\n",
       "      <th>1</th>\n",
       "      <td>3579.000000</td>\n",
       "      <td>0.000000</td>\n",
       "      <td>0.000000</td>\n",
       "      <td>0.000000</td>\n",
       "      <td>0.000000</td>\n",
       "      <td>100.000000</td>\n",
       "      <td>36.905715</td>\n",
       "      <td>-300.000000</td>\n",
       "      <td>Found</td>\n",
       "      <td>Found</td>\n",
       "      <td>166.000000</td>\n",
       "      <td>542.000000</td>\n",
       "      <td>368.00000</td>\n",
       "      <td>Found</td>\n",
       "      <td>Found</td>\n",
       "      <td>Android 6.0.1</td>\n",
       "      <td>chrome 67.0 for android</td>\n",
       "      <td>24.000000</td>\n",
       "      <td>1280x720</td>\n",
       "      <td>match_status:2</td>\n",
       "    </tr>\n",
       "    <tr>\n",
       "      <th>2</th>\n",
       "      <td>185210.000000</td>\n",
       "      <td>1.000000</td>\n",
       "      <td>0.000000</td>\n",
       "      <td>0.076219</td>\n",
       "      <td>-0.245877</td>\n",
       "      <td>100.000000</td>\n",
       "      <td>52.000000</td>\n",
       "      <td>-360.000000</td>\n",
       "      <td>New</td>\n",
       "      <td>NotFound</td>\n",
       "      <td>225.000000</td>\n",
       "      <td>271.000000</td>\n",
       "      <td>507.00000</td>\n",
       "      <td>New</td>\n",
       "      <td>NotFound</td>\n",
       "      <td>NaN</td>\n",
       "      <td>ie 11.0 for tablet</td>\n",
       "      <td>26.217939</td>\n",
       "      <td>NaN</td>\n",
       "      <td>NaN</td>\n",
       "    </tr>\n",
       "    <tr>\n",
       "      <th>3</th>\n",
       "      <td>252944.000000</td>\n",
       "      <td>0.000000</td>\n",
       "      <td>0.000000</td>\n",
       "      <td>0.000000</td>\n",
       "      <td>0.000000</td>\n",
       "      <td>100.000000</td>\n",
       "      <td>27.000000</td>\n",
       "      <td>-344.482672</td>\n",
       "      <td>Found</td>\n",
       "      <td>Found</td>\n",
       "      <td>225.000000</td>\n",
       "      <td>427.000000</td>\n",
       "      <td>563.00000</td>\n",
       "      <td>Found</td>\n",
       "      <td>Found</td>\n",
       "      <td>NaN</td>\n",
       "      <td>chrome 67.0 for android</td>\n",
       "      <td>26.217939</td>\n",
       "      <td>NaN</td>\n",
       "      <td>NaN</td>\n",
       "    </tr>\n",
       "    <tr>\n",
       "      <th>4</th>\n",
       "      <td>328680.000000</td>\n",
       "      <td>7.000000</td>\n",
       "      <td>-33.000000</td>\n",
       "      <td>0.076219</td>\n",
       "      <td>-0.245877</td>\n",
       "      <td>100.000000</td>\n",
       "      <td>27.000000</td>\n",
       "      <td>-344.482672</td>\n",
       "      <td>New</td>\n",
       "      <td>NotFound</td>\n",
       "      <td>225.000000</td>\n",
       "      <td>567.000000</td>\n",
       "      <td>507.00000</td>\n",
       "      <td>New</td>\n",
       "      <td>NotFound</td>\n",
       "      <td>NaN</td>\n",
       "      <td>chrome 67.0 for android</td>\n",
       "      <td>26.217939</td>\n",
       "      <td>NaN</td>\n",
       "      <td>NaN</td>\n",
       "    </tr>\n",
       "    <tr>\n",
       "      <th>...</th>\n",
       "      <td>...</td>\n",
       "      <td>...</td>\n",
       "      <td>...</td>\n",
       "      <td>...</td>\n",
       "      <td>...</td>\n",
       "      <td>...</td>\n",
       "      <td>...</td>\n",
       "      <td>...</td>\n",
       "      <td>...</td>\n",
       "      <td>...</td>\n",
       "      <td>...</td>\n",
       "      <td>...</td>\n",
       "      <td>...</td>\n",
       "      <td>...</td>\n",
       "      <td>...</td>\n",
       "      <td>...</td>\n",
       "      <td>...</td>\n",
       "      <td>...</td>\n",
       "      <td>...</td>\n",
       "      <td>...</td>\n",
       "    </tr>\n",
       "    <tr>\n",
       "      <th>144228</th>\n",
       "      <td>192658.729909</td>\n",
       "      <td>1.246033</td>\n",
       "      <td>-6.803829</td>\n",
       "      <td>0.076219</td>\n",
       "      <td>-0.245877</td>\n",
       "      <td>99.750876</td>\n",
       "      <td>36.905715</td>\n",
       "      <td>-344.482672</td>\n",
       "      <td>NaN</td>\n",
       "      <td>NaN</td>\n",
       "      <td>191.070341</td>\n",
       "      <td>350.122982</td>\n",
       "      <td>408.88623</td>\n",
       "      <td>NaN</td>\n",
       "      <td>NaN</td>\n",
       "      <td>NaN</td>\n",
       "      <td>NaN</td>\n",
       "      <td>26.217939</td>\n",
       "      <td>NaN</td>\n",
       "      <td>NaN</td>\n",
       "    </tr>\n",
       "    <tr>\n",
       "      <th>144229</th>\n",
       "      <td>192658.729909</td>\n",
       "      <td>1.246033</td>\n",
       "      <td>-6.803829</td>\n",
       "      <td>0.076219</td>\n",
       "      <td>-0.245877</td>\n",
       "      <td>99.750876</td>\n",
       "      <td>36.905715</td>\n",
       "      <td>-344.482672</td>\n",
       "      <td>NaN</td>\n",
       "      <td>NaN</td>\n",
       "      <td>191.070341</td>\n",
       "      <td>350.122982</td>\n",
       "      <td>408.88623</td>\n",
       "      <td>NaN</td>\n",
       "      <td>NaN</td>\n",
       "      <td>NaN</td>\n",
       "      <td>NaN</td>\n",
       "      <td>26.217939</td>\n",
       "      <td>NaN</td>\n",
       "      <td>NaN</td>\n",
       "    </tr>\n",
       "    <tr>\n",
       "      <th>144230</th>\n",
       "      <td>192658.729909</td>\n",
       "      <td>1.246033</td>\n",
       "      <td>-6.803829</td>\n",
       "      <td>0.076219</td>\n",
       "      <td>-0.245877</td>\n",
       "      <td>99.750876</td>\n",
       "      <td>36.905715</td>\n",
       "      <td>-344.482672</td>\n",
       "      <td>NaN</td>\n",
       "      <td>NaN</td>\n",
       "      <td>191.070341</td>\n",
       "      <td>350.122982</td>\n",
       "      <td>408.88623</td>\n",
       "      <td>NaN</td>\n",
       "      <td>NaN</td>\n",
       "      <td>NaN</td>\n",
       "      <td>NaN</td>\n",
       "      <td>26.217939</td>\n",
       "      <td>NaN</td>\n",
       "      <td>NaN</td>\n",
       "    </tr>\n",
       "    <tr>\n",
       "      <th>144231</th>\n",
       "      <td>192658.729909</td>\n",
       "      <td>1.246033</td>\n",
       "      <td>-6.803829</td>\n",
       "      <td>0.076219</td>\n",
       "      <td>-0.245877</td>\n",
       "      <td>99.750876</td>\n",
       "      <td>36.905715</td>\n",
       "      <td>-344.482672</td>\n",
       "      <td>NaN</td>\n",
       "      <td>NaN</td>\n",
       "      <td>191.070341</td>\n",
       "      <td>350.122982</td>\n",
       "      <td>408.88623</td>\n",
       "      <td>NaN</td>\n",
       "      <td>NaN</td>\n",
       "      <td>NaN</td>\n",
       "      <td>NaN</td>\n",
       "      <td>26.217939</td>\n",
       "      <td>NaN</td>\n",
       "      <td>NaN</td>\n",
       "    </tr>\n",
       "    <tr>\n",
       "      <th>144232</th>\n",
       "      <td>192658.729909</td>\n",
       "      <td>1.246033</td>\n",
       "      <td>-6.803829</td>\n",
       "      <td>0.076219</td>\n",
       "      <td>-0.245877</td>\n",
       "      <td>99.750876</td>\n",
       "      <td>36.905715</td>\n",
       "      <td>-344.482672</td>\n",
       "      <td>NaN</td>\n",
       "      <td>NaN</td>\n",
       "      <td>191.070341</td>\n",
       "      <td>350.122982</td>\n",
       "      <td>408.88623</td>\n",
       "      <td>NaN</td>\n",
       "      <td>NaN</td>\n",
       "      <td>NaN</td>\n",
       "      <td>NaN</td>\n",
       "      <td>26.217939</td>\n",
       "      <td>NaN</td>\n",
       "      <td>NaN</td>\n",
       "    </tr>\n",
       "  </tbody>\n",
       "</table>\n",
       "<p>144233 rows × 20 columns</p>\n",
       "</div>"
      ],
      "text/plain": [
       "                id_02     id_05      id_06     id_09     id_10       id_11  \\\n",
       "0       280290.000000  0.000000   0.000000  0.076219 -0.245877  100.000000   \n",
       "1         3579.000000  0.000000   0.000000  0.000000  0.000000  100.000000   \n",
       "2       185210.000000  1.000000   0.000000  0.076219 -0.245877  100.000000   \n",
       "3       252944.000000  0.000000   0.000000  0.000000  0.000000  100.000000   \n",
       "4       328680.000000  7.000000 -33.000000  0.076219 -0.245877  100.000000   \n",
       "...               ...       ...        ...       ...       ...         ...   \n",
       "144228  192658.729909  1.246033  -6.803829  0.076219 -0.245877   99.750876   \n",
       "144229  192658.729909  1.246033  -6.803829  0.076219 -0.245877   99.750876   \n",
       "144230  192658.729909  1.246033  -6.803829  0.076219 -0.245877   99.750876   \n",
       "144231  192658.729909  1.246033  -6.803829  0.076219 -0.245877   99.750876   \n",
       "144232  192658.729909  1.246033  -6.803829  0.076219 -0.245877   99.750876   \n",
       "\n",
       "            id_13       id_14  id_15     id_16       id_17       id_19  \\\n",
       "0       27.000000 -344.482672    New  NotFound  225.000000  427.000000   \n",
       "1       36.905715 -300.000000  Found     Found  166.000000  542.000000   \n",
       "2       52.000000 -360.000000    New  NotFound  225.000000  271.000000   \n",
       "3       27.000000 -344.482672  Found     Found  225.000000  427.000000   \n",
       "4       27.000000 -344.482672    New  NotFound  225.000000  567.000000   \n",
       "...           ...         ...    ...       ...         ...         ...   \n",
       "144228  36.905715 -344.482672    NaN       NaN  191.070341  350.122982   \n",
       "144229  36.905715 -344.482672    NaN       NaN  191.070341  350.122982   \n",
       "144230  36.905715 -344.482672    NaN       NaN  191.070341  350.122982   \n",
       "144231  36.905715 -344.482672    NaN       NaN  191.070341  350.122982   \n",
       "144232  36.905715 -344.482672    NaN       NaN  191.070341  350.122982   \n",
       "\n",
       "            id_20  id_28     id_29          id_30                    id_31  \\\n",
       "0       563.00000    New  NotFound            NaN  chrome 67.0 for android   \n",
       "1       368.00000  Found     Found  Android 6.0.1  chrome 67.0 for android   \n",
       "2       507.00000    New  NotFound            NaN       ie 11.0 for tablet   \n",
       "3       563.00000  Found     Found            NaN  chrome 67.0 for android   \n",
       "4       507.00000    New  NotFound            NaN  chrome 67.0 for android   \n",
       "...           ...    ...       ...            ...                      ...   \n",
       "144228  408.88623    NaN       NaN            NaN                      NaN   \n",
       "144229  408.88623    NaN       NaN            NaN                      NaN   \n",
       "144230  408.88623    NaN       NaN            NaN                      NaN   \n",
       "144231  408.88623    NaN       NaN            NaN                      NaN   \n",
       "144232  408.88623    NaN       NaN            NaN                      NaN   \n",
       "\n",
       "            id_32     id_33           id_34  \n",
       "0       26.217939       NaN             NaN  \n",
       "1       24.000000  1280x720  match_status:2  \n",
       "2       26.217939       NaN             NaN  \n",
       "3       26.217939       NaN             NaN  \n",
       "4       26.217939       NaN             NaN  \n",
       "...           ...       ...             ...  \n",
       "144228  26.217939       NaN             NaN  \n",
       "144229  26.217939       NaN             NaN  \n",
       "144230  26.217939       NaN             NaN  \n",
       "144231  26.217939       NaN             NaN  \n",
       "144232  26.217939       NaN             NaN  \n",
       "\n",
       "[144233 rows x 20 columns]"
      ]
     },
     "execution_count": 63,
     "metadata": {},
     "output_type": "execute_result"
    }
   ],
   "source": [
    "test_transaction.rename(columns={'id-01':'id_01','id-02':'id_02','id-05':'id_05','id-06':'id_06',\n",
    "                                 'id-09':'id_09','id-10':'id_10','id-11':'id_11','id-13':'id_13',\n",
    "                                 'id-14':'id_14','id-15':'id_15','id-16':'id_16','id-17':'id_17',\n",
    "                                 'id-18':'id_18','id-19':'id_19','id-20':'id_20','id-21':'id_21',\n",
    "                                 'id-22':'id_22','id-23':'id_23','id-24':'id_24','id-25':'id_25',\n",
    "                                 'id-26':'id_26','id-27':'id_27','id-28':'id_28','id-29':'id_29',\n",
    "                                 'id-30':'id_30','id-31':'id_31','id-32':'id_32','id-33':'id_33',\n",
    "                                 'id-34':'id_34','id-35':'id_35','id-36':'id_36','id-37':'id_37',\n",
    "                                 'id-38':'id_38'\n",
    "                                },inplace=True)\n",
    "\n",
    "test_transaction.iloc[:,200:220]"
   ]
  },
  {
   "cell_type": "code",
   "execution_count": 64,
   "metadata": {
    "execution": {
     "iopub.execute_input": "2021-01-15T08:59:09.828732Z",
     "iopub.status.busy": "2021-01-15T08:59:09.790798Z",
     "iopub.status.idle": "2021-01-15T08:59:09.887644Z",
     "shell.execute_reply": "2021-01-15T08:59:09.886840Z"
    },
    "papermill": {
     "duration": 0.227268,
     "end_time": "2021-01-15T08:59:09.887782",
     "exception": false,
     "start_time": "2021-01-15T08:59:09.660514",
     "status": "completed"
    },
    "tags": []
   },
   "outputs": [
    {
     "name": "stdout",
     "output_type": "stream",
     "text": [
      "Before filling: \n",
      "desktop    54.330653\n",
      "mobile     45.669347\n",
      "Name: DeviceType, dtype: float64\n",
      "\n",
      "*** \n",
      "\n",
      "After filling: \n",
      "desktop    53.45448\n",
      "mobile     46.54552\n",
      "Name: DeviceType, dtype: float64\n"
     ]
    }
   ],
   "source": [
    "print(\"Before filling: \\n\"+str(test_transaction.DeviceType.value_counts(normalize=True)*100))\n",
    "test_transaction.DeviceType.fillna(method='ffill',inplace=True)\n",
    "print(\"\\n*** \\n\\nAfter filling: \\n\"+str(test_transaction.DeviceType.value_counts(normalize=True)*100))"
   ]
  },
  {
   "cell_type": "code",
   "execution_count": 65,
   "metadata": {
    "execution": {
     "iopub.execute_input": "2021-01-15T08:59:10.135368Z",
     "iopub.status.busy": "2021-01-15T08:59:10.133115Z",
     "iopub.status.idle": "2021-01-15T08:59:10.218992Z",
     "shell.execute_reply": "2021-01-15T08:59:10.217702Z"
    },
    "papermill": {
     "duration": 0.236307,
     "end_time": "2021-01-15T08:59:10.219148",
     "exception": false,
     "start_time": "2021-01-15T08:59:09.982841",
     "status": "completed"
    },
    "tags": []
   },
   "outputs": [
    {
     "name": "stdout",
     "output_type": "stream",
     "text": [
      "Before filling: \n",
      "Windows               39.072068\n",
      "iOS Device            16.022465\n",
      "MacOS                  9.449851\n",
      "Trident/7.0            4.129465\n",
      "rv:11.0                0.631399\n",
      "                        ...    \n",
      "PSPCL20A0              0.000705\n",
      "VS986 Build/MRA58K     0.000705\n",
      "SAMSUNG-SM-G920AZ      0.000705\n",
      "SM-J510H               0.000705\n",
      "LG-K373                0.000705\n",
      "Name: DeviceInfo, Length: 2226, dtype: float64\n",
      "\n",
      "*** \n",
      "\n",
      "After filling: \n",
      "Windows               38.441965\n",
      "iOS Device            15.764076\n",
      "MacOS                  9.297456\n",
      "Trident/7.0            4.062870\n",
      "SAMSUNG                1.798479\n",
      "                        ...    \n",
      "PSPCL20A0              0.000693\n",
      "VS986 Build/MRA58K     0.000693\n",
      "SAMSUNG-SM-G920AZ      0.000693\n",
      "SM-J510H               0.000693\n",
      "LG-K373                0.000693\n",
      "Name: DeviceInfo, Length: 2226, dtype: float64\n"
     ]
    }
   ],
   "source": [
    "print(\"Before filling: \\n\"+str(test_transaction.DeviceInfo.value_counts(normalize=True)*100))\n",
    "test_transaction.DeviceInfo.fillna(method='ffill',inplace=True)\n",
    "print(\"\\n*** \\n\\nAfter filling: \\n\"+str(test_transaction.DeviceInfo.value_counts(normalize=True)*100))"
   ]
  },
  {
   "cell_type": "code",
   "execution_count": 66,
   "metadata": {
    "execution": {
     "iopub.execute_input": "2021-01-15T08:59:10.565555Z",
     "iopub.status.busy": "2021-01-15T08:59:10.518419Z",
     "iopub.status.idle": "2021-01-15T08:59:10.577068Z",
     "shell.execute_reply": "2021-01-15T08:59:10.575949Z"
    },
    "papermill": {
     "duration": 0.250603,
     "end_time": "2021-01-15T08:59:10.577229",
     "exception": false,
     "start_time": "2021-01-15T08:59:10.326626",
     "status": "completed"
    },
    "tags": []
   },
   "outputs": [
    {
     "name": "stdout",
     "output_type": "stream",
     "text": [
      "Before filling: \n",
      "Found      49.615629\n",
      "New        42.185914\n",
      "Unknown     8.198457\n",
      "Name: id_15, dtype: float64\n",
      "\n",
      "*** \n",
      "\n",
      "After filling: \n",
      "Found      50.376128\n",
      "New        41.549437\n",
      "Unknown     8.074435\n",
      "Name: id_15, dtype: float64\n"
     ]
    }
   ],
   "source": [
    "print(\"Before filling: \\n\"+str(test_transaction.id_15.value_counts(normalize=True)*100))\n",
    "test_transaction.id_15.fillna(method='ffill',inplace=True)\n",
    "print(\"\\n*** \\n\\nAfter filling: \\n\"+str(test_transaction.id_15.value_counts(normalize=True)*100))"
   ]
  },
  {
   "cell_type": "code",
   "execution_count": 67,
   "metadata": {
    "execution": {
     "iopub.execute_input": "2021-01-15T08:59:10.879159Z",
     "iopub.status.busy": "2021-01-15T08:59:10.878346Z",
     "iopub.status.idle": "2021-01-15T08:59:10.929163Z",
     "shell.execute_reply": "2021-01-15T08:59:10.929999Z"
    },
    "papermill": {
     "duration": 0.20361,
     "end_time": "2021-01-15T08:59:10.930198",
     "exception": false,
     "start_time": "2021-01-15T08:59:10.726588",
     "status": "completed"
    },
    "tags": []
   },
   "outputs": [
    {
     "name": "stdout",
     "output_type": "stream",
     "text": [
      "Before filling: \n",
      "Found       52.868856\n",
      "NotFound    47.131144\n",
      "Name: id_16, dtype: float64\n",
      "\n",
      "*** \n",
      "\n",
      "After filling: \n",
      "Found       53.611864\n",
      "NotFound    46.388136\n",
      "Name: id_16, dtype: float64\n"
     ]
    }
   ],
   "source": [
    "print(\"Before filling: \\n\"+str(test_transaction.id_16.value_counts(normalize=True)*100))\n",
    "test_transaction.id_16.fillna(method='ffill',inplace=True)\n",
    "print(\"\\n*** \\n\\nAfter filling: \\n\"+str(test_transaction.id_16.value_counts(normalize=True)*100))"
   ]
  },
  {
   "cell_type": "code",
   "execution_count": 68,
   "metadata": {
    "execution": {
     "iopub.execute_input": "2021-01-15T08:59:11.229769Z",
     "iopub.status.busy": "2021-01-15T08:59:11.228873Z",
     "iopub.status.idle": "2021-01-15T08:59:11.287148Z",
     "shell.execute_reply": "2021-01-15T08:59:11.285983Z"
    },
    "papermill": {
     "duration": 0.209195,
     "end_time": "2021-01-15T08:59:11.287528",
     "exception": false,
     "start_time": "2021-01-15T08:59:11.078333",
     "status": "completed"
    },
    "tags": []
   },
   "outputs": [
    {
     "name": "stdout",
     "output_type": "stream",
     "text": [
      "Before filling: \n",
      "Found    55.258156\n",
      "New      44.741844\n",
      "Name: id_28, dtype: float64\n",
      "\n",
      "*** \n",
      "\n",
      "After filling: \n",
      "Found    55.977481\n",
      "New      44.022519\n",
      "Name: id_28, dtype: float64\n"
     ]
    }
   ],
   "source": [
    "print(\"Before filling: \\n\"+str(test_transaction.id_28.value_counts(normalize=True)*100))\n",
    "test_transaction.id_28.fillna(method='ffill',inplace=True)\n",
    "print(\"\\n*** \\n\\nAfter filling: \\n\"+str(test_transaction.id_28.value_counts(normalize=True)*100))"
   ]
  },
  {
   "cell_type": "code",
   "execution_count": 69,
   "metadata": {
    "execution": {
     "iopub.execute_input": "2021-01-15T08:59:11.674754Z",
     "iopub.status.busy": "2021-01-15T08:59:11.667551Z",
     "iopub.status.idle": "2021-01-15T08:59:11.712351Z",
     "shell.execute_reply": "2021-01-15T08:59:11.712997Z"
    },
    "papermill": {
     "duration": 0.271199,
     "end_time": "2021-01-15T08:59:11.713144",
     "exception": false,
     "start_time": "2021-01-15T08:59:11.441945",
     "status": "completed"
    },
    "tags": []
   },
   "outputs": [
    {
     "name": "stdout",
     "output_type": "stream",
     "text": [
      "Before filling: \n",
      "Found       54.349384\n",
      "NotFound    45.650616\n",
      "Name: id_29, dtype: float64\n",
      "\n",
      "*** \n",
      "\n",
      "After filling: \n",
      "Found       55.090721\n",
      "NotFound    44.909279\n",
      "Name: id_29, dtype: float64\n"
     ]
    }
   ],
   "source": [
    "print(\"Before filling: \\n\"+str(test_transaction.id_29.value_counts(normalize=True)*100))\n",
    "test_transaction.id_29.fillna(method='ffill',inplace=True)\n",
    "print(\"\\n*** \\n\\nAfter filling: \\n\"+str(test_transaction.id_29.value_counts(normalize=True)*100))"
   ]
  },
  {
   "cell_type": "code",
   "execution_count": 70,
   "metadata": {
    "execution": {
     "iopub.execute_input": "2021-01-15T08:59:11.933877Z",
     "iopub.status.busy": "2021-01-15T08:59:11.926153Z",
     "iopub.status.idle": "2021-01-15T08:59:11.977426Z",
     "shell.execute_reply": "2021-01-15T08:59:11.976845Z"
    },
    "papermill": {
     "duration": 0.165063,
     "end_time": "2021-01-15T08:59:11.977545",
     "exception": false,
     "start_time": "2021-01-15T08:59:11.812482",
     "status": "completed"
    },
    "tags": []
   },
   "outputs": [
    {
     "name": "stdout",
     "output_type": "stream",
     "text": [
      "Before filling: \n",
      "Windows 10          29.741434\n",
      "Windows 7           14.673290\n",
      "iOS 12.1.0           8.985409\n",
      "iOS 11.4.1           5.007147\n",
      "Mac OS X 10_13_6     4.605217\n",
      "                      ...    \n",
      "func                 0.015568\n",
      "Mac OS X 10_12       0.011322\n",
      "other                0.005661\n",
      "Android 4.4.2        0.005661\n",
      "Windows              0.004246\n",
      "Name: id_30, Length: 86, dtype: float64\n",
      "\n",
      "*** \n",
      "\n",
      "After filling: \n",
      "Windows 10          65.580692\n",
      "Windows 7            7.188369\n",
      "iOS 12.1.0           4.401905\n",
      "iOS 11.4.1           2.452975\n",
      "Mac OS X 10_13_6     2.256072\n",
      "                      ...    \n",
      "func                 0.007627\n",
      "Mac OS X 10_12       0.005547\n",
      "other                0.002773\n",
      "Android 4.4.2        0.002773\n",
      "Windows              0.002080\n",
      "Name: id_30, Length: 86, dtype: float64\n"
     ]
    }
   ],
   "source": [
    "print(\"Before filling: \\n\"+str(test_transaction.id_30.value_counts(normalize=True)*100))\n",
    "test_transaction.id_30.fillna('Windows 10',inplace=True)\n",
    "print(\"\\n*** \\n\\nAfter filling: \\n\"+str(test_transaction.id_30.value_counts(normalize=True)*100))"
   ]
  },
  {
   "cell_type": "code",
   "execution_count": 71,
   "metadata": {
    "execution": {
     "iopub.execute_input": "2021-01-15T08:59:12.204531Z",
     "iopub.status.busy": "2021-01-15T08:59:12.197274Z",
     "iopub.status.idle": "2021-01-15T08:59:12.248147Z",
     "shell.execute_reply": "2021-01-15T08:59:12.247579Z"
    },
    "papermill": {
     "duration": 0.168548,
     "end_time": "2021-01-15T08:59:12.248260",
     "exception": false,
     "start_time": "2021-01-15T08:59:12.079712",
     "status": "completed"
    },
    "tags": []
   },
   "outputs": [
    {
     "name": "stdout",
     "output_type": "stream",
     "text": [
      "Before filling: \n",
      "chrome 70.0                       11.750412\n",
      "mobile safari 12.0                 9.586825\n",
      "mobile safari 11.0                 7.489113\n",
      "chrome 71.0                        6.945288\n",
      "chrome 69.0                        6.069899\n",
      "                                    ...    \n",
      "google search application 49.0     0.002928\n",
      "palemoon                           0.001464\n",
      "rim                                0.000732\n",
      "opera 51.0                         0.000732\n",
      "blackberry                         0.000732\n",
      "Name: id_31, Length: 135, dtype: float64\n",
      "\n",
      "*** \n",
      "\n",
      "After filling: \n",
      "chrome 70.0                       11.451610\n",
      "mobile safari 12.0                 9.366788\n",
      "mobile safari 11.0                 7.368633\n",
      "chrome 71.0                        6.780695\n",
      "chrome 69.0                        6.189984\n",
      "                                    ...    \n",
      "google search application 49.0     0.002773\n",
      "palemoon                           0.001387\n",
      "rim                                0.000693\n",
      "opera 51.0                         0.000693\n",
      "blackberry                         0.000693\n",
      "Name: id_31, Length: 135, dtype: float64\n"
     ]
    }
   ],
   "source": [
    "print(\"Before filling: \\n\"+str(test_transaction.id_31.value_counts(normalize=True)*100))\n",
    "test_transaction.id_31.fillna(method='ffill',inplace=True)\n",
    "print(\"\\n*** \\n\\nAfter filling: \\n\"+str(test_transaction.id_31.value_counts(normalize=True)*100))"
   ]
  },
  {
   "cell_type": "code",
   "execution_count": 72,
   "metadata": {
    "execution": {
     "iopub.execute_input": "2021-01-15T08:59:12.484389Z",
     "iopub.status.busy": "2021-01-15T08:59:12.477069Z",
     "iopub.status.idle": "2021-01-15T08:59:12.524440Z",
     "shell.execute_reply": "2021-01-15T08:59:12.523649Z"
    },
    "papermill": {
     "duration": 0.175107,
     "end_time": "2021-01-15T08:59:12.524599",
     "exception": false,
     "start_time": "2021-01-15T08:59:12.349492",
     "status": "completed"
    },
    "tags": []
   },
   "outputs": [
    {
     "name": "stdout",
     "output_type": "stream",
     "text": [
      "Before filling: \n",
      "1920x1080    23.868348\n",
      "1366x768      9.114064\n",
      "1334x750      7.220784\n",
      "2208x1242     5.961427\n",
      "1440x900      5.296373\n",
      "               ...    \n",
      "2559x1080     0.001415\n",
      "4096x2160     0.001415\n",
      "2791x1440     0.001415\n",
      "1268x862      0.001415\n",
      "1280x801      0.001415\n",
      "Name: id_33, Length: 390, dtype: float64\n",
      "\n",
      "*** \n",
      "\n",
      "After filling: \n",
      "1920x1080    62.697164\n",
      "1366x768      4.465691\n",
      "1334x750      3.538025\n",
      "2208x1242     2.920968\n",
      "1440x900      2.595107\n",
      "               ...    \n",
      "2559x1080     0.000693\n",
      "4096x2160     0.000693\n",
      "2791x1440     0.000693\n",
      "1268x862      0.000693\n",
      "1280x801      0.000693\n",
      "Name: id_33, Length: 390, dtype: float64\n"
     ]
    }
   ],
   "source": [
    "print(\"Before filling: \\n\"+str(test_transaction.id_33.value_counts(normalize=True)*100))\n",
    "test_transaction.id_33.fillna('1920x1080',inplace=True)\n",
    "print(\"\\n*** \\n\\nAfter filling: \\n\"+str(test_transaction.id_33.value_counts(normalize=True)*100))"
   ]
  },
  {
   "cell_type": "code",
   "execution_count": 73,
   "metadata": {
    "execution": {
     "iopub.execute_input": "2021-01-15T08:59:12.751124Z",
     "iopub.status.busy": "2021-01-15T08:59:12.741976Z",
     "iopub.status.idle": "2021-01-15T08:59:12.784926Z",
     "shell.execute_reply": "2021-01-15T08:59:12.785498Z"
    },
    "papermill": {
     "duration": 0.160771,
     "end_time": "2021-01-15T08:59:12.785646",
     "exception": false,
     "start_time": "2021-01-15T08:59:12.624875",
     "status": "completed"
    },
    "tags": []
   },
   "outputs": [
    {
     "name": "stdout",
     "output_type": "stream",
     "text": [
      "Before filling: \n",
      "match_status:2    99.998614\n",
      "match_status:1     0.001386\n",
      "Name: id_34, dtype: float64\n",
      "\n",
      "*** \n",
      "\n",
      "After filling: \n",
      "match_status:2    99.999307\n",
      "match_status:1     0.000693\n",
      "Name: id_34, dtype: float64\n"
     ]
    }
   ],
   "source": [
    "print(\"Before filling: \\n\"+str(test_transaction.id_34.value_counts(normalize=True)*100))\n",
    "test_transaction.id_34.fillna('match_status:2',inplace=True)\n",
    "print(\"\\n*** \\n\\nAfter filling: \\n\"+str(test_transaction.id_34.value_counts(normalize=True)*100))"
   ]
  },
  {
   "cell_type": "code",
   "execution_count": 74,
   "metadata": {
    "execution": {
     "iopub.execute_input": "2021-01-15T08:59:13.005946Z",
     "iopub.status.busy": "2021-01-15T08:59:12.998666Z",
     "iopub.status.idle": "2021-01-15T08:59:13.039859Z",
     "shell.execute_reply": "2021-01-15T08:59:13.040616Z"
    },
    "papermill": {
     "duration": 0.155599,
     "end_time": "2021-01-15T08:59:13.040791",
     "exception": false,
     "start_time": "2021-01-15T08:59:12.885192",
     "status": "completed"
    },
    "tags": []
   },
   "outputs": [
    {
     "name": "stdout",
     "output_type": "stream",
     "text": [
      "Before filling: \n",
      "T    52.308052\n",
      "F    47.691948\n",
      "Name: id_35, dtype: float64\n",
      "\n",
      "*** \n",
      "\n",
      "After filling: \n",
      "T    51.380752\n",
      "F    48.619248\n",
      "Name: id_35, dtype: float64\n"
     ]
    }
   ],
   "source": [
    "print(\"Before filling: \\n\"+str(test_transaction.id_35.value_counts(normalize=True)*100))\n",
    "test_transaction.id_35.fillna(method='ffill',inplace=True)\n",
    "print(\"\\n*** \\n\\nAfter filling: \\n\"+str(test_transaction.id_35.value_counts(normalize=True)*100))"
   ]
  },
  {
   "cell_type": "code",
   "execution_count": 75,
   "metadata": {
    "execution": {
     "iopub.execute_input": "2021-01-15T08:59:13.270339Z",
     "iopub.status.busy": "2021-01-15T08:59:13.253754Z",
     "iopub.status.idle": "2021-01-15T08:59:13.296218Z",
     "shell.execute_reply": "2021-01-15T08:59:13.295655Z"
    },
    "papermill": {
     "duration": 0.15519,
     "end_time": "2021-01-15T08:59:13.296353",
     "exception": false,
     "start_time": "2021-01-15T08:59:13.141163",
     "status": "completed"
    },
    "tags": []
   },
   "outputs": [
    {
     "name": "stdout",
     "output_type": "stream",
     "text": [
      "Before filling: \n",
      "F    97.306117\n",
      "T     2.693883\n",
      "Name: id_36, dtype: float64\n",
      "\n",
      "*** \n",
      "\n",
      "After filling: \n",
      "F    97.325161\n",
      "T     2.674839\n",
      "Name: id_36, dtype: float64\n"
     ]
    }
   ],
   "source": [
    "print(\"Before filling: \\n\"+str(test_transaction.id_36.value_counts(normalize=True)*100))\n",
    "test_transaction.id_36.fillna(method='ffill',inplace=True)\n",
    "print(\"\\n*** \\n\\nAfter filling: \\n\"+str(test_transaction.id_36.value_counts(normalize=True)*100))"
   ]
  },
  {
   "cell_type": "code",
   "execution_count": 76,
   "metadata": {
    "execution": {
     "iopub.execute_input": "2021-01-15T08:59:13.539987Z",
     "iopub.status.busy": "2021-01-15T08:59:13.518958Z",
     "iopub.status.idle": "2021-01-15T08:59:13.565645Z",
     "shell.execute_reply": "2021-01-15T08:59:13.563910Z"
    },
    "papermill": {
     "duration": 0.167996,
     "end_time": "2021-01-15T08:59:13.565794",
     "exception": false,
     "start_time": "2021-01-15T08:59:13.397798",
     "status": "completed"
    },
    "tags": []
   },
   "outputs": [
    {
     "name": "stdout",
     "output_type": "stream",
     "text": [
      "Before filling: \n",
      "T    76.434\n",
      "F    23.566\n",
      "Name: id_37, dtype: float64\n",
      "\n",
      "*** \n",
      "\n",
      "After filling: \n",
      "T    76.871451\n",
      "F    23.128549\n",
      "Name: id_37, dtype: float64\n"
     ]
    }
   ],
   "source": [
    "print(\"Before filling: \\n\"+str(test_transaction.id_37.value_counts(normalize=True)*100))\n",
    "test_transaction.id_37.fillna(method='ffill',inplace=True)\n",
    "print(\"\\n*** \\n\\nAfter filling: \\n\"+str(test_transaction.id_37.value_counts(normalize=True)*100))"
   ]
  },
  {
   "cell_type": "code",
   "execution_count": 77,
   "metadata": {
    "execution": {
     "iopub.execute_input": "2021-01-15T08:59:13.910477Z",
     "iopub.status.busy": "2021-01-15T08:59:13.892444Z",
     "iopub.status.idle": "2021-01-15T08:59:13.938229Z",
     "shell.execute_reply": "2021-01-15T08:59:13.937444Z"
    },
    "papermill": {
     "duration": 0.214384,
     "end_time": "2021-01-15T08:59:13.938396",
     "exception": false,
     "start_time": "2021-01-15T08:59:13.724012",
     "status": "completed"
    },
    "tags": []
   },
   "outputs": [
    {
     "name": "stdout",
     "output_type": "stream",
     "text": [
      "Before filling: \n",
      "F    69.397052\n",
      "T    30.602948\n",
      "Name: id_38, dtype: float64\n",
      "\n",
      "*** \n",
      "\n",
      "After filling: \n",
      "F    69.82244\n",
      "T    30.17756\n",
      "Name: id_38, dtype: float64\n"
     ]
    }
   ],
   "source": [
    "print(\"Before filling: \\n\"+str(test_transaction.id_38.value_counts(normalize=True)*100))\n",
    "test_transaction.id_38.fillna(method='ffill',inplace=True)\n",
    "print(\"\\n*** \\n\\nAfter filling: \\n\"+str(test_transaction.id_38.value_counts(normalize=True)*100))"
   ]
  },
  {
   "cell_type": "code",
   "execution_count": 78,
   "metadata": {
    "execution": {
     "iopub.execute_input": "2021-01-15T08:59:14.256629Z",
     "iopub.status.busy": "2021-01-15T08:59:14.255424Z",
     "iopub.status.idle": "2021-01-15T08:59:14.601572Z",
     "shell.execute_reply": "2021-01-15T08:59:14.600820Z"
    },
    "papermill": {
     "duration": 0.507511,
     "end_time": "2021-01-15T08:59:14.601718",
     "exception": false,
     "start_time": "2021-01-15T08:59:14.094207",
     "status": "completed"
    },
    "tags": []
   },
   "outputs": [
    {
     "data": {
      "text/plain": [
       "Series([], dtype: int64)"
      ]
     },
     "execution_count": 78,
     "metadata": {},
     "output_type": "execute_result"
    }
   ],
   "source": [
    "test_transaction.isnull().sum()[test_transaction.isnull().sum()>0]"
   ]
  },
  {
   "cell_type": "code",
   "execution_count": 79,
   "metadata": {
    "execution": {
     "iopub.execute_input": "2021-01-15T08:59:14.854089Z",
     "iopub.status.busy": "2021-01-15T08:59:14.845223Z",
     "iopub.status.idle": "2021-01-15T08:59:15.505078Z",
     "shell.execute_reply": "2021-01-15T08:59:15.504500Z"
    },
    "papermill": {
     "duration": 0.778327,
     "end_time": "2021-01-15T08:59:15.505194",
     "exception": false,
     "start_time": "2021-01-15T08:59:14.726867",
     "status": "completed"
    },
    "tags": []
   },
   "outputs": [],
   "source": [
    "from sklearn import preprocessing\n",
    "\n",
    "label_encoder=preprocessing.LabelEncoder()\n",
    "\n",
    "card4=pd.Series(label_encoder.fit_transform(test_transaction.card4))\n",
    "card6=pd.Series(label_encoder.fit_transform(test_transaction.card6))\n",
    "P_emaildomain=pd.Series(label_encoder.fit_transform(test_transaction.P_emaildomain))\n",
    "M6=pd.Series(label_encoder.fit_transform(test_transaction.M6))\n",
    "DeviceType=pd.Series(label_encoder.fit_transform(test_transaction.DeviceType))\n",
    "DeviceInfo=pd.Series(label_encoder.fit_transform(test_transaction.DeviceInfo))\n",
    "id_15=pd.Series(label_encoder.fit_transform(test_transaction.id_15))\n",
    "id_16=pd.Series(label_encoder.fit_transform(test_transaction.id_16))\n",
    "id_28=pd.Series(label_encoder.fit_transform(test_transaction.id_28))\n",
    "id_29=pd.Series(label_encoder.fit_transform(test_transaction.id_29))\n",
    "id_30=pd.Series(label_encoder.fit_transform(test_transaction.id_30))\n",
    "id_31=pd.Series(label_encoder.fit_transform(test_transaction.id_31))\n",
    "id_33=pd.Series(label_encoder.fit_transform(test_transaction.id_33))\n",
    "id_34=pd.Series(label_encoder.fit_transform(test_transaction.id_34))\n",
    "id_35=pd.Series(label_encoder.fit_transform(test_transaction.id_35))\n",
    "id_36=pd.Series(label_encoder.fit_transform(test_transaction.id_36))\n",
    "id_37=pd.Series(label_encoder.fit_transform(test_transaction.id_37))\n",
    "id_38=pd.Series(label_encoder.fit_transform(test_transaction.id_38))\n",
    "\n",
    "test_transaction.drop(['card4','card6','M6','P_emaildomain','DeviceType','DeviceInfo','id_15','id_16','id_28','id_29','id_30','id_31','id_33','id_34','id_35','id_36','id_37','id_38'], axis=1,inplace=True)"
   ]
  },
  {
   "cell_type": "code",
   "execution_count": 80,
   "metadata": {
    "execution": {
     "iopub.execute_input": "2021-01-15T08:59:15.726319Z",
     "iopub.status.busy": "2021-01-15T08:59:15.721491Z",
     "iopub.status.idle": "2021-01-15T08:59:15.798358Z",
     "shell.execute_reply": "2021-01-15T08:59:15.797648Z"
    },
    "papermill": {
     "duration": 0.189438,
     "end_time": "2021-01-15T08:59:15.798474",
     "exception": false,
     "start_time": "2021-01-15T08:59:15.609036",
     "status": "completed"
    },
    "tags": []
   },
   "outputs": [],
   "source": [
    "card4=pd.DataFrame(card4,columns=['card4'])\n",
    "card6=pd.DataFrame(card6,columns=['card6'])\n",
    "M6=pd.DataFrame(M6,columns=['M6'])\n",
    "P_emaildomain=pd.DataFrame(P_emaildomain,columns=['P_emaildomain'])\n",
    "DeviceType=pd.DataFrame(DeviceType,columns=['DeviceType'])\n",
    "DeviceInfo=pd.DataFrame(DeviceInfo,columns=['DeviceInfo'])\n",
    "id_15=pd.DataFrame(id_15,columns=['id_15'])\n",
    "id_16=pd.DataFrame(id_16,columns=['id_16'])\n",
    "id_28=pd.DataFrame(id_28,columns=['id_28'])\n",
    "id_29=pd.DataFrame(id_29,columns=['id_29'])\n",
    "id_30=pd.DataFrame(id_30,columns=['id_30'])\n",
    "id_31=pd.DataFrame(id_31,columns=['id_31'])\n",
    "id_33=pd.DataFrame(id_33,columns=['id_33'])\n",
    "id_34=pd.DataFrame(id_34,columns=['id_34'])\n",
    "id_35=pd.DataFrame(id_35,columns=['id_35'])\n",
    "id_36=pd.DataFrame(id_36,columns=['id_36'])\n",
    "id_37=pd.DataFrame(id_37,columns=['id_37'])\n",
    "id_38=pd.DataFrame(id_38,columns=['id_38'])\n",
    "\n",
    "test_transaction=pd.concat([test_transaction,card4,card6,M6,P_emaildomain,DeviceType,DeviceInfo,id_15,id_16,id_28,id_29,id_30,id_31,id_33,id_34,id_35,id_36,id_37,id_38],axis=1)"
   ]
  },
  {
   "cell_type": "code",
   "execution_count": 81,
   "metadata": {
    "execution": {
     "iopub.execute_input": "2021-01-15T08:59:16.010357Z",
     "iopub.status.busy": "2021-01-15T08:59:16.009727Z",
     "iopub.status.idle": "2021-01-15T08:59:16.269819Z",
     "shell.execute_reply": "2021-01-15T08:59:16.268249Z"
    },
    "papermill": {
     "duration": 0.367349,
     "end_time": "2021-01-15T08:59:16.270058",
     "exception": false,
     "start_time": "2021-01-15T08:59:15.902709",
     "status": "completed"
    },
    "tags": []
   },
   "outputs": [],
   "source": [
    "normalized = preprocessing.normalize(test_transaction)"
   ]
  },
  {
   "cell_type": "code",
   "execution_count": 82,
   "metadata": {
    "execution": {
     "iopub.execute_input": "2021-01-15T08:59:16.490468Z",
     "iopub.status.busy": "2021-01-15T08:59:16.489180Z",
     "iopub.status.idle": "2021-01-15T08:59:16.530676Z",
     "shell.execute_reply": "2021-01-15T08:59:16.529873Z"
    },
    "papermill": {
     "duration": 0.158351,
     "end_time": "2021-01-15T08:59:16.530829",
     "exception": false,
     "start_time": "2021-01-15T08:59:16.372478",
     "status": "completed"
    },
    "tags": []
   },
   "outputs": [
    {
     "data": {
      "text/html": [
       "<div>\n",
       "<style scoped>\n",
       "    .dataframe tbody tr th:only-of-type {\n",
       "        vertical-align: middle;\n",
       "    }\n",
       "\n",
       "    .dataframe tbody tr th {\n",
       "        vertical-align: top;\n",
       "    }\n",
       "\n",
       "    .dataframe thead th {\n",
       "        text-align: right;\n",
       "    }\n",
       "</style>\n",
       "<table border=\"1\" class=\"dataframe\">\n",
       "  <thead>\n",
       "    <tr style=\"text-align: right;\">\n",
       "      <th></th>\n",
       "      <th>TransactionDT</th>\n",
       "      <th>TransactionAmt</th>\n",
       "      <th>card1</th>\n",
       "      <th>card2</th>\n",
       "      <th>card3</th>\n",
       "      <th>card5</th>\n",
       "      <th>addr1</th>\n",
       "      <th>addr2</th>\n",
       "      <th>C1</th>\n",
       "      <th>C2</th>\n",
       "      <th>...</th>\n",
       "      <th>id_28</th>\n",
       "      <th>id_29</th>\n",
       "      <th>id_30</th>\n",
       "      <th>id_31</th>\n",
       "      <th>id_33</th>\n",
       "      <th>id_34</th>\n",
       "      <th>id_35</th>\n",
       "      <th>id_36</th>\n",
       "      <th>id_37</th>\n",
       "      <th>id_38</th>\n",
       "    </tr>\n",
       "  </thead>\n",
       "  <tbody>\n",
       "    <tr>\n",
       "      <th>0</th>\n",
       "      <td>18403224</td>\n",
       "      <td>31.95</td>\n",
       "      <td>10409</td>\n",
       "      <td>111.0</td>\n",
       "      <td>150.0</td>\n",
       "      <td>226.0</td>\n",
       "      <td>170.0</td>\n",
       "      <td>87.0</td>\n",
       "      <td>6.0</td>\n",
       "      <td>6.0</td>\n",
       "      <td>...</td>\n",
       "      <td>1</td>\n",
       "      <td>1</td>\n",
       "      <td>48</td>\n",
       "      <td>45</td>\n",
       "      <td>171</td>\n",
       "      <td>1</td>\n",
       "      <td>0</td>\n",
       "      <td>0</td>\n",
       "      <td>1</td>\n",
       "      <td>0</td>\n",
       "    </tr>\n",
       "    <tr>\n",
       "      <th>1</th>\n",
       "      <td>18403263</td>\n",
       "      <td>49.00</td>\n",
       "      <td>4272</td>\n",
       "      <td>111.0</td>\n",
       "      <td>150.0</td>\n",
       "      <td>226.0</td>\n",
       "      <td>299.0</td>\n",
       "      <td>87.0</td>\n",
       "      <td>3.0</td>\n",
       "      <td>2.0</td>\n",
       "      <td>...</td>\n",
       "      <td>0</td>\n",
       "      <td>0</td>\n",
       "      <td>6</td>\n",
       "      <td>45</td>\n",
       "      <td>48</td>\n",
       "      <td>1</td>\n",
       "      <td>1</td>\n",
       "      <td>0</td>\n",
       "      <td>1</td>\n",
       "      <td>1</td>\n",
       "    </tr>\n",
       "    <tr>\n",
       "      <th>2</th>\n",
       "      <td>18403310</td>\n",
       "      <td>171.00</td>\n",
       "      <td>4476</td>\n",
       "      <td>574.0</td>\n",
       "      <td>150.0</td>\n",
       "      <td>226.0</td>\n",
       "      <td>472.0</td>\n",
       "      <td>87.0</td>\n",
       "      <td>2.0</td>\n",
       "      <td>2.0</td>\n",
       "      <td>...</td>\n",
       "      <td>1</td>\n",
       "      <td>1</td>\n",
       "      <td>48</td>\n",
       "      <td>100</td>\n",
       "      <td>171</td>\n",
       "      <td>1</td>\n",
       "      <td>0</td>\n",
       "      <td>1</td>\n",
       "      <td>1</td>\n",
       "      <td>0</td>\n",
       "    </tr>\n",
       "    <tr>\n",
       "      <th>3</th>\n",
       "      <td>18403310</td>\n",
       "      <td>284.95</td>\n",
       "      <td>10989</td>\n",
       "      <td>360.0</td>\n",
       "      <td>150.0</td>\n",
       "      <td>166.0</td>\n",
       "      <td>205.0</td>\n",
       "      <td>87.0</td>\n",
       "      <td>5.0</td>\n",
       "      <td>2.0</td>\n",
       "      <td>...</td>\n",
       "      <td>0</td>\n",
       "      <td>0</td>\n",
       "      <td>48</td>\n",
       "      <td>45</td>\n",
       "      <td>171</td>\n",
       "      <td>1</td>\n",
       "      <td>0</td>\n",
       "      <td>0</td>\n",
       "      <td>1</td>\n",
       "      <td>0</td>\n",
       "    </tr>\n",
       "    <tr>\n",
       "      <th>4</th>\n",
       "      <td>18403317</td>\n",
       "      <td>67.95</td>\n",
       "      <td>18018</td>\n",
       "      <td>452.0</td>\n",
       "      <td>150.0</td>\n",
       "      <td>117.0</td>\n",
       "      <td>264.0</td>\n",
       "      <td>87.0</td>\n",
       "      <td>6.0</td>\n",
       "      <td>6.0</td>\n",
       "      <td>...</td>\n",
       "      <td>1</td>\n",
       "      <td>1</td>\n",
       "      <td>48</td>\n",
       "      <td>45</td>\n",
       "      <td>171</td>\n",
       "      <td>1</td>\n",
       "      <td>0</td>\n",
       "      <td>0</td>\n",
       "      <td>1</td>\n",
       "      <td>0</td>\n",
       "    </tr>\n",
       "    <tr>\n",
       "      <th>...</th>\n",
       "      <td>...</td>\n",
       "      <td>...</td>\n",
       "      <td>...</td>\n",
       "      <td>...</td>\n",
       "      <td>...</td>\n",
       "      <td>...</td>\n",
       "      <td>...</td>\n",
       "      <td>...</td>\n",
       "      <td>...</td>\n",
       "      <td>...</td>\n",
       "      <td>...</td>\n",
       "      <td>...</td>\n",
       "      <td>...</td>\n",
       "      <td>...</td>\n",
       "      <td>...</td>\n",
       "      <td>...</td>\n",
       "      <td>...</td>\n",
       "      <td>...</td>\n",
       "      <td>...</td>\n",
       "      <td>...</td>\n",
       "      <td>...</td>\n",
       "    </tr>\n",
       "    <tr>\n",
       "      <th>144228</th>\n",
       "      <td>23405703</td>\n",
       "      <td>107.95</td>\n",
       "      <td>12544</td>\n",
       "      <td>321.0</td>\n",
       "      <td>150.0</td>\n",
       "      <td>226.0</td>\n",
       "      <td>337.0</td>\n",
       "      <td>87.0</td>\n",
       "      <td>6.0</td>\n",
       "      <td>4.0</td>\n",
       "      <td>...</td>\n",
       "      <td>0</td>\n",
       "      <td>0</td>\n",
       "      <td>48</td>\n",
       "      <td>133</td>\n",
       "      <td>171</td>\n",
       "      <td>1</td>\n",
       "      <td>0</td>\n",
       "      <td>0</td>\n",
       "      <td>1</td>\n",
       "      <td>0</td>\n",
       "    </tr>\n",
       "    <tr>\n",
       "      <th>144229</th>\n",
       "      <td>23405706</td>\n",
       "      <td>275.00</td>\n",
       "      <td>12577</td>\n",
       "      <td>268.0</td>\n",
       "      <td>150.0</td>\n",
       "      <td>166.0</td>\n",
       "      <td>251.0</td>\n",
       "      <td>87.0</td>\n",
       "      <td>2.0</td>\n",
       "      <td>3.0</td>\n",
       "      <td>...</td>\n",
       "      <td>0</td>\n",
       "      <td>0</td>\n",
       "      <td>48</td>\n",
       "      <td>133</td>\n",
       "      <td>171</td>\n",
       "      <td>1</td>\n",
       "      <td>0</td>\n",
       "      <td>0</td>\n",
       "      <td>1</td>\n",
       "      <td>0</td>\n",
       "    </tr>\n",
       "    <tr>\n",
       "      <th>144230</th>\n",
       "      <td>23405732</td>\n",
       "      <td>82.95</td>\n",
       "      <td>18006</td>\n",
       "      <td>543.0</td>\n",
       "      <td>150.0</td>\n",
       "      <td>224.0</td>\n",
       "      <td>436.0</td>\n",
       "      <td>87.0</td>\n",
       "      <td>8.0</td>\n",
       "      <td>7.0</td>\n",
       "      <td>...</td>\n",
       "      <td>0</td>\n",
       "      <td>0</td>\n",
       "      <td>48</td>\n",
       "      <td>133</td>\n",
       "      <td>171</td>\n",
       "      <td>1</td>\n",
       "      <td>0</td>\n",
       "      <td>0</td>\n",
       "      <td>1</td>\n",
       "      <td>0</td>\n",
       "    </tr>\n",
       "    <tr>\n",
       "      <th>144231</th>\n",
       "      <td>23405743</td>\n",
       "      <td>34.00</td>\n",
       "      <td>13780</td>\n",
       "      <td>298.0</td>\n",
       "      <td>150.0</td>\n",
       "      <td>226.0</td>\n",
       "      <td>441.0</td>\n",
       "      <td>87.0</td>\n",
       "      <td>1.0</td>\n",
       "      <td>2.0</td>\n",
       "      <td>...</td>\n",
       "      <td>0</td>\n",
       "      <td>0</td>\n",
       "      <td>48</td>\n",
       "      <td>133</td>\n",
       "      <td>171</td>\n",
       "      <td>1</td>\n",
       "      <td>0</td>\n",
       "      <td>0</td>\n",
       "      <td>1</td>\n",
       "      <td>0</td>\n",
       "    </tr>\n",
       "    <tr>\n",
       "      <th>144232</th>\n",
       "      <td>23405787</td>\n",
       "      <td>335.00</td>\n",
       "      <td>12839</td>\n",
       "      <td>321.0</td>\n",
       "      <td>150.0</td>\n",
       "      <td>226.0</td>\n",
       "      <td>469.0</td>\n",
       "      <td>87.0</td>\n",
       "      <td>1.0</td>\n",
       "      <td>2.0</td>\n",
       "      <td>...</td>\n",
       "      <td>0</td>\n",
       "      <td>0</td>\n",
       "      <td>48</td>\n",
       "      <td>133</td>\n",
       "      <td>171</td>\n",
       "      <td>1</td>\n",
       "      <td>0</td>\n",
       "      <td>0</td>\n",
       "      <td>1</td>\n",
       "      <td>0</td>\n",
       "    </tr>\n",
       "  </tbody>\n",
       "</table>\n",
       "<p>144233 rows × 226 columns</p>\n",
       "</div>"
      ],
      "text/plain": [
       "        TransactionDT  TransactionAmt  card1  card2  card3  card5  addr1  \\\n",
       "0            18403224           31.95  10409  111.0  150.0  226.0  170.0   \n",
       "1            18403263           49.00   4272  111.0  150.0  226.0  299.0   \n",
       "2            18403310          171.00   4476  574.0  150.0  226.0  472.0   \n",
       "3            18403310          284.95  10989  360.0  150.0  166.0  205.0   \n",
       "4            18403317           67.95  18018  452.0  150.0  117.0  264.0   \n",
       "...               ...             ...    ...    ...    ...    ...    ...   \n",
       "144228       23405703          107.95  12544  321.0  150.0  226.0  337.0   \n",
       "144229       23405706          275.00  12577  268.0  150.0  166.0  251.0   \n",
       "144230       23405732           82.95  18006  543.0  150.0  224.0  436.0   \n",
       "144231       23405743           34.00  13780  298.0  150.0  226.0  441.0   \n",
       "144232       23405787          335.00  12839  321.0  150.0  226.0  469.0   \n",
       "\n",
       "        addr2   C1   C2  ...  id_28  id_29  id_30  id_31  id_33  id_34  id_35  \\\n",
       "0        87.0  6.0  6.0  ...      1      1     48     45    171      1      0   \n",
       "1        87.0  3.0  2.0  ...      0      0      6     45     48      1      1   \n",
       "2        87.0  2.0  2.0  ...      1      1     48    100    171      1      0   \n",
       "3        87.0  5.0  2.0  ...      0      0     48     45    171      1      0   \n",
       "4        87.0  6.0  6.0  ...      1      1     48     45    171      1      0   \n",
       "...       ...  ...  ...  ...    ...    ...    ...    ...    ...    ...    ...   \n",
       "144228   87.0  6.0  4.0  ...      0      0     48    133    171      1      0   \n",
       "144229   87.0  2.0  3.0  ...      0      0     48    133    171      1      0   \n",
       "144230   87.0  8.0  7.0  ...      0      0     48    133    171      1      0   \n",
       "144231   87.0  1.0  2.0  ...      0      0     48    133    171      1      0   \n",
       "144232   87.0  1.0  2.0  ...      0      0     48    133    171      1      0   \n",
       "\n",
       "        id_36  id_37  id_38  \n",
       "0           0      1      0  \n",
       "1           0      1      1  \n",
       "2           1      1      0  \n",
       "3           0      1      0  \n",
       "4           0      1      0  \n",
       "...       ...    ...    ...  \n",
       "144228      0      1      0  \n",
       "144229      0      1      0  \n",
       "144230      0      1      0  \n",
       "144231      0      1      0  \n",
       "144232      0      1      0  \n",
       "\n",
       "[144233 rows x 226 columns]"
      ]
     },
     "execution_count": 82,
     "metadata": {},
     "output_type": "execute_result"
    }
   ],
   "source": [
    "test_transaction"
   ]
  },
  {
   "cell_type": "markdown",
   "metadata": {
    "papermill": {
     "duration": 0.157429,
     "end_time": "2021-01-15T08:59:16.849009",
     "exception": false,
     "start_time": "2021-01-15T08:59:16.691580",
     "status": "completed"
    },
    "tags": []
   },
   "source": [
    "# Model"
   ]
  },
  {
   "cell_type": "code",
   "execution_count": 83,
   "metadata": {
    "execution": {
     "iopub.execute_input": "2021-01-15T08:59:17.172448Z",
     "iopub.status.busy": "2021-01-15T08:59:17.171555Z",
     "iopub.status.idle": "2021-01-15T08:59:23.355713Z",
     "shell.execute_reply": "2021-01-15T08:59:23.354999Z"
    },
    "papermill": {
     "duration": 6.348586,
     "end_time": "2021-01-15T08:59:23.355829",
     "exception": false,
     "start_time": "2021-01-15T08:59:17.007243",
     "status": "completed"
    },
    "tags": []
   },
   "outputs": [],
   "source": [
    "from keras import Model\n",
    "from keras.layers import Conv2D, MaxPooling2D,AveragePooling2D, Flatten, Dense, Dropout, Activation , Concatenate, Input , BatchNormalization\n",
    "from keras.callbacks import ReduceLROnPlateau\n",
    "from keras.utils import plot_model, to_categorical\n",
    "from keras.optimizers import SGD, Adam\n",
    "import matplotlib.pyplot as plt"
   ]
  },
  {
   "cell_type": "code",
   "execution_count": 84,
   "metadata": {
    "execution": {
     "iopub.execute_input": "2021-01-15T08:59:23.571108Z",
     "iopub.status.busy": "2021-01-15T08:59:23.570261Z",
     "iopub.status.idle": "2021-01-15T08:59:23.576492Z",
     "shell.execute_reply": "2021-01-15T08:59:23.575762Z"
    },
    "papermill": {
     "duration": 0.117218,
     "end_time": "2021-01-15T08:59:23.576613",
     "exception": false,
     "start_time": "2021-01-15T08:59:23.459395",
     "status": "completed"
    },
    "tags": []
   },
   "outputs": [],
   "source": [
    "lrr= ReduceLROnPlateau(monitor='val_loss',\n",
    "                       factor=0.1, \n",
    "                       patience=3, \n",
    "                       min_lr=1e-30)"
   ]
  },
  {
   "cell_type": "code",
   "execution_count": 85,
   "metadata": {
    "execution": {
     "iopub.execute_input": "2021-01-15T08:59:23.798509Z",
     "iopub.status.busy": "2021-01-15T08:59:23.797854Z",
     "iopub.status.idle": "2021-01-15T08:59:24.032160Z",
     "shell.execute_reply": "2021-01-15T08:59:24.030198Z"
    },
    "papermill": {
     "duration": 0.350287,
     "end_time": "2021-01-15T08:59:24.032287",
     "exception": false,
     "start_time": "2021-01-15T08:59:23.682000",
     "status": "completed"
    },
    "tags": []
   },
   "outputs": [
    {
     "name": "stdout",
     "output_type": "stream",
     "text": [
      "Model: \"Encoder\"\n",
      "_________________________________________________________________\n",
      "Layer (type)                 Output Shape              Param #   \n",
      "=================================================================\n",
      "input_encoder (InputLayer)   [(None, 226)]             0         \n",
      "_________________________________________________________________\n",
      "encoder_layer1 (Dense)       (None, 1024)              232448    \n",
      "_________________________________________________________________\n",
      "encoder_layer2 (Dense)       (None, 512)               524800    \n",
      "_________________________________________________________________\n",
      "encoder_layer3 (BatchNormali (None, 512)               2048      \n",
      "_________________________________________________________________\n",
      "encoder_layer4 (Dropout)     (None, 512)               0         \n",
      "_________________________________________________________________\n",
      "encoder_layer5 (Dense)       (None, 256)               131328    \n",
      "_________________________________________________________________\n",
      "encoder_layer6 (Dense)       (None, 128)               32896     \n",
      "_________________________________________________________________\n",
      "encoder_layer7 (Dense)       (None, 128)               16512     \n",
      "_________________________________________________________________\n",
      "encoder_layer8 (Dense)       (None, 64)                8256      \n",
      "_________________________________________________________________\n",
      "encoder_layer9 (Dense)       (None, 64)                4160      \n",
      "_________________________________________________________________\n",
      "output_encoder (Dense)       (None, 64)                4160      \n",
      "=================================================================\n",
      "Total params: 956,608\n",
      "Trainable params: 955,584\n",
      "Non-trainable params: 1,024\n",
      "_________________________________________________________________\n"
     ]
    }
   ],
   "source": [
    "encoder_input = Input(226,name = 'input_encoder')\n",
    "encoder = Dense(1024, activation='relu',name = 'encoder_layer1')(encoder_input)\n",
    "encoder = Dense(512, activation='relu',name = 'encoder_layer2')(encoder)\n",
    "encoder = BatchNormalization(name = 'encoder_layer3')(encoder)\n",
    "encoder = Dropout(0.3 , name = 'encoder_layer4')(encoder)\n",
    "encoder = Dense(256, activation='relu',name = 'encoder_layer5')(encoder)\n",
    "encoder = Dense(128, activation='relu',name = 'encoder_layer6')(encoder)\n",
    "encoder = Dense(128, activation='relu',name = 'encoder_layer7')(encoder)\n",
    "encoder = Dense(64, activation='relu',name = 'encoder_layer8')(encoder)\n",
    "encoder = Dense(64, activation='relu',name = 'encoder_layer9')(encoder)\n",
    "encoder_output = Dense(64, activation='relu',name = 'output_encoder')(encoder)\n",
    "\n",
    "Encoder = Model(inputs= [encoder_input], outputs=[encoder_output],name = 'Encoder')\n",
    "Encoder.summary()"
   ]
  },
  {
   "cell_type": "code",
   "execution_count": 86,
   "metadata": {
    "execution": {
     "iopub.execute_input": "2021-01-15T08:59:24.257876Z",
     "iopub.status.busy": "2021-01-15T08:59:24.255619Z",
     "iopub.status.idle": "2021-01-15T08:59:24.363249Z",
     "shell.execute_reply": "2021-01-15T08:59:24.364094Z"
    },
    "papermill": {
     "duration": 0.2266,
     "end_time": "2021-01-15T08:59:24.364288",
     "exception": false,
     "start_time": "2021-01-15T08:59:24.137688",
     "status": "completed"
    },
    "tags": []
   },
   "outputs": [
    {
     "name": "stdout",
     "output_type": "stream",
     "text": [
      "Model: \"Decoder\"\n",
      "_________________________________________________________________\n",
      "Layer (type)                 Output Shape              Param #   \n",
      "=================================================================\n",
      "input_decoder (InputLayer)   [(None, 64)]              0         \n",
      "_________________________________________________________________\n",
      "decoder_layer1 (Dense)       (None, 64)                4160      \n",
      "_________________________________________________________________\n",
      "decoder_layer2 (Dense)       (None, 64)                4160      \n",
      "_________________________________________________________________\n",
      "decoder_layer3 (BatchNormali (None, 64)                256       \n",
      "_________________________________________________________________\n",
      "decoder_layer4 (Dropout)     (None, 64)                0         \n",
      "_________________________________________________________________\n",
      "decoder_layer5 (Dense)       (None, 128)               8320      \n",
      "_________________________________________________________________\n",
      "decoder_layer6 (Dense)       (None, 128)               16512     \n",
      "_________________________________________________________________\n",
      "decoder_layer7 (Dense)       (None, 256)               33024     \n",
      "_________________________________________________________________\n",
      "decoder_layer8 (Dense)       (None, 512)               131584    \n",
      "_________________________________________________________________\n",
      "decoder_layer9 (Dense)       (None, 1024)              525312    \n",
      "_________________________________________________________________\n",
      "output_layer (Dense)         (None, 226)               231650    \n",
      "=================================================================\n",
      "Total params: 954,978\n",
      "Trainable params: 954,850\n",
      "Non-trainable params: 128\n",
      "_________________________________________________________________\n"
     ]
    }
   ],
   "source": [
    "decoder_input = Input(64,name = 'input_decoder')\n",
    "decoder = Dense(64, activation='relu',name = 'decoder_layer1')(decoder_input)\n",
    "decoder = Dense(64, activation='relu',name = 'decoder_layer2')(decoder)\n",
    "decoder = BatchNormalization(name = 'decoder_layer3')(decoder)\n",
    "decoder = Dropout(0.2 , name = 'decoder_layer4')(decoder)\n",
    "decoder = Dense(128, activation='relu',name = 'decoder_layer5')(decoder)\n",
    "decoder = Dense(128, activation='relu',name = 'decoder_layer6')(decoder)\n",
    "decoder = Dense(256, activation='relu',name = 'decoder_layer7')(decoder)\n",
    "decoder = Dense(512, activation='relu',name = 'decoder_layer8')(decoder)\n",
    "decoder = Dense(1024, activation='relu',name = 'decoder_layer9')(decoder)\n",
    "decoder_output = Dense(226,activation = 'relu',name ='output_layer')(decoder)\n",
    "\n",
    "Decoder = Model(inputs= [decoder_input], outputs=[decoder_output],name = 'Decoder')\n",
    "Decoder.summary()\n",
    "\n"
   ]
  },
  {
   "cell_type": "code",
   "execution_count": 87,
   "metadata": {
    "execution": {
     "iopub.execute_input": "2021-01-15T08:59:24.588871Z",
     "iopub.status.busy": "2021-01-15T08:59:24.588203Z",
     "iopub.status.idle": "2021-01-15T08:59:24.704588Z",
     "shell.execute_reply": "2021-01-15T08:59:24.703881Z"
    },
    "papermill": {
     "duration": 0.234078,
     "end_time": "2021-01-15T08:59:24.704702",
     "exception": false,
     "start_time": "2021-01-15T08:59:24.470624",
     "status": "completed"
    },
    "tags": []
   },
   "outputs": [
    {
     "name": "stdout",
     "output_type": "stream",
     "text": [
      "Model: \"AutoEncoder\"\n",
      "_________________________________________________________________\n",
      "Layer (type)                 Output Shape              Param #   \n",
      "=================================================================\n",
      "input_autoencoder (InputLaye [(None, 226)]             0         \n",
      "_________________________________________________________________\n",
      "Encoder (Functional)         (None, 64)                956608    \n",
      "_________________________________________________________________\n",
      "Decoder (Functional)         (None, 226)               954978    \n",
      "=================================================================\n",
      "Total params: 1,911,586\n",
      "Trainable params: 1,910,434\n",
      "Non-trainable params: 1,152\n",
      "_________________________________________________________________\n"
     ]
    }
   ],
   "source": [
    "autoencoder_input = Input(226,name = 'input_autoencoder')\n",
    "latent = Encoder(autoencoder_input)\n",
    "decoded_data = Decoder(latent)\n",
    "autoencoder = Model(inputs= [autoencoder_input], outputs=[decoded_data],name = 'AutoEncoder')\n",
    "\n",
    "autoencoder.summary()"
   ]
  },
  {
   "cell_type": "code",
   "execution_count": 88,
   "metadata": {
    "execution": {
     "iopub.execute_input": "2021-01-15T08:59:24.922561Z",
     "iopub.status.busy": "2021-01-15T08:59:24.921857Z",
     "iopub.status.idle": "2021-01-15T08:59:25.545367Z",
     "shell.execute_reply": "2021-01-15T08:59:25.544623Z"
    },
    "papermill": {
     "duration": 0.734257,
     "end_time": "2021-01-15T08:59:25.545488",
     "exception": false,
     "start_time": "2021-01-15T08:59:24.811231",
     "status": "completed"
    },
    "tags": []
   },
   "outputs": [
    {
     "data": {
      "image/png": "[encoded data removed]",
      "text/plain": [
       "<IPython.core.display.Image object>"
      ]
     },
     "execution_count": 88,
     "metadata": {},
     "output_type": "execute_result"
    }
   ],
   "source": [
    "plot_model(autoencoder,show_shapes=True)"
   ]
  },
  {
   "cell_type": "code",
   "execution_count": 89,
   "metadata": {
    "execution": {
     "iopub.execute_input": "2021-01-15T08:59:25.774969Z",
     "iopub.status.busy": "2021-01-15T08:59:25.769166Z",
     "iopub.status.idle": "2021-01-15T08:59:25.783511Z",
     "shell.execute_reply": "2021-01-15T08:59:25.782797Z"
    },
    "papermill": {
     "duration": 0.131153,
     "end_time": "2021-01-15T08:59:25.783620",
     "exception": false,
     "start_time": "2021-01-15T08:59:25.652467",
     "status": "completed"
    },
    "tags": []
   },
   "outputs": [],
   "source": [
    "adam = Adam(lr=1e-20)\n",
    "autoencoder.compile(optimizer=adam,loss='mae')"
   ]
  },
  {
   "cell_type": "code",
   "execution_count": 90,
   "metadata": {
    "execution": {
     "iopub.execute_input": "2021-01-15T08:59:26.005260Z",
     "iopub.status.busy": "2021-01-15T08:59:26.004634Z",
     "iopub.status.idle": "2021-01-15T09:02:00.140907Z",
     "shell.execute_reply": "2021-01-15T09:02:00.136358Z"
    },
    "papermill": {
     "duration": 154.247412,
     "end_time": "2021-01-15T09:02:00.141020",
     "exception": false,
     "start_time": "2021-01-15T08:59:25.893608",
     "status": "completed"
    },
    "tags": []
   },
   "outputs": [
    {
     "name": "stdout",
     "output_type": "stream",
     "text": [
      "Epoch 1/100\n",
      "27/27 [==============================] - 2s 63ms/step - loss: 82988.1250 - val_loss: 83664.6875\n",
      "Epoch 2/100\n",
      "27/27 [==============================] - 1s 53ms/step - loss: 82988.1250 - val_loss: 83664.5156\n",
      "Epoch 3/100\n",
      "27/27 [==============================] - 2s 62ms/step - loss: 82988.1328 - val_loss: 83664.4375\n",
      "Epoch 4/100\n",
      "27/27 [==============================] - 1s 55ms/step - loss: 82988.1172 - val_loss: 83664.3828\n",
      "Epoch 5/100\n",
      "27/27 [==============================] - 1s 53ms/step - loss: 82988.1250 - val_loss: 83664.3750\n",
      "Epoch 6/100\n",
      "27/27 [==============================] - 1s 52ms/step - loss: 82988.1172 - val_loss: 83664.3594\n",
      "Epoch 7/100\n",
      "27/27 [==============================] - 1s 53ms/step - loss: 82988.1094 - val_loss: 83664.3516\n",
      "Epoch 8/100\n",
      "27/27 [==============================] - 1s 54ms/step - loss: 82988.1250 - val_loss: 83664.3516\n",
      "Epoch 9/100\n",
      "27/27 [==============================] - 1s 54ms/step - loss: 82988.1016 - val_loss: 83664.3438\n",
      "Epoch 10/100\n",
      "27/27 [==============================] - 1s 54ms/step - loss: 82988.1250 - val_loss: 83664.3359\n",
      "Epoch 11/100\n",
      "27/27 [==============================] - 1s 55ms/step - loss: 82988.1094 - val_loss: 83664.3359\n",
      "Epoch 12/100\n",
      "27/27 [==============================] - 1s 53ms/step - loss: 82988.1172 - val_loss: 83664.3359\n",
      "Epoch 13/100\n",
      "27/27 [==============================] - 1s 53ms/step - loss: 82988.1250 - val_loss: 83664.3359\n",
      "Epoch 14/100\n",
      "27/27 [==============================] - 1s 53ms/step - loss: 82988.1172 - val_loss: 83664.3359\n",
      "Epoch 15/100\n",
      "27/27 [==============================] - 1s 53ms/step - loss: 82988.1250 - val_loss: 83664.3281\n",
      "Epoch 16/100\n",
      "27/27 [==============================] - 1s 52ms/step - loss: 82988.1172 - val_loss: 83664.3281\n",
      "Epoch 17/100\n",
      "27/27 [==============================] - 1s 54ms/step - loss: 82988.1172 - val_loss: 83664.3281\n",
      "Epoch 18/100\n",
      "27/27 [==============================] - 2s 60ms/step - loss: 82988.1172 - val_loss: 83664.3281\n",
      "Epoch 19/100\n",
      "27/27 [==============================] - 1s 55ms/step - loss: 82988.1250 - val_loss: 83664.3281\n",
      "Epoch 20/100\n",
      "27/27 [==============================] - 1s 54ms/step - loss: 82988.1328 - val_loss: 83664.3281\n",
      "Epoch 21/100\n",
      "27/27 [==============================] - 2s 57ms/step - loss: 82988.1094 - val_loss: 83664.3281\n",
      "Epoch 22/100\n",
      "27/27 [==============================] - 1s 54ms/step - loss: 82988.1328 - val_loss: 83664.3281\n",
      "Epoch 23/100\n",
      "27/27 [==============================] - 2s 56ms/step - loss: 82988.1250 - val_loss: 83664.3281\n",
      "Epoch 24/100\n",
      "27/27 [==============================] - 2s 57ms/step - loss: 82988.1250 - val_loss: 83664.3281\n",
      "Epoch 25/100\n",
      "27/27 [==============================] - 2s 58ms/step - loss: 82988.1172 - val_loss: 83664.3281\n",
      "Epoch 26/100\n",
      "27/27 [==============================] - 1s 53ms/step - loss: 82988.1172 - val_loss: 83664.3281\n",
      "Epoch 27/100\n",
      "27/27 [==============================] - 1s 54ms/step - loss: 82988.1250 - val_loss: 83664.3281\n",
      "Epoch 28/100\n",
      "27/27 [==============================] - 1s 53ms/step - loss: 82988.1172 - val_loss: 83664.3281\n",
      "Epoch 29/100\n",
      "27/27 [==============================] - 1s 53ms/step - loss: 82988.1250 - val_loss: 83664.3281\n",
      "Epoch 30/100\n",
      "27/27 [==============================] - 1s 53ms/step - loss: 82988.1094 - val_loss: 83664.3281\n",
      "Epoch 31/100\n",
      "27/27 [==============================] - 1s 52ms/step - loss: 82988.1172 - val_loss: 83664.3281\n",
      "Epoch 32/100\n",
      "27/27 [==============================] - 1s 55ms/step - loss: 82988.1172 - val_loss: 83664.3281\n",
      "Epoch 33/100\n",
      "27/27 [==============================] - 1s 53ms/step - loss: 82988.1328 - val_loss: 83664.3281\n",
      "Epoch 34/100\n",
      "27/27 [==============================] - 1s 51ms/step - loss: 82988.1328 - val_loss: 83664.3281\n",
      "Epoch 35/100\n",
      "27/27 [==============================] - 1s 53ms/step - loss: 82988.1250 - val_loss: 83664.3281\n",
      "Epoch 36/100\n",
      "27/27 [==============================] - 1s 52ms/step - loss: 82988.1250 - val_loss: 83664.3281\n",
      "Epoch 37/100\n",
      "27/27 [==============================] - 1s 52ms/step - loss: 82988.1172 - val_loss: 83664.3281\n",
      "Epoch 38/100\n",
      "27/27 [==============================] - 1s 53ms/step - loss: 82988.1250 - val_loss: 83664.3281\n",
      "Epoch 39/100\n",
      "27/27 [==============================] - 1s 54ms/step - loss: 82988.1094 - val_loss: 83664.3281\n",
      "Epoch 40/100\n",
      "27/27 [==============================] - 1s 55ms/step - loss: 82988.1172 - val_loss: 83664.3281\n",
      "Epoch 41/100\n",
      "27/27 [==============================] - 1s 53ms/step - loss: 82988.1172 - val_loss: 83664.3281\n",
      "Epoch 42/100\n",
      "27/27 [==============================] - 1s 54ms/step - loss: 82988.1250 - val_loss: 83664.3281\n",
      "Epoch 43/100\n",
      "27/27 [==============================] - 1s 53ms/step - loss: 82988.1250 - val_loss: 83664.3281\n",
      "Epoch 44/100\n",
      "27/27 [==============================] - 1s 53ms/step - loss: 82988.1172 - val_loss: 83664.3281\n",
      "Epoch 45/100\n",
      "27/27 [==============================] - 1s 52ms/step - loss: 82988.1250 - val_loss: 83664.3281\n",
      "Epoch 46/100\n",
      "27/27 [==============================] - 2s 56ms/step - loss: 82988.1328 - val_loss: 83664.3281\n",
      "Epoch 47/100\n",
      "27/27 [==============================] - 2s 58ms/step - loss: 82988.1250 - val_loss: 83664.3281\n",
      "Epoch 48/100\n",
      "27/27 [==============================] - 1s 53ms/step - loss: 82988.1172 - val_loss: 83664.3281\n",
      "Epoch 49/100\n",
      "27/27 [==============================] - 1s 53ms/step - loss: 82988.1250 - val_loss: 83664.3281\n",
      "Epoch 50/100\n",
      "27/27 [==============================] - 1s 53ms/step - loss: 82988.1172 - val_loss: 83664.3281\n",
      "Epoch 51/100\n",
      "27/27 [==============================] - 1s 52ms/step - loss: 82988.1328 - val_loss: 83664.3281\n",
      "Epoch 52/100\n",
      "27/27 [==============================] - 1s 51ms/step - loss: 82988.1172 - val_loss: 83664.3281\n",
      "Epoch 53/100\n",
      "27/27 [==============================] - 1s 52ms/step - loss: 82988.1250 - val_loss: 83664.3281\n",
      "Epoch 54/100\n",
      "27/27 [==============================] - 1s 53ms/step - loss: 82988.1172 - val_loss: 83664.3281\n",
      "Epoch 55/100\n",
      "27/27 [==============================] - 1s 54ms/step - loss: 82988.1250 - val_loss: 83664.3281\n",
      "Epoch 56/100\n",
      "27/27 [==============================] - 1s 53ms/step - loss: 82988.1250 - val_loss: 83664.3281\n",
      "Epoch 57/100\n",
      "27/27 [==============================] - 1s 53ms/step - loss: 82988.1172 - val_loss: 83664.3281\n",
      "Epoch 58/100\n",
      "27/27 [==============================] - 2s 60ms/step - loss: 82988.1250 - val_loss: 83664.3281\n",
      "Epoch 59/100\n",
      "27/27 [==============================] - 1s 56ms/step - loss: 82988.1172 - val_loss: 83664.3281\n",
      "Epoch 60/100\n",
      "27/27 [==============================] - 2s 59ms/step - loss: 82988.1328 - val_loss: 83664.3281\n",
      "Epoch 61/100\n",
      "27/27 [==============================] - 2s 56ms/step - loss: 82988.1172 - val_loss: 83664.3281\n",
      "Epoch 62/100\n",
      "27/27 [==============================] - 2s 57ms/step - loss: 82988.1250 - val_loss: 83664.3281\n",
      "Epoch 63/100\n",
      "27/27 [==============================] - 1s 54ms/step - loss: 82988.1172 - val_loss: 83664.3281\n",
      "Epoch 64/100\n",
      "27/27 [==============================] - 1s 54ms/step - loss: 82988.1250 - val_loss: 83664.3281\n",
      "Epoch 65/100\n",
      "27/27 [==============================] - 1s 54ms/step - loss: 82988.1016 - val_loss: 83664.3281\n",
      "Epoch 66/100\n",
      "27/27 [==============================] - 1s 53ms/step - loss: 82988.1250 - val_loss: 83664.3281\n",
      "Epoch 67/100\n",
      "27/27 [==============================] - 1s 52ms/step - loss: 82988.1172 - val_loss: 83664.3281\n",
      "Epoch 68/100\n",
      "27/27 [==============================] - 2s 58ms/step - loss: 82988.1328 - val_loss: 83664.3281\n",
      "Epoch 69/100\n",
      "27/27 [==============================] - 1s 54ms/step - loss: 82988.1250 - val_loss: 83664.3281\n",
      "Epoch 70/100\n",
      "27/27 [==============================] - 1s 53ms/step - loss: 82988.1250 - val_loss: 83664.3281\n",
      "Epoch 71/100\n",
      "27/27 [==============================] - 1s 55ms/step - loss: 82988.1250 - val_loss: 83664.3281\n",
      "Epoch 72/100\n",
      "27/27 [==============================] - 2s 57ms/step - loss: 82988.1172 - val_loss: 83664.3281\n",
      "Epoch 73/100\n",
      "27/27 [==============================] - 2s 56ms/step - loss: 82988.1172 - val_loss: 83664.3281\n",
      "Epoch 74/100\n",
      "27/27 [==============================] - 2s 56ms/step - loss: 82988.1094 - val_loss: 83664.3281\n",
      "Epoch 75/100\n",
      "27/27 [==============================] - 2s 56ms/step - loss: 82988.1250 - val_loss: 83664.3281\n",
      "Epoch 76/100\n",
      "27/27 [==============================] - 1s 54ms/step - loss: 82988.1172 - val_loss: 83664.3281\n",
      "Epoch 77/100\n",
      "27/27 [==============================] - 1s 52ms/step - loss: 82988.1172 - val_loss: 83664.3281\n",
      "Epoch 78/100\n",
      "27/27 [==============================] - 1s 53ms/step - loss: 82988.1172 - val_loss: 83664.3281\n",
      "Epoch 79/100\n",
      "27/27 [==============================] - 1s 52ms/step - loss: 82988.1172 - val_loss: 83664.3281\n",
      "Epoch 80/100\n",
      "27/27 [==============================] - 2s 58ms/step - loss: 82988.1250 - val_loss: 83664.3281\n",
      "Epoch 81/100\n",
      "27/27 [==============================] - 1s 52ms/step - loss: 82988.1250 - val_loss: 83664.3281\n",
      "Epoch 82/100\n",
      "27/27 [==============================] - 1s 54ms/step - loss: 82988.1172 - val_loss: 83664.3281\n",
      "Epoch 83/100\n",
      "27/27 [==============================] - 1s 54ms/step - loss: 82988.1094 - val_loss: 83664.3281\n",
      "Epoch 84/100\n",
      "27/27 [==============================] - 1s 53ms/step - loss: 82988.1250 - val_loss: 83664.3281\n",
      "Epoch 85/100\n",
      "27/27 [==============================] - 1s 52ms/step - loss: 82988.1328 - val_loss: 83664.3281\n",
      "Epoch 86/100\n",
      "27/27 [==============================] - 1s 52ms/step - loss: 82988.1172 - val_loss: 83664.3281\n",
      "Epoch 87/100\n",
      "27/27 [==============================] - 1s 52ms/step - loss: 82988.1094 - val_loss: 83664.3281\n",
      "Epoch 88/100\n",
      "27/27 [==============================] - 1s 54ms/step - loss: 82988.1250 - val_loss: 83664.3281\n",
      "Epoch 89/100\n",
      "27/27 [==============================] - 1s 53ms/step - loss: 82988.1328 - val_loss: 83664.3281\n",
      "Epoch 90/100\n",
      "27/27 [==============================] - 2s 58ms/step - loss: 82988.1250 - val_loss: 83664.3281\n",
      "Epoch 91/100\n",
      "27/27 [==============================] - 1s 54ms/step - loss: 82988.1172 - val_loss: 83664.3281\n",
      "Epoch 92/100\n",
      "27/27 [==============================] - 1s 53ms/step - loss: 82988.1250 - val_loss: 83664.3281\n",
      "Epoch 93/100\n",
      "27/27 [==============================] - 1s 53ms/step - loss: 82988.1250 - val_loss: 83664.3281\n",
      "Epoch 94/100\n",
      "27/27 [==============================] - 1s 52ms/step - loss: 82988.1250 - val_loss: 83664.3281\n",
      "Epoch 95/100\n",
      "27/27 [==============================] - 1s 53ms/step - loss: 82988.1250 - val_loss: 83664.3281\n",
      "Epoch 96/100\n",
      "27/27 [==============================] - 1s 53ms/step - loss: 82988.1250 - val_loss: 83664.3281\n",
      "Epoch 97/100\n",
      "27/27 [==============================] - 2s 58ms/step - loss: 82988.1172 - val_loss: 83664.3281\n",
      "Epoch 98/100\n",
      "27/27 [==============================] - 1s 55ms/step - loss: 82988.1328 - val_loss: 83664.3281\n",
      "Epoch 99/100\n",
      "27/27 [==============================] - 2s 57ms/step - loss: 82988.1172 - val_loss: 83664.3281\n",
      "Epoch 100/100\n",
      "27/27 [==============================] - 1s 55ms/step - loss: 82988.1172 - val_loss: 83664.3281\n"
     ]
    }
   ],
   "source": [
    "\n",
    "history = autoencoder.fit(test_transaction.iloc[ :10000 ,:], test_transaction.iloc[ :10000 ,:],\n",
    "                          batch_size = 300,\n",
    "                          validation_split = 0.2,\n",
    "                          epochs= 100,\n",
    "                          verbose=1,\n",
    "                          callbacks=[lrr])"
   ]
  },
  {
   "cell_type": "code",
   "execution_count": 91,
   "metadata": {
    "execution": {
     "iopub.execute_input": "2021-01-15T09:02:02.010325Z",
     "iopub.status.busy": "2021-01-15T09:02:02.009544Z",
     "iopub.status.idle": "2021-01-15T09:02:02.302332Z",
     "shell.execute_reply": "2021-01-15T09:02:02.301766Z"
    },
    "papermill": {
     "duration": 1.240312,
     "end_time": "2021-01-15T09:02:02.302458",
     "exception": false,
     "start_time": "2021-01-15T09:02:01.062146",
     "status": "completed"
    },
    "tags": []
   },
   "outputs": [
    {
     "data": {
      "image/png": "[encoded data removed]",
      "text/plain": [
       "<Figure size 432x288 with 1 Axes>"
      ]
     },
     "metadata": {
      "needs_background": "light"
     },
     "output_type": "display_data"
    }
   ],
   "source": [
    "val_loss = history.history['val_loss']\n",
    "loss = history.history['loss']\n",
    "plt.plot(val_loss)\n",
    "plt.plot(loss)\n",
    "plt.xlabel('Epochs')\n",
    "\n",
    "plt.ylabel('Loss')\n",
    "plt.legend(['Val error','Train error'], loc='upper right')\n",
    "plt.savefig('plot_error.png')\n",
    "plt.show()"
   ]
  },
  {
   "cell_type": "code",
   "execution_count": 92,
   "metadata": {
    "execution": {
     "iopub.execute_input": "2021-01-15T09:02:04.176606Z",
     "iopub.status.busy": "2021-01-15T09:02:04.175922Z",
     "iopub.status.idle": "2021-01-15T09:02:04.205353Z",
     "shell.execute_reply": "2021-01-15T09:02:04.205896Z"
    },
    "papermill": {
     "duration": 0.991269,
     "end_time": "2021-01-15T09:02:04.206034",
     "exception": false,
     "start_time": "2021-01-15T09:02:03.214765",
     "status": "completed"
    },
    "tags": []
   },
   "outputs": [
    {
     "name": "stdout",
     "output_type": "stream",
     "text": [
      "Model: \"functional_1\"\n",
      "_________________________________________________________________\n",
      "Layer (type)                 Output Shape              Param #   \n",
      "=================================================================\n",
      "input_layer (InputLayer)     [(None, 64)]              0         \n",
      "_________________________________________________________________\n",
      "dense (Dense)                (None, 64)                4160      \n",
      "_________________________________________________________________\n",
      "dense_1 (Dense)              (None, 32)                2080      \n",
      "_________________________________________________________________\n",
      "dense_2 (Dense)              (None, 2)                 66        \n",
      "=================================================================\n",
      "Total params: 6,306\n",
      "Trainable params: 6,306\n",
      "Non-trainable params: 0\n",
      "_________________________________________________________________\n"
     ]
    }
   ],
   "source": [
    "input_model = Input(64,name = 'input_layer')\n",
    "\n",
    "classifier = Dense(64, activation='relu')(input_model)\n",
    "classifier = Dense(32, activation='relu')(classifier)\n",
    "output = Dense(2, activation='sigmoid')(classifier)\n",
    "\n",
    "classifier = Model(inputs= [input_model], outputs=[output])\n",
    "classifier.summary()"
   ]
  },
  {
   "cell_type": "code",
   "execution_count": 93,
   "metadata": {
    "execution": {
     "iopub.execute_input": "2021-01-15T09:02:06.951347Z",
     "iopub.status.busy": "2021-01-15T09:02:06.950388Z",
     "iopub.status.idle": "2021-01-15T09:02:06.954086Z",
     "shell.execute_reply": "2021-01-15T09:02:06.954919Z"
    },
    "papermill": {
     "duration": 1.431654,
     "end_time": "2021-01-15T09:02:06.955089",
     "exception": false,
     "start_time": "2021-01-15T09:02:05.523435",
     "status": "completed"
    },
    "tags": []
   },
   "outputs": [],
   "source": [
    "sgd=SGD(lr=0.0001, momentum=0.9)\n",
    "classifier.compile(optimizer=sgd, loss='mae' , metrics=['accuracy'])"
   ]
  },
  {
   "cell_type": "code",
   "execution_count": 94,
   "metadata": {
    "execution": {
     "iopub.execute_input": "2021-01-15T09:02:09.722646Z",
     "iopub.status.busy": "2021-01-15T09:02:09.721720Z",
     "iopub.status.idle": "2021-01-15T09:02:09.726337Z",
     "shell.execute_reply": "2021-01-15T09:02:09.727145Z"
    },
    "papermill": {
     "duration": 1.393091,
     "end_time": "2021-01-15T09:02:09.727328",
     "exception": false,
     "start_time": "2021-01-15T09:02:08.334237",
     "status": "completed"
    },
    "tags": []
   },
   "outputs": [],
   "source": [
    "lrr=ReduceLROnPlateau(monitor='val_loss',\n",
    "                       factor=0.1, \n",
    "                       patience=2, \n",
    "                       min_lr=1e-8)"
   ]
  },
  {
   "cell_type": "code",
   "execution_count": 95,
   "metadata": {
    "execution": {
     "iopub.execute_input": "2021-01-15T09:02:12.488333Z",
     "iopub.status.busy": "2021-01-15T09:02:12.487629Z",
     "iopub.status.idle": "2021-01-15T09:02:26.865765Z",
     "shell.execute_reply": "2021-01-15T09:02:26.866290Z"
    },
    "papermill": {
     "duration": 15.765515,
     "end_time": "2021-01-15T09:02:26.866483",
     "exception": false,
     "start_time": "2021-01-15T09:02:11.100968",
     "status": "completed"
    },
    "tags": []
   },
   "outputs": [
    {
     "name": "stdout",
     "output_type": "stream",
     "text": [
      "Epoch 1/100\n",
      "63/63 [==============================] - 0s 4ms/step - loss: 0.0268 - accuracy: 0.9565 - val_loss: 0.0481 - val_accuracy: 0.9405\n",
      "Epoch 2/100\n",
      "63/63 [==============================] - 0s 2ms/step - loss: 0.0252 - accuracy: 0.9685 - val_loss: 0.0450 - val_accuracy: 0.9485\n",
      "Epoch 3/100\n",
      "63/63 [==============================] - 0s 2ms/step - loss: 0.0247 - accuracy: 0.9724 - val_loss: 0.0428 - val_accuracy: 0.9510\n",
      "Epoch 4/100\n",
      "63/63 [==============================] - 0s 2ms/step - loss: 0.0244 - accuracy: 0.9729 - val_loss: 0.0421 - val_accuracy: 0.9520\n",
      "Epoch 5/100\n",
      "63/63 [==============================] - 0s 2ms/step - loss: 0.0243 - accuracy: 0.9736 - val_loss: 0.0417 - val_accuracy: 0.9520\n",
      "Epoch 6/100\n",
      "63/63 [==============================] - 0s 2ms/step - loss: 0.0242 - accuracy: 0.9737 - val_loss: 0.0413 - val_accuracy: 0.9520\n",
      "Epoch 7/100\n",
      "63/63 [==============================] - 0s 2ms/step - loss: 0.0241 - accuracy: 0.9737 - val_loss: 0.0409 - val_accuracy: 0.9525\n",
      "Epoch 8/100\n",
      "63/63 [==============================] - 0s 2ms/step - loss: 0.0239 - accuracy: 0.9739 - val_loss: 0.0402 - val_accuracy: 0.9530\n",
      "Epoch 9/100\n",
      "63/63 [==============================] - 0s 2ms/step - loss: 0.0238 - accuracy: 0.9739 - val_loss: 0.0399 - val_accuracy: 0.9530\n",
      "Epoch 10/100\n",
      "63/63 [==============================] - 0s 2ms/step - loss: 0.0237 - accuracy: 0.9741 - val_loss: 0.0397 - val_accuracy: 0.9530\n",
      "Epoch 11/100\n",
      "63/63 [==============================] - 0s 2ms/step - loss: 0.0237 - accuracy: 0.9741 - val_loss: 0.0396 - val_accuracy: 0.9530\n",
      "Epoch 12/100\n",
      "63/63 [==============================] - 0s 2ms/step - loss: 0.0237 - accuracy: 0.9741 - val_loss: 0.0395 - val_accuracy: 0.9540\n",
      "Epoch 13/100\n",
      "63/63 [==============================] - 0s 2ms/step - loss: 0.0237 - accuracy: 0.9743 - val_loss: 0.0394 - val_accuracy: 0.9540\n",
      "Epoch 14/100\n",
      "63/63 [==============================] - 0s 2ms/step - loss: 0.0237 - accuracy: 0.9743 - val_loss: 0.0394 - val_accuracy: 0.9545\n",
      "Epoch 15/100\n",
      "63/63 [==============================] - 0s 2ms/step - loss: 0.0236 - accuracy: 0.9743 - val_loss: 0.0393 - val_accuracy: 0.9545\n",
      "Epoch 16/100\n",
      "63/63 [==============================] - 0s 2ms/step - loss: 0.0236 - accuracy: 0.9743 - val_loss: 0.0393 - val_accuracy: 0.9545\n",
      "Epoch 17/100\n",
      "63/63 [==============================] - 0s 2ms/step - loss: 0.0236 - accuracy: 0.9743 - val_loss: 0.0393 - val_accuracy: 0.9545\n",
      "Epoch 18/100\n",
      "63/63 [==============================] - 0s 2ms/step - loss: 0.0236 - accuracy: 0.9743 - val_loss: 0.0393 - val_accuracy: 0.9545\n",
      "Epoch 19/100\n",
      "63/63 [==============================] - 0s 2ms/step - loss: 0.0236 - accuracy: 0.9743 - val_loss: 0.0393 - val_accuracy: 0.9545\n",
      "Epoch 20/100\n",
      "63/63 [==============================] - 0s 2ms/step - loss: 0.0236 - accuracy: 0.9743 - val_loss: 0.0393 - val_accuracy: 0.9545\n",
      "Epoch 21/100\n",
      "63/63 [==============================] - 0s 2ms/step - loss: 0.0236 - accuracy: 0.9743 - val_loss: 0.0393 - val_accuracy: 0.9545\n",
      "Epoch 22/100\n",
      "63/63 [==============================] - 0s 2ms/step - loss: 0.0236 - accuracy: 0.9743 - val_loss: 0.0393 - val_accuracy: 0.9545\n",
      "Epoch 23/100\n",
      "63/63 [==============================] - 0s 2ms/step - loss: 0.0236 - accuracy: 0.9743 - val_loss: 0.0393 - val_accuracy: 0.9545\n",
      "Epoch 24/100\n",
      "63/63 [==============================] - 0s 2ms/step - loss: 0.0236 - accuracy: 0.9743 - val_loss: 0.0393 - val_accuracy: 0.9545\n",
      "Epoch 25/100\n",
      "63/63 [==============================] - 0s 2ms/step - loss: 0.0236 - accuracy: 0.9743 - val_loss: 0.0393 - val_accuracy: 0.9545\n",
      "Epoch 26/100\n",
      "63/63 [==============================] - 0s 2ms/step - loss: 0.0236 - accuracy: 0.9743 - val_loss: 0.0393 - val_accuracy: 0.9545\n",
      "Epoch 27/100\n",
      "63/63 [==============================] - 0s 2ms/step - loss: 0.0236 - accuracy: 0.9743 - val_loss: 0.0393 - val_accuracy: 0.9545\n",
      "Epoch 28/100\n",
      "63/63 [==============================] - 0s 2ms/step - loss: 0.0236 - accuracy: 0.9743 - val_loss: 0.0393 - val_accuracy: 0.9545\n",
      "Epoch 29/100\n",
      "63/63 [==============================] - 0s 2ms/step - loss: 0.0236 - accuracy: 0.9743 - val_loss: 0.0393 - val_accuracy: 0.9545\n",
      "Epoch 30/100\n",
      "63/63 [==============================] - 0s 2ms/step - loss: 0.0236 - accuracy: 0.9743 - val_loss: 0.0393 - val_accuracy: 0.9545\n",
      "Epoch 31/100\n",
      "63/63 [==============================] - 0s 2ms/step - loss: 0.0236 - accuracy: 0.9743 - val_loss: 0.0393 - val_accuracy: 0.9545\n",
      "Epoch 32/100\n",
      "63/63 [==============================] - 0s 2ms/step - loss: 0.0236 - accuracy: 0.9743 - val_loss: 0.0393 - val_accuracy: 0.9545\n",
      "Epoch 33/100\n",
      "63/63 [==============================] - 0s 2ms/step - loss: 0.0236 - accuracy: 0.9743 - val_loss: 0.0393 - val_accuracy: 0.9545\n",
      "Epoch 34/100\n",
      "63/63 [==============================] - 0s 2ms/step - loss: 0.0236 - accuracy: 0.9743 - val_loss: 0.0393 - val_accuracy: 0.9545\n",
      "Epoch 35/100\n",
      "63/63 [==============================] - 0s 2ms/step - loss: 0.0236 - accuracy: 0.9743 - val_loss: 0.0393 - val_accuracy: 0.9545\n",
      "Epoch 36/100\n",
      "63/63 [==============================] - 0s 2ms/step - loss: 0.0236 - accuracy: 0.9743 - val_loss: 0.0393 - val_accuracy: 0.9545\n",
      "Epoch 37/100\n",
      "63/63 [==============================] - 0s 2ms/step - loss: 0.0236 - accuracy: 0.9743 - val_loss: 0.0393 - val_accuracy: 0.9545\n",
      "Epoch 38/100\n",
      "63/63 [==============================] - 0s 2ms/step - loss: 0.0236 - accuracy: 0.9743 - val_loss: 0.0393 - val_accuracy: 0.9545\n",
      "Epoch 39/100\n",
      "63/63 [==============================] - 0s 2ms/step - loss: 0.0236 - accuracy: 0.9743 - val_loss: 0.0393 - val_accuracy: 0.9545\n",
      "Epoch 40/100\n",
      "63/63 [==============================] - 0s 2ms/step - loss: 0.0236 - accuracy: 0.9743 - val_loss: 0.0393 - val_accuracy: 0.9545\n",
      "Epoch 41/100\n",
      "63/63 [==============================] - 0s 2ms/step - loss: 0.0236 - accuracy: 0.9743 - val_loss: 0.0393 - val_accuracy: 0.9545\n",
      "Epoch 42/100\n",
      "63/63 [==============================] - 0s 2ms/step - loss: 0.0236 - accuracy: 0.9743 - val_loss: 0.0393 - val_accuracy: 0.9545\n",
      "Epoch 43/100\n",
      "63/63 [==============================] - 0s 2ms/step - loss: 0.0236 - accuracy: 0.9743 - val_loss: 0.0393 - val_accuracy: 0.9545\n",
      "Epoch 44/100\n",
      "63/63 [==============================] - 0s 2ms/step - loss: 0.0236 - accuracy: 0.9743 - val_loss: 0.0393 - val_accuracy: 0.9545\n",
      "Epoch 45/100\n",
      "63/63 [==============================] - 0s 2ms/step - loss: 0.0236 - accuracy: 0.9743 - val_loss: 0.0393 - val_accuracy: 0.9545\n",
      "Epoch 46/100\n",
      "63/63 [==============================] - 0s 2ms/step - loss: 0.0236 - accuracy: 0.9743 - val_loss: 0.0393 - val_accuracy: 0.9545\n",
      "Epoch 47/100\n",
      "63/63 [==============================] - 0s 2ms/step - loss: 0.0236 - accuracy: 0.9743 - val_loss: 0.0393 - val_accuracy: 0.9545\n",
      "Epoch 48/100\n",
      "63/63 [==============================] - 0s 2ms/step - loss: 0.0236 - accuracy: 0.9743 - val_loss: 0.0393 - val_accuracy: 0.9545\n",
      "Epoch 49/100\n",
      "63/63 [==============================] - 0s 2ms/step - loss: 0.0236 - accuracy: 0.9743 - val_loss: 0.0393 - val_accuracy: 0.9545\n",
      "Epoch 50/100\n",
      "63/63 [==============================] - 0s 2ms/step - loss: 0.0236 - accuracy: 0.9743 - val_loss: 0.0393 - val_accuracy: 0.9545\n",
      "Epoch 51/100\n",
      "63/63 [==============================] - 0s 2ms/step - loss: 0.0236 - accuracy: 0.9743 - val_loss: 0.0393 - val_accuracy: 0.9545\n",
      "Epoch 52/100\n",
      "63/63 [==============================] - 0s 2ms/step - loss: 0.0236 - accuracy: 0.9743 - val_loss: 0.0393 - val_accuracy: 0.9545\n",
      "Epoch 53/100\n",
      "63/63 [==============================] - 0s 2ms/step - loss: 0.0236 - accuracy: 0.9743 - val_loss: 0.0393 - val_accuracy: 0.9545\n",
      "Epoch 54/100\n",
      "63/63 [==============================] - 0s 2ms/step - loss: 0.0236 - accuracy: 0.9743 - val_loss: 0.0393 - val_accuracy: 0.9545\n",
      "Epoch 55/100\n",
      "63/63 [==============================] - 0s 2ms/step - loss: 0.0236 - accuracy: 0.9743 - val_loss: 0.0393 - val_accuracy: 0.9545\n",
      "Epoch 56/100\n",
      "63/63 [==============================] - 0s 2ms/step - loss: 0.0236 - accuracy: 0.9743 - val_loss: 0.0393 - val_accuracy: 0.9545\n",
      "Epoch 57/100\n",
      "63/63 [==============================] - 0s 2ms/step - loss: 0.0236 - accuracy: 0.9743 - val_loss: 0.0393 - val_accuracy: 0.9545\n",
      "Epoch 58/100\n",
      "63/63 [==============================] - 0s 2ms/step - loss: 0.0236 - accuracy: 0.9743 - val_loss: 0.0393 - val_accuracy: 0.9545\n",
      "Epoch 59/100\n",
      "63/63 [==============================] - 0s 2ms/step - loss: 0.0236 - accuracy: 0.9743 - val_loss: 0.0393 - val_accuracy: 0.9545\n",
      "Epoch 60/100\n",
      "63/63 [==============================] - 0s 2ms/step - loss: 0.0236 - accuracy: 0.9743 - val_loss: 0.0393 - val_accuracy: 0.9545\n",
      "Epoch 61/100\n",
      "63/63 [==============================] - 0s 2ms/step - loss: 0.0236 - accuracy: 0.9743 - val_loss: 0.0393 - val_accuracy: 0.9545\n",
      "Epoch 62/100\n",
      "63/63 [==============================] - 0s 2ms/step - loss: 0.0236 - accuracy: 0.9743 - val_loss: 0.0393 - val_accuracy: 0.9545\n",
      "Epoch 63/100\n",
      "63/63 [==============================] - 0s 2ms/step - loss: 0.0236 - accuracy: 0.9743 - val_loss: 0.0393 - val_accuracy: 0.9545\n",
      "Epoch 64/100\n",
      "63/63 [==============================] - 0s 2ms/step - loss: 0.0236 - accuracy: 0.9743 - val_loss: 0.0393 - val_accuracy: 0.9545\n",
      "Epoch 65/100\n",
      "63/63 [==============================] - 0s 2ms/step - loss: 0.0236 - accuracy: 0.9743 - val_loss: 0.0393 - val_accuracy: 0.9545\n",
      "Epoch 66/100\n",
      "63/63 [==============================] - 0s 2ms/step - loss: 0.0236 - accuracy: 0.9743 - val_loss: 0.0393 - val_accuracy: 0.9545\n",
      "Epoch 67/100\n",
      "63/63 [==============================] - 0s 2ms/step - loss: 0.0236 - accuracy: 0.9743 - val_loss: 0.0393 - val_accuracy: 0.9545\n",
      "Epoch 68/100\n",
      "63/63 [==============================] - 0s 2ms/step - loss: 0.0236 - accuracy: 0.9743 - val_loss: 0.0393 - val_accuracy: 0.9545\n",
      "Epoch 69/100\n",
      "63/63 [==============================] - 0s 2ms/step - loss: 0.0236 - accuracy: 0.9743 - val_loss: 0.0393 - val_accuracy: 0.9545\n",
      "Epoch 70/100\n",
      "63/63 [==============================] - 0s 2ms/step - loss: 0.0236 - accuracy: 0.9743 - val_loss: 0.0393 - val_accuracy: 0.9545\n",
      "Epoch 71/100\n",
      "63/63 [==============================] - 0s 2ms/step - loss: 0.0236 - accuracy: 0.9743 - val_loss: 0.0393 - val_accuracy: 0.9545\n",
      "Epoch 72/100\n",
      "63/63 [==============================] - 0s 2ms/step - loss: 0.0236 - accuracy: 0.9743 - val_loss: 0.0393 - val_accuracy: 0.9545\n",
      "Epoch 73/100\n",
      "63/63 [==============================] - 0s 2ms/step - loss: 0.0236 - accuracy: 0.9743 - val_loss: 0.0393 - val_accuracy: 0.9545\n",
      "Epoch 74/100\n",
      "63/63 [==============================] - 0s 2ms/step - loss: 0.0236 - accuracy: 0.9743 - val_loss: 0.0393 - val_accuracy: 0.9545\n",
      "Epoch 75/100\n",
      "63/63 [==============================] - 0s 2ms/step - loss: 0.0236 - accuracy: 0.9743 - val_loss: 0.0393 - val_accuracy: 0.9545\n",
      "Epoch 76/100\n",
      "63/63 [==============================] - 0s 2ms/step - loss: 0.0236 - accuracy: 0.9743 - val_loss: 0.0393 - val_accuracy: 0.9545\n",
      "Epoch 77/100\n",
      "63/63 [==============================] - 0s 2ms/step - loss: 0.0236 - accuracy: 0.9743 - val_loss: 0.0393 - val_accuracy: 0.9545\n",
      "Epoch 78/100\n",
      "63/63 [==============================] - 0s 2ms/step - loss: 0.0236 - accuracy: 0.9743 - val_loss: 0.0393 - val_accuracy: 0.9545\n",
      "Epoch 79/100\n",
      "63/63 [==============================] - 0s 2ms/step - loss: 0.0236 - accuracy: 0.9743 - val_loss: 0.0393 - val_accuracy: 0.9545\n",
      "Epoch 80/100\n",
      "63/63 [==============================] - 0s 2ms/step - loss: 0.0236 - accuracy: 0.9743 - val_loss: 0.0393 - val_accuracy: 0.9545\n",
      "Epoch 81/100\n",
      "63/63 [==============================] - 0s 2ms/step - loss: 0.0236 - accuracy: 0.9743 - val_loss: 0.0393 - val_accuracy: 0.9545\n",
      "Epoch 82/100\n",
      "63/63 [==============================] - 0s 2ms/step - loss: 0.0236 - accuracy: 0.9743 - val_loss: 0.0393 - val_accuracy: 0.9545\n",
      "Epoch 83/100\n",
      "63/63 [==============================] - 0s 2ms/step - loss: 0.0236 - accuracy: 0.9743 - val_loss: 0.0393 - val_accuracy: 0.9545\n",
      "Epoch 84/100\n",
      "63/63 [==============================] - 0s 2ms/step - loss: 0.0236 - accuracy: 0.9743 - val_loss: 0.0393 - val_accuracy: 0.9545\n",
      "Epoch 85/100\n",
      "63/63 [==============================] - 0s 2ms/step - loss: 0.0236 - accuracy: 0.9743 - val_loss: 0.0393 - val_accuracy: 0.9545\n",
      "Epoch 86/100\n",
      "63/63 [==============================] - 0s 2ms/step - loss: 0.0236 - accuracy: 0.9743 - val_loss: 0.0393 - val_accuracy: 0.9545\n",
      "Epoch 87/100\n",
      "63/63 [==============================] - 0s 2ms/step - loss: 0.0236 - accuracy: 0.9743 - val_loss: 0.0393 - val_accuracy: 0.9545\n",
      "Epoch 88/100\n",
      "63/63 [==============================] - 0s 2ms/step - loss: 0.0236 - accuracy: 0.9743 - val_loss: 0.0393 - val_accuracy: 0.9545\n",
      "Epoch 89/100\n",
      "63/63 [==============================] - 0s 2ms/step - loss: 0.0236 - accuracy: 0.9743 - val_loss: 0.0393 - val_accuracy: 0.9545\n",
      "Epoch 90/100\n",
      "63/63 [==============================] - 0s 2ms/step - loss: 0.0236 - accuracy: 0.9743 - val_loss: 0.0393 - val_accuracy: 0.9545\n",
      "Epoch 91/100\n",
      "63/63 [==============================] - 0s 2ms/step - loss: 0.0236 - accuracy: 0.9743 - val_loss: 0.0393 - val_accuracy: 0.9545\n",
      "Epoch 92/100\n",
      "63/63 [==============================] - 0s 2ms/step - loss: 0.0236 - accuracy: 0.9743 - val_loss: 0.0393 - val_accuracy: 0.9545\n",
      "Epoch 93/100\n",
      "63/63 [==============================] - 0s 2ms/step - loss: 0.0236 - accuracy: 0.9743 - val_loss: 0.0393 - val_accuracy: 0.9545\n",
      "Epoch 94/100\n",
      "63/63 [==============================] - 0s 2ms/step - loss: 0.0236 - accuracy: 0.9743 - val_loss: 0.0393 - val_accuracy: 0.9545\n",
      "Epoch 95/100\n",
      "63/63 [==============================] - 0s 2ms/step - loss: 0.0236 - accuracy: 0.9743 - val_loss: 0.0393 - val_accuracy: 0.9545\n",
      "Epoch 96/100\n",
      "63/63 [==============================] - 0s 2ms/step - loss: 0.0236 - accuracy: 0.9743 - val_loss: 0.0393 - val_accuracy: 0.9545\n",
      "Epoch 97/100\n",
      "63/63 [==============================] - 0s 2ms/step - loss: 0.0236 - accuracy: 0.9743 - val_loss: 0.0393 - val_accuracy: 0.9545\n",
      "Epoch 98/100\n",
      "63/63 [==============================] - 0s 2ms/step - loss: 0.0236 - accuracy: 0.9743 - val_loss: 0.0393 - val_accuracy: 0.9545\n",
      "Epoch 99/100\n",
      "63/63 [==============================] - 0s 2ms/step - loss: 0.0236 - accuracy: 0.9743 - val_loss: 0.0393 - val_accuracy: 0.9545\n",
      "Epoch 100/100\n",
      "63/63 [==============================] - 0s 2ms/step - loss: 0.0236 - accuracy: 0.9743 - val_loss: 0.0393 - val_accuracy: 0.9545\n"
     ]
    }
   ],
   "source": [
    "latent_vector=Encoder.predict(train_transaction[:10000])\n",
    "history = classifier.fit(latent_vector ,y[:10000],\n",
    "               batch_size = 128,\n",
    "               validation_split = 0.2,\n",
    "               epochs= 100,\n",
    "               verbose=1,\n",
    "               callbacks=[lrr]\n",
    "               )"
   ]
  },
  {
   "cell_type": "code",
   "execution_count": 96,
   "metadata": {
    "execution": {
     "iopub.execute_input": "2021-01-15T09:02:28.948524Z",
     "iopub.status.busy": "2021-01-15T09:02:28.947703Z",
     "iopub.status.idle": "2021-01-15T09:02:29.182617Z",
     "shell.execute_reply": "2021-01-15T09:02:29.183437Z"
    },
    "papermill": {
     "duration": 1.293254,
     "end_time": "2021-01-15T09:02:29.183719",
     "exception": false,
     "start_time": "2021-01-15T09:02:27.890465",
     "status": "completed"
    },
    "tags": []
   },
   "outputs": [
    {
     "data": {
      "image/png": "[encoded data removed]",
      "text/plain": [
       "<Figure size 432x288 with 1 Axes>"
      ]
     },
     "metadata": {
      "needs_background": "light"
     },
     "output_type": "display_data"
    }
   ],
   "source": [
    "val_loss = history.history['val_loss']\n",
    "loss = history.history['loss']\n",
    "plt.plot(val_loss)\n",
    "plt.plot(loss)\n",
    "plt.xlabel('Epochs')\n",
    "plt.ylabel('Loss')\n",
    "plt.legend(['Val error','Train error'], loc='upper right')\n",
    "plt.savefig('classifier_plot_error.png')\n",
    "plt.show()"
   ]
  },
  {
   "cell_type": "code",
   "execution_count": 97,
   "metadata": {
    "execution": {
     "iopub.execute_input": "2021-01-15T09:02:31.828116Z",
     "iopub.status.busy": "2021-01-15T09:02:31.827107Z",
     "iopub.status.idle": "2021-01-15T09:02:32.061113Z",
     "shell.execute_reply": "2021-01-15T09:02:32.060506Z"
    },
    "papermill": {
     "duration": 1.271576,
     "end_time": "2021-01-15T09:02:32.061226",
     "exception": false,
     "start_time": "2021-01-15T09:02:30.789650",
     "status": "completed"
    },
    "tags": []
   },
   "outputs": [
    {
     "data": {
      "image/png": "[encoded data removed]",
      "text/plain": [
       "<Figure size 432x288 with 1 Axes>"
      ]
     },
     "metadata": {
      "needs_background": "light"
     },
     "output_type": "display_data"
    }
   ],
   "source": [
    "val_accuracy = history.history['val_accuracy']\n",
    "accuracy = history.history['accuracy']\n",
    "\n",
    "plt.plot(val_accuracy)\n",
    "plt.plot(accuracy)\n",
    "plt.xlabel('Epochs')\n",
    "plt.ylabel('accuracy')\n",
    "plt.legend(['Val accuracy','Train accuracy'], loc='lower right')\n",
    "plt.savefig( 'classifier_plot_accuracy.png')\n",
    "plt.show()"
   ]
  },
  {
   "cell_type": "code",
   "execution_count": 98,
   "metadata": {
    "execution": {
     "iopub.execute_input": "2021-01-15T09:02:34.089441Z",
     "iopub.status.busy": "2021-01-15T09:02:34.088744Z",
     "iopub.status.idle": "2021-01-15T09:02:48.001540Z",
     "shell.execute_reply": "2021-01-15T09:02:48.000892Z"
    },
    "papermill": {
     "duration": 14.922755,
     "end_time": "2021-01-15T09:02:48.001680",
     "exception": false,
     "start_time": "2021-01-15T09:02:33.078925",
     "status": "completed"
    },
    "tags": []
   },
   "outputs": [
    {
     "data": {
      "text/plain": [
       "array([[0.494306  , 0.49350336],\n",
       "       [0.47192615, 0.47305048],\n",
       "       [0.49208066, 0.49155796],\n",
       "       ...,\n",
       "       [0.49464092, 0.5910552 ],\n",
       "       [0.49327207, 0.5877091 ],\n",
       "       [0.49287757, 0.5856948 ]], dtype=float32)"
      ]
     },
     "execution_count": 98,
     "metadata": {},
     "output_type": "execute_result"
    }
   ],
   "source": [
    "predicted_latentvec=Encoder.predict(test_transaction)\n",
    "predicted=classifier.predict(predicted_latentvec)\n",
    "predicted"
   ]
  }
 ],
 "metadata": {
  "kernelspec": {
   "display_name": "Python 3",
   "language": "python",
   "name": "python3"
  },
  "language_info": {
   "codemirror_mode": {
    "name": "ipython",
    "version": 3
   },
   "file_extension": ".py",
   "mimetype": "text/x-python",
   "name": "python",
   "nbconvert_exporter": "python",
   "pygments_lexer": "ipython3",
   "version": "3.7.6"
  },
  "papermill": {
   "duration": 304.801914,
   "end_time": "2021-01-15T09:02:49.242045",
   "environment_variables": {},
   "exception": null,
   "input_path": "__notebook__.ipynb",
   "output_path": "__notebook__.ipynb",
   "parameters": {},
   "start_time": "2021-01-15T08:57:44.440131",
   "version": "2.1.0"
  }
 },
 "nbformat": 4,
 "nbformat_minor": 4
}
